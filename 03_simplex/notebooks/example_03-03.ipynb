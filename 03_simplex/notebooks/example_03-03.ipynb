{
 "cells": [
  {
   "cell_type": "markdown",
   "id": "complete-estimate",
   "metadata": {},
   "source": [
    "# Example 03-03\n",
    "\n",
    "$$\\max Z = 2x_1 + x_2$$\n",
    "\n",
    "\\begin{align}\n",
    "x_1 + 2x_2 & \\leq 10 \\\\\n",
    "x_1 + x_2 & \\leq 6 \\\\\n",
    "x_1 - x_2 & \\leq 2 \\\\\n",
    "x_1 - 2x_2 & \\leq 1 \\\\\n",
    "x_1, x_2 & \\geq 0 \\\\\n",
    "\\end{align}"
   ]
  },
  {
   "cell_type": "code",
   "execution_count": null,
   "id": "political-easter",
   "metadata": {},
   "outputs": [],
   "source": [
    "import numpy as np\n",
    "import matplotlib.pyplot as plt\n",
    "%matplotlib inline"
   ]
  },
  {
   "cell_type": "code",
   "execution_count": null,
   "id": "plastic-leadership",
   "metadata": {},
   "outputs": [],
   "source": [
    "x = np.linspace(0, 100, 50)"
   ]
  },
  {
   "cell_type": "code",
   "execution_count": null,
   "id": "suspected-latin",
   "metadata": {},
   "outputs": [],
   "source": [
    "eq1 = (10 - x) / 2  # x2 <=  (10 - x1 ) / 2\n",
    "eq2 =   6 - x       # x2 <=    6 - x1\n",
    "eq3 =   x - 2       # x2 >=    x -  2\n",
    "eq4 = ( x - 1) / 2  # x2 >=  ( x - 1)  / 2"
   ]
  },
  {
   "cell_type": "code",
   "execution_count": null,
   "id": "operational-rescue",
   "metadata": {},
   "outputs": [],
   "source": [
    "zeq = lambda x1, z:  z - 2*x1  # x2 = Z - 2x1"
   ]
  },
  {
   "cell_type": "code",
   "execution_count": null,
   "id": "dynamic-communist",
   "metadata": {},
   "outputs": [],
   "source": [
    "equations_list = [(x, eq1),\n",
    "                 (x, eq2),\n",
    "                 (x, eq3),\n",
    "                 (x, eq4),\n",
    "                 ]"
   ]
  },
  {
   "cell_type": "code",
   "execution_count": null,
   "id": "retained-marijuana",
   "metadata": {},
   "outputs": [],
   "source": [
    "equations_label = [r\"$x_1 + 2x_2 = 10$\",\n",
    "                  r\"$x_1 + x_2 = 6 $\",\n",
    "                  r\"$x_1 - x_2 = 2$\",\n",
    "                  r\"$x_1 - 2x_2 = 1$\",\n",
    "                  ]  "
   ]
  },
  {
   "cell_type": "code",
   "execution_count": null,
   "id": "skilled-roman",
   "metadata": {
    "scrolled": false
   },
   "outputs": [],
   "source": [
    "plt.figure(figsize=(8,8))\n",
    "plt.axvline(0, color=\"0.4\")   # xAxis\n",
    "plt.axhline(0, color=\"0.4\")   # yAxis\n",
    "# equations\n",
    "for eq, eqlabel in zip(equations_list, equations_label):\n",
    "    plt.plot(*eq, lw=2, label=eqlabel )\n",
    "# z function\n",
    "plt.plot(x, zeq(x, 0), lw=3, ls=\"--\", color=\"magenta\", alpha=0.4, label=r\"$\\max Z = 2x_1 + x_2$\")\n",
    "for i in np.linspace(2, 6, 3):\n",
    "    plt.plot(x, zeq(x, i), lw=3, ls=\"--\", color=\"magenta\", alpha=0.4)\n",
    "# areas\n",
    "plt.fill_between(x, eq1, eq1 - 2, facecolor=\"blue\", alpha=0.2)    # <=\n",
    "plt.fill_between(x, eq2, eq2 - 2, facecolor=\"orange\", alpha=0.2)  # <=\n",
    "plt.fill_between(x, eq3, eq3 + 2, facecolor=\"green\", alpha=0.2)   # >=\n",
    "plt.fill_between(x, eq4, eq4 + 2, facecolor=\"red\", alpha=0.2)     # >=\n",
    "#\n",
    "plt.xlim(-1, 10)\n",
    "plt.ylim(-1, 9)\n",
    "plt.legend(fontsize=12, loc=\"upper right\")"
   ]
  },
  {
   "cell_type": "code",
   "execution_count": null,
   "id": "filled-killing",
   "metadata": {},
   "outputs": [],
   "source": [
    "A = np.array([# color   Index\n",
    "    [1,  2],  # blue    0\n",
    "    [1,  1],  # orange  1\n",
    "    [1, -1],  # green   2\n",
    "    [1, -2],  # red     3\n",
    "    [0,  1],  # xAxis   4\n",
    "    [1,  0],  # yAxis   5\n",
    "])"
   ]
  },
  {
   "cell_type": "code",
   "execution_count": null,
   "id": "knowing-iceland",
   "metadata": {},
   "outputs": [],
   "source": [
    "b = np.array([10,\n",
    "               6,\n",
    "               2,\n",
    "               1,\n",
    "               0,\n",
    "               0,\n",
    "             ])"
   ]
  },
  {
   "cell_type": "code",
   "execution_count": null,
   "id": "square-desert",
   "metadata": {},
   "outputs": [],
   "source": [
    "equations_index = [\n",
    "    (4, 5),    # xAxis, yAxis\n",
    "    (3, 4),    # xAxis, red\n",
    "    (2, 3),    # green, red\n",
    "    (1, 2),    # orange, green\n",
    "    (0, 1),    # blue, orange\n",
    "    (0, 5),    # blue, yAxis\n",
    "]"
   ]
  },
  {
   "cell_type": "code",
   "execution_count": null,
   "id": "welcome-season",
   "metadata": {},
   "outputs": [],
   "source": [
    "points = [np.linalg.solve(A[[*i]], b[[*i]] ) for i in equations_index]"
   ]
  },
  {
   "cell_type": "code",
   "execution_count": null,
   "id": "recent-phenomenon",
   "metadata": {},
   "outputs": [],
   "source": [
    "best_index, best_value = max(enumerate(2*x1 + x2 for x1, x2 in points), key=lambda t:t[1]) \n",
    "best_point = points[best_index]"
   ]
  },
  {
   "cell_type": "code",
   "execution_count": null,
   "id": "artistic-locking",
   "metadata": {},
   "outputs": [],
   "source": [
    "coordinates = [*zip(*points)]"
   ]
  },
  {
   "cell_type": "code",
   "execution_count": null,
   "id": "searching-closer",
   "metadata": {},
   "outputs": [],
   "source": [
    "plt.figure(figsize=(8,8))\n",
    "plt.axvline(0, color=\"0.4\")   # xAxis\n",
    "plt.axhline(0, color=\"0.4\")   # yAxis\n",
    "# equations\n",
    "for eq, eqlabel in zip(equations_list, equations_label):\n",
    "    plt.plot(*eq, lw=2, label=eqlabel )\n",
    "# z function\n",
    "plt.plot(x, zeq(x, 0), lw=3, ls=\"--\", color=\"magenta\", alpha=0.4, label=r\"$\\max Z = 2x_1 + x_2$\")\n",
    "for i in np.linspace(2, 6, 3):\n",
    "    plt.plot(x, zeq(x, i), lw=3, ls=\"--\", color=\"magenta\", alpha=0.4)\n",
    "\n",
    "# z optimal line\n",
    "plt.plot(x, zeq(x, best_value), lw=4, ls=\"--\", color=\"magenta\", alpha=0.4)\n",
    "# corner points\n",
    "for point in points:\n",
    "    plt.plot(*point, color=\"k\", marker=\"o\", ms=5)\n",
    "# best point    \n",
    "plt.plot(*best_point, color=\"red\", marker=\"*\", ms=12)\n",
    "\n",
    "# feasible area\n",
    "plt.fill(*coordinates, facecolor=\"yellow\", alpha=0.4)\n",
    "# plt.fill(coordinates[0], coordinates[1], facecolor=\"yellow\", alpha=0.4)\n",
    "\n",
    "#\n",
    "plt.xlim(-1, 10)\n",
    "plt.ylim(-1, 9)\n",
    "plt.legend(fontsize=12, loc=\"upper right\")"
   ]
  }
 ],
 "metadata": {
  "kernelspec": {
   "display_name": "Python 3",
   "language": "python",
   "name": "python3"
  },
  "language_info": {
   "codemirror_mode": {
    "name": "ipython",
    "version": 3
   },
   "file_extension": ".py",
   "mimetype": "text/x-python",
   "name": "python",
   "nbconvert_exporter": "python",
   "pygments_lexer": "ipython3",
   "version": "3.7.3"
  }
 },
 "nbformat": 4,
 "nbformat_minor": 5
}
