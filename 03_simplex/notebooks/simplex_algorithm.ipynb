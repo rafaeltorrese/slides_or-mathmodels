{
 "cells": [
  {
   "cell_type": "code",
   "execution_count": 2,
   "metadata": {},
   "outputs": [],
   "source": [
    "import numpy as np"
   ]
  },
  {
   "cell_type": "code",
   "execution_count": 62,
   "metadata": {},
   "outputs": [],
   "source": [
    "def simplex(matrix, rhs, z, numxvars, direction=1):\n",
    "    '''Simplex algorithm to solve linear programming problems\n",
    "    \n",
    "    Parameters\n",
    "    ----------\n",
    "    matrix: numpy ndarray\n",
    "        Matrix of coefficients in the left-hand side\n",
    "    \n",
    "    rhs: numpy ndarray\n",
    "        Right-hand side vector\n",
    "    \n",
    "    numxvars: int\n",
    "        Number of x variables\n",
    "        \n",
    "    direction: {+1 , -1}\n",
    "        For maximization problems use +1 and for minimization problems use -1 instead.\n",
    "    '''\n",
    "    infinity_ratios = np.full(rhs.size, np.inf)  # infinity\n",
    "    solution = np.zeros_like(z)\n",
    "    num_rows, num_cols = matrix.shape\n",
    "    \n",
    "    onecols = np.where(matrix == 1)[1]\n",
    "    cb_index = onecols[onecols >= numxvars]\n",
    "    \n",
    "    iteration = 0\n",
    "    \n",
    "    cb = z[cb_index]\n",
    "    \n",
    "    zj = cb.dot(matrix)\n",
    "    net_evaluation = direction * (z - zj)\n",
    "\n",
    "    while np.any(net_evaluation > 0):\n",
    "        entering = net_evaluation.argmax()  # entering variables (index)\n",
    "        \n",
    "        key_col = matrix[ : , entering]\n",
    "        ratios = np.divide(rhs, key_col, out=infinity_ratios, where=key_col>0)\n",
    "        leaving = ratios.argmin()   # leaving variables (index)\n",
    "        \n",
    "        pivot = matrix[leaving, entering]\n",
    "        \n",
    "        if pivot != 1:\n",
    "            matrix[leaving] = matrix[leaving] / pivot\n",
    "            rhs[leaving] = rhs[leaving] / pivot\n",
    "        \n",
    "        for i in range(num_rows):\n",
    "            if i == leaving:\n",
    "                continue\n",
    "            factor = matrix[i, entering]\n",
    "            matrix[i] = -factor * matrix[leaving] + matrix[i]\n",
    "            rhs[i] = -factor * rhs[leaving] + rhs[i]\n",
    "        \n",
    "        cb_index[leaving] = entering\n",
    "        \n",
    "        cb = cj[cb_index]\n",
    "        zj = cb.dot(matrix)\n",
    "        net_evaluation = direction * (z - zj)\n",
    "\n",
    "        solution[~cb_index] = 0  # non-basics\n",
    "        solution[cb_index] = rhs  # basics\n",
    "        \n",
    "        print(matrix, \"\\n\")\n",
    "        print(\"Solution\", solution, \"\\n\")\n",
    "        \n",
    "        iteration += 1\n",
    "        \n",
    "        if np.all(net_evaluation <= 0):\n",
    "            print(f\"Optimal solution found in {iteration} iterations with solution {solution}\" )"
   ]
  },
  {
   "cell_type": "code",
   "execution_count": 63,
   "metadata": {},
   "outputs": [],
   "source": [
    "cj = np.array( [2,1,0,0,0,0]  ,  dtype=float)\n",
    "\n",
    "A = np.array( [\n",
    "    [1,  2, 1,0,0,0],  # 0\n",
    "    [1,  1, 0,1,0,0],  # 1\n",
    "    [1, -1, 0,0,1,0],\n",
    "    [1, -2, 0,0,0,1],\n",
    "] , dtype=float)\n",
    "\n",
    "b = np.array( [10, 6, 2, 1] , dtype=float )"
   ]
  },
  {
   "cell_type": "code",
   "execution_count": 64,
   "metadata": {},
   "outputs": [
    {
     "name": "stdout",
     "output_type": "stream",
     "text": [
      "[[ 0.  4.  1.  0.  0. -1.]\n",
      " [ 0.  3.  0.  1.  0. -1.]\n",
      " [ 0.  1.  0.  0.  1. -1.]\n",
      " [ 1. -2.  0.  0.  0.  1.]] \n",
      "\n",
      "Solution [1. 0. 9. 5. 1. 0.] \n",
      "\n",
      "[[ 0.  0.  1.  0. -4.  3.]\n",
      " [ 0.  0.  0.  1. -3.  2.]\n",
      " [ 0.  1.  0.  0.  1. -1.]\n",
      " [ 1.  0.  0.  0.  2. -1.]] \n",
      "\n",
      "Solution [3. 1. 5. 2. 0. 0.] \n",
      "\n",
      "[[ 0.   0.   1.  -1.5  0.5  0. ]\n",
      " [ 0.   0.   0.   0.5 -1.5  1. ]\n",
      " [ 0.   1.   0.   0.5 -0.5  0. ]\n",
      " [ 1.   0.   0.   0.5  0.5  0. ]] \n",
      "\n",
      "Solution [4. 2. 2. 0. 0. 1.] \n",
      "\n",
      "Optimal solution found in 3 iterations with solution [4. 2. 2. 0. 0. 1.]\n"
     ]
    }
   ],
   "source": [
    "simplex(matrix=A, rhs=b, z=cj, numxvars=2, direction=1)"
   ]
  },
  {
   "cell_type": "code",
   "execution_count": 66,
   "metadata": {},
   "outputs": [],
   "source": [
    "cj = np.array( [12, 20, 0, 0, 1000, 1000]  ,  dtype=float)\n",
    "\n",
    "A = np.array( [\n",
    "    [6,  8, -1,  0, 1, 0],  # 0\n",
    "    [7, 12,  0, -1, 0, 1],  # 1\n",
    "] , dtype=float)\n",
    "\n",
    "b = np.array( [100, 120] , dtype=float )"
   ]
  },
  {
   "cell_type": "code",
   "execution_count": 67,
   "metadata": {},
   "outputs": [
    {
     "name": "stdout",
     "output_type": "stream",
     "text": [
      "[[ 1.33333333  0.         -1.          0.66666667  1.         -0.66666667]\n",
      " [ 0.58333333  1.          0.         -0.08333333  0.          0.08333333]] \n",
      "\n",
      "Solution [ 0. 10.  0.  0. 20.  0.] \n",
      "\n",
      "[[ 1.      0.     -0.75    0.5     0.75   -0.5   ]\n",
      " [ 0.      1.      0.4375 -0.375  -0.4375  0.375 ]] \n",
      "\n",
      "Solution [15.    1.25  0.    0.    0.    0.  ] \n",
      "\n",
      "Optimal solution found in 2 iterations with solution [15.    1.25  0.    0.    0.    0.  ]\n"
     ]
    }
   ],
   "source": [
    "simplex(matrix=A, rhs=b, z=cj, numxvars=2, direction=-1)"
   ]
  }
 ],
 "metadata": {
  "kernelspec": {
   "display_name": "Python 3",
   "language": "python",
   "name": "python3"
  },
  "language_info": {
   "codemirror_mode": {
    "name": "ipython",
    "version": 3
   },
   "file_extension": ".py",
   "mimetype": "text/x-python",
   "name": "python",
   "nbconvert_exporter": "python",
   "pygments_lexer": "ipython3",
   "version": "3.7.3"
  }
 },
 "nbformat": 4,
 "nbformat_minor": 4
}
