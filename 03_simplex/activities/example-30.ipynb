{
 "cells": [
  {
   "cell_type": "markdown",
   "id": "dd03e752",
   "metadata": {},
   "source": [
    "# Ejemplo 30. Dieta\n",
    "\n",
    "La persona quiere decidir los componentes de una dieta que cumpla con sus requerimientos diarios de proteínas, grasas y carbohidratos al costo mínimo. La elección debe hacerse a partir de cuatro tipos diferentes de alimentos. Los rendimientos por unidad de estos alimentos se dan en la tabla siguiente. \n",
    "\n",
    "| Comida        | Proteinas | Grasas | Carbohidratos | Costo \\\\$|\n",
    "|---------------|-----------|--------|---------------|-------|\n",
    "| 1             | 3         | 2      | 6             | 45    |\n",
    "| 2             | 4         | 2      | 4             | 40    |\n",
    "| 3             | 8         | 7      | 7             | 85    |\n",
    "| 4             | 6         | 5      | 4             | 65    |\n",
    "| ---             |---         |---      |---             |---    |\n",
    "| Requerimiento |           |        |               |       |\n",
    "| mínimo        | 800       | 200    | 700           |       |\n",
    "\n",
    "\n",
    "- Formule un modelo de programación lineal para el problema. \n",
    "- Escribir modelo en formato canónico y formato estándar. \n",
    "- Usar python para representar las matrices y vectores en formato estándar. \n",
    "- Calcular el número de soluciones que se pueden obtener a partir del formato estándar."
   ]
  },
  {
   "cell_type": "markdown",
   "id": "99496069",
   "metadata": {},
   "source": [
    "## Modelo\n",
    "\n",
    "## Forma Canónica\n",
    "\n",
    "## Forma Estándar"
   ]
  },
  {
   "cell_type": "markdown",
   "id": "55920ddf",
   "metadata": {},
   "source": [
    "## Representación de Forma Estándar en Python\n",
    "Recuerden cargar los módulos para trabajar con los arreglos en python. Usar instrucción `import` como vemos en el siguiente ejemplo\n",
    "\n",
    "```python\n",
    "from itertools import combinations\n",
    "import numpy as np\n",
    "```\n",
    "\n",
    "Las matrices y los vectores deben tener el siguiente formato\n",
    "\n",
    "```python\n",
    "A = np.array([\n",
    "    [],\n",
    "    [],\n",
    "])                # left-hand side\n",
    "\n",
    "b = np.array([])  # right-hand side\n",
    "\n",
    "c = np.array([])  # objective function\n",
    "```"
   ]
  },
  {
   "cell_type": "code",
   "execution_count": null,
   "id": "3f9de137",
   "metadata": {},
   "outputs": [],
   "source": []
  },
  {
   "cell_type": "code",
   "execution_count": null,
   "id": "7896e840",
   "metadata": {},
   "outputs": [],
   "source": []
  }
 ],
 "metadata": {
  "kernelspec": {
   "display_name": "data",
   "language": "python",
   "name": "data"
  },
  "language_info": {
   "codemirror_mode": {
    "name": "ipython",
    "version": 3
   },
   "file_extension": ".py",
   "mimetype": "text/x-python",
   "name": "python",
   "nbconvert_exporter": "python",
   "pygments_lexer": "ipython3",
   "version": "3.9.12"
  }
 },
 "nbformat": 4,
 "nbformat_minor": 5
}
