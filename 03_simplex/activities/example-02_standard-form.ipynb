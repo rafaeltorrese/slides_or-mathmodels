{
 "cells": [
  {
   "cell_type": "markdown",
   "id": "03938c08",
   "metadata": {},
   "source": [
    "# Ejemplo 02.\n",
    "\n",
    "Para el modelo que se presenta hacer lo siguiente\n",
    "\n",
    "1. Escribir modelo en formato canónico y formato estándar. \n",
    "1. Usar python para representar las matrices y vectores en formato estándar. \n",
    "1. Calcular el número de soluciones que se pueden obtener a partir del formato estándar.\n",
    "1. Encontrar el valor máximo usando el método gráfico. Incluir imágenes del modelo en dos dimensiones.\n",
    "\n",
    "$$\\max Z = 2x_1 + 3x_2$$\n",
    "<br>\n",
    "<center>sujeto a </center>\n",
    "<br>\n",
    "\n",
    "\\begin{align}\n",
    "x_1 + x_2 &\\leq 30\\\\\n",
    "x_2 &\\geq 3\\\\\n",
    "x_2 &\\leq 12\\\\\n",
    "x_1 - x_2 &\\geq 0\\\\\n",
    "x_1 &\\leq 20\\\\[5mm]\n",
    "x_1, x_2 &\\geq 0\n",
    "\\end{align}\n",
    "\n"
   ]
  },
  {
   "cell_type": "markdown",
   "id": "8f9fd7db",
   "metadata": {},
   "source": [
    "## Modelo\n",
    "\n",
    "## Forma Canónica\n",
    "\n",
    "## Forma Estándar"
   ]
  },
  {
   "cell_type": "markdown",
   "id": "a9a2f2b3",
   "metadata": {},
   "source": [
    "## Representación de Forma Estándar en Python\n",
    "Recuerden cargar los módulos para trabajar con los arreglos en python. Usar instrucción `import` como vemos en el siguiente ejemplo\n",
    "\n",
    "```python\n",
    "from itertools import combinations\n",
    "import numpy as np\n",
    "```\n",
    "\n",
    "Las matrices y los vectores deben tener el siguiente formato\n",
    "\n",
    "```python\n",
    "A = np.array([\n",
    "    [],\n",
    "    [],\n",
    "])                # left-hand side\n",
    "\n",
    "b = np.array([])  # right-hand side\n",
    "\n",
    "c = np.array([])  # objective function\n",
    "```"
   ]
  },
  {
   "cell_type": "code",
   "execution_count": null,
   "id": "607e8c3b",
   "metadata": {},
   "outputs": [],
   "source": []
  },
  {
   "cell_type": "code",
   "execution_count": null,
   "id": "c6758cda",
   "metadata": {},
   "outputs": [],
   "source": []
  }
 ],
 "metadata": {
  "kernelspec": {
   "display_name": "data",
   "language": "python",
   "name": "data"
  },
  "language_info": {
   "codemirror_mode": {
    "name": "ipython",
    "version": 3
   },
   "file_extension": ".py",
   "mimetype": "text/x-python",
   "name": "python",
   "nbconvert_exporter": "python",
   "pygments_lexer": "ipython3",
   "version": "3.9.12"
  }
 },
 "nbformat": 4,
 "nbformat_minor": 5
}
