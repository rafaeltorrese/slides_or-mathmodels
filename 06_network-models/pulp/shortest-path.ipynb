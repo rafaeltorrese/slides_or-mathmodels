{
 "cells": [
  {
   "cell_type": "code",
   "execution_count": 2,
   "metadata": {},
   "outputs": [],
   "source": [
    "\"\"\"\n",
    "Chapter 10. Network Models. Shortest Path.\n",
    "Anderson, David R., Dennis J. Sweeney,\n",
    "Thomas A. Williams,\n",
    "Jeffrey D. Camm y Kipp Martin\n",
    "Quantitative Methods for Business, 11a. Ed\n",
    "\"\"\"\n",
    "from itertools import product\n",
    "import math\n",
    "\n",
    "import pulp as pl\n"
   ]
  },
  {
   "cell_type": "code",
   "execution_count": 3,
   "metadata": {},
   "outputs": [],
   "source": [
    "\n",
    "nodes = range(6)\n",
    "\n",
    "# adjacency_matrix\n",
    "a = [\n",
    "    [0, 1, 1, 0, 0, 0],\n",
    "    [0, 0, 1, 1, 0, 1],\n",
    "    [0, 1, 0, 0, 1, 0],\n",
    "    [0, 1, 0, 0, 1, 1],\n",
    "    [0, 0, 1, 1, 0, 1],\n",
    "    [0, 0, 0, 0, 0, 0],\n",
    "    ]\n",
    "\n",
    "costs = [\n",
    "   [1_000, 25, 20,1_000,1_000,1_000],\n",
    "   [1_000,1_000, 3, 5,1_000, 14],\n",
    "   [1_000, 3,1_000,1_000, 6,1_000],\n",
    "   [1_000, 5,1_000,1_000, 4, 4],\n",
    "   [1_000,1_000, 6, 4,1_000, 7],\n",
    "   [1_000,1_000,1_000,1_000,1_000,1_000],\n",
    "    ]\n",
    "\n",
    "load = {\n",
    "    0: 1, \n",
    "    1: 0,\n",
    "    2: 0,\n",
    "    3: 0,\n",
    "    4: 0,\n",
    "    5: -1,\n",
    "}"
   ]
  },
  {
   "cell_type": "code",
   "execution_count": 4,
   "metadata": {},
   "outputs": [],
   "source": [
    "\n",
    "costs = pl.makeDict((nodes, nodes), costs, 1_000)\n",
    "\n",
    "\n",
    "# problem\n",
    "problem = pl.LpProblem('shortest', pl.LpMinimize)\n",
    "\n",
    "\n",
    "# variables\n",
    "path = pl.LpVariable.dicts('path', (nodes, nodes), 0, None, pl.LpContinuous)\n",
    "\n",
    "# objective function\n",
    "problem += pl.lpSum(costs[i][j] * path[i][j] for j in nodes for i in nodes), 'sum_time_path'\n",
    "\n",
    "\n",
    "# Transhipment Constraints\n",
    "for k in nodes:\n",
    "    problem += pl.lpSum(a[k][out] * path[k][out] for out in nodes) - pl.lpSum(a[enter][k] * path[enter][k] for enter in nodes) == load[k], f'path_to_node_{k}'\n"
   ]
  },
  {
   "cell_type": "code",
   "execution_count": 5,
   "metadata": {},
   "outputs": [
    {
     "name": "stdout",
     "output_type": "stream",
     "text": [
      "Gurobi Optimizer version 9.5.0 build v9.5.0rc5 (win64)\n",
      "Thread count: 4 physical cores, 8 logical processors, using up to 8 threads\n",
      "Optimize a model with 6 rows, 36 columns and 26 nonzeros\n",
      "Model fingerprint: 0xb776b652\n",
      "Coefficient statistics:\n",
      "  Matrix range     [1e+00, 1e+00]\n",
      "  Objective range  [3e+00, 1e+03]\n",
      "  Bounds range     [0e+00, 0e+00]\n",
      "  RHS range        [1e+00, 1e+00]\n",
      "Presolve removed 1 rows and 24 columns\n",
      "Presolve time: 0.01s\n",
      "Presolved: 5 rows, 12 columns, 24 nonzeros\n",
      "\n",
      "Iteration    Objective       Primal Inf.    Dual Inf.      Time\n",
      "       0    2.0000000e+01   2.000000e+00   0.000000e+00      0s\n",
      "       4    3.2000000e+01   0.000000e+00   0.000000e+00      0s\n",
      "\n",
      "Solved in 4 iterations and 0.01 seconds (0.00 work units)\n",
      "Optimal objective  3.200000000e+01\n",
      "Gurobi status= 2\n",
      "Status: Optimal\n",
      "path_0_2: 1.00\n",
      "path_1_3: 1.00\n",
      "path_2_1: 1.00\n",
      "path_3_5: 1.00\n",
      "Total Miles = 32.00\n"
     ]
    }
   ],
   "source": [
    "\n",
    "solver = pl.get_solver('GUROBI') \n",
    "problem.solve(solver)\n",
    "\n",
    "# The status of the solution is printed to the screen\n",
    "print(\"Status:\", pl.LpStatus[problem.status])\n",
    "\n",
    "\n",
    "# Each of the variables is printed with it's resolved optimum value\n",
    "for v in problem.variables():\n",
    "    if v.varValue > 1e-10:\n",
    "        print(f'{v.name}: {v.varValue:,.2f}')\n",
    "\n",
    "print(f'Total Miles = {pl.value(problem.objective):,.2f}')\n"
   ]
  }
 ],
 "metadata": {
  "kernelspec": {
   "display_name": "Python 3.8.5 ('optimization')",
   "language": "python",
   "name": "python3"
  },
  "language_info": {
   "codemirror_mode": {
    "name": "ipython",
    "version": 3
   },
   "file_extension": ".py",
   "mimetype": "text/x-python",
   "name": "python",
   "nbconvert_exporter": "python",
   "pygments_lexer": "ipython3",
   "version": "3.8.5"
  },
  "orig_nbformat": 4,
  "vscode": {
   "interpreter": {
    "hash": "8ca3ee2dd8ddb48c542f12b1b3336693d128ffdd624f01cf835b2c8b54ac3ccd"
   }
  }
 },
 "nbformat": 4,
 "nbformat_minor": 2
}
