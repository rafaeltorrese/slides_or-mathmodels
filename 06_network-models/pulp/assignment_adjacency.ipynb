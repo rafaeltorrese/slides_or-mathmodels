{
 "cells": [
  {
   "cell_type": "code",
   "execution_count": 1,
   "metadata": {},
   "outputs": [],
   "source": [
    "\"\"\"\n",
    "Chapter 10. Network Models. Assignment.\n",
    "Anderson, David R., Dennis J. Sweeney,\n",
    "Thomas A. Williams,\n",
    "Jeffrey D. Camm y Kipp Martin\n",
    "Quantitative Methods for Business, 11a. Ed\n",
    "\"\"\"\n",
    "import pulp as pl\n",
    "from itertools import product"
   ]
  },
  {
   "cell_type": "code",
   "execution_count": 2,
   "metadata": {},
   "outputs": [],
   "source": [
    "a = [\n",
    "    [0, 0, 0, 0, 0, 0],\n",
    "    [0, 0, 0, 0, 0, 0],\n",
    "    [0, 0, 0, 0, 0, 0],\n",
    "    [0, 0, 0, 0, 0, 0],\n",
    "    [0, 0, 0, 0, 0, 0],\n",
    "    [0, 0, 0, 0, 0, 0]]\n",
    "sinks = {\n",
    "    'Customer01': 1,\n",
    "    'Customer02': 1,\n",
    "    'Customer03': 1,\n",
    "}\n",
    "\n",
    "costs =  [\n",
    "    [10, 15, 9],\n",
    "    [9, 18, 5],\n",
    "    [6, 14, 3],\n",
    "]\n",
    "\n",
    "\n",
    "costs = pl.makeDict((sources, sinks), costs, 0)\n",
    "\n"
   ]
  },
  {
   "cell_type": "code",
   "execution_count": 3,
   "metadata": {},
   "outputs": [],
   "source": [
    "\n",
    "# problem\n",
    "problem = pl.LpProblem('Transportation', pl.LpMinimize)\n",
    "\n",
    "# arcs\n",
    "routes = [*product(sources, sinks)]\n",
    "\n",
    "# variables\n",
    "vars = pl.LpVariable.dicts('Assignment', (sources, sinks), 0, None, pl.LpContinuous)\n",
    "# print('\\n', vars)\n",
    "\n",
    "# objective function\n",
    "problem += pl.lpSum(costs[source][sink] * vars[source][sink] for source in sources for sink in sinks), 'Sum_Of_Days'\n",
    "\n",
    "# Supply Constraints\n",
    "for source, supply in sources.items():\n",
    "    problem += pl.lpSum(vars[source][sink] for sink in sinks ) <= supply, f'num_assignment_out_{source}'\n",
    "\n",
    "# Demand Constraint\n",
    "for sink, demand in sinks.items():\n",
    "    problem += pl.lpSum(vars[source][sink] for source in sources) == demand, f'num_assignment_into_{sink}'\n"
   ]
  },
  {
   "cell_type": "code",
   "execution_count": 4,
   "metadata": {},
   "outputs": [
    {
     "name": "stdout",
     "output_type": "stream",
     "text": [
      "Set parameter Username\n",
      "\n",
      "--------------------------------------------\n",
      "Warning: your license will expire in 9 days\n",
      "--------------------------------------------\n",
      "\n",
      "Academic license - for non-commercial use only - expires 2022-11-19\n",
      "Gurobi Optimizer version 9.5.0 build v9.5.0rc5 (win64)\n",
      "Thread count: 4 physical cores, 8 logical processors, using up to 8 threads\n",
      "Optimize a model with 6 rows, 9 columns and 18 nonzeros\n",
      "Model fingerprint: 0xf06ba1b7\n",
      "Coefficient statistics:\n",
      "  Matrix range     [1e+00, 1e+00]\n",
      "  Objective range  [3e+00, 2e+01]\n",
      "  Bounds range     [0e+00, 0e+00]\n",
      "  RHS range        [1e+00, 1e+00]\n",
      "Presolve time: 0.01s\n",
      "Presolved: 6 rows, 9 columns, 18 nonzeros\n",
      "\n",
      "Iteration    Objective       Primal Inf.    Dual Inf.      Time\n",
      "       0    2.3000000e+01   2.000000e+00   0.000000e+00      0s\n",
      "       2    2.6000000e+01   0.000000e+00   0.000000e+00      0s\n",
      "\n",
      "Solved in 2 iterations and 0.01 seconds (0.00 work units)\n",
      "Optimal objective  2.600000000e+01\n",
      "Gurobi status= 2\n",
      "Status: Optimal\n",
      "Assignment_Carle_Customer03: 1.00\n",
      "Assignment_McClymonds_Customer01: 1.00\n",
      "Assignment_Terry_Customer02: 1.00\n",
      "Total Days = 26.00\n"
     ]
    }
   ],
   "source": [
    "\n",
    "solver = pl.get_solver('GUROBI') \n",
    "problem.solve(solver)\n",
    "\n",
    "# The status of the solution is printed to the screen\n",
    "print(\"Status:\", pl.LpStatus[problem.status])\n",
    "\n",
    "\n",
    "# Each of the variables is printed with it's resolved optimum value\n",
    "for v in problem.variables():\n",
    "    if v.varValue > 1e-10:\n",
    "        print(f'{v.name}: {v.varValue:,.2f}')\n",
    "\n",
    "# The optimised objective function value is printed to the screen\n",
    "print(f'Total Days = {pl.value(problem.objective):,.2f}')\n"
   ]
  }
 ],
 "metadata": {
  "kernelspec": {
   "display_name": "Python 3.8.5 ('optimization')",
   "language": "python",
   "name": "python3"
  },
  "language_info": {
   "codemirror_mode": {
    "name": "ipython",
    "version": 3
   },
   "file_extension": ".py",
   "mimetype": "text/x-python",
   "name": "python",
   "nbconvert_exporter": "python",
   "pygments_lexer": "ipython3",
   "version": "3.8.5"
  },
  "orig_nbformat": 4,
  "vscode": {
   "interpreter": {
    "hash": "8ca3ee2dd8ddb48c542f12b1b3336693d128ffdd624f01cf835b2c8b54ac3ccd"
   }
  }
 },
 "nbformat": 4,
 "nbformat_minor": 2
}
