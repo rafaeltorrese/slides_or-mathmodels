{
 "cells": [
  {
   "cell_type": "code",
   "execution_count": 1,
   "metadata": {},
   "outputs": [],
   "source": [
    "\"\"\"\n",
    "Chapter 10. Network Models. Transportation.\n",
    "Anderson, David R., Dennis J. Sweeney,\n",
    "Thomas A. Williams,\n",
    "Jeffrey D. Camm y Kipp Martin\n",
    "Quantitative Methods for Business, 11a. Ed\n",
    "\"\"\"\n",
    "import pulp as pl"
   ]
  },
  {
   "cell_type": "code",
   "execution_count": 2,
   "metadata": {},
   "outputs": [],
   "source": [
    "\n",
    "\n",
    "loads = {\n",
    "    'Cleveland':  5_000, \n",
    "    'Bedford':    6_000,\n",
    "    'York':       2_500,\n",
    "    'Boston':    -6_000,\n",
    "    'Chicago':   -4_000,\n",
    "    'St. Louis': -2_000,\n",
    "    'Lexington': -1_500,\n",
    "}\n",
    "a = [\n",
    "    [0, 0, 0, 1, 1, 1, 1],\n",
    "    [0, 0, 0, 1, 1, 1, 1],\n",
    "    [0, 0, 0, 1, 1, 1, 1],\n",
    "    [0, 0, 0, 0, 0, 0, 0],\n",
    "    [0, 0, 0, 0, 0, 0, 0],\n",
    "    [0, 0, 0, 0, 0, 0, 0],\n",
    "    [0, 0, 0, 0, 0, 0, 0],\n",
    "    ]\n",
    "\n",
    "costs = [\n",
    "   [1_000,  1_000, 1_000, 3, 2, 7, 6],\n",
    "   [1_000,  1_000, 1_000, 7, 5, 2, 3],\n",
    "   [1_000,  1_000, 1_000, 2, 5, 4, 5],\n",
    "   [1_000,  1_000, 1_000, 1_000, 1_000, 1_000, 1_000],\n",
    "   [1_000,  1_000, 1_000, 1_000, 1_000, 1_000, 1_000],\n",
    "   [1_000,  1_000, 1_000, 1_000, 1_000, 1_000, 1_000],\n",
    "   [1_000,  1_000, 1_000, 1_000, 1_000, 1_000, 1_000],\n",
    "    ]\n",
    "\n"
   ]
  },
  {
   "cell_type": "code",
   "execution_count": 3,
   "metadata": {},
   "outputs": [],
   "source": [
    "a = pl.makeDict((loads, loads), a, 0)\n",
    "costs = pl.makeDict((loads, loads), costs, 0)"
   ]
  },
  {
   "cell_type": "code",
   "execution_count": 4,
   "metadata": {},
   "outputs": [],
   "source": [
    "# problem\n",
    "problem = pl.LpProblem('Transportation', pl.LpMinimize)\n",
    "\n",
    "\n",
    "# variables\n",
    "transport = pl.LpVariable.dicts('Route', (loads, loads), 0, None, pl.LpContinuous)\n",
    "# print('\\n', transport)\n",
    "\n",
    "# objective function\n",
    "problem += pl.lpSum(costs[source][sink] * transport[source][sink] for source in loads for sink in loads), 'Sum_Transporting_Costs'\n",
    "\n",
    "# Supply Constraints\n",
    "for k, v in loads.items():\n",
    "    problem += pl.lpSum(transport[k][out] for out in loads ) - pl.lpSum(transport[enter][k] for enter in loads ) == v, f'num_products_out_{k}'"
   ]
  },
  {
   "cell_type": "code",
   "execution_count": 5,
   "metadata": {},
   "outputs": [
    {
     "name": "stdout",
     "output_type": "stream",
     "text": [
      "Set parameter Username\n",
      "\n",
      "--------------------------------------------\n",
      "Warning: your license will expire in 1 days\n",
      "--------------------------------------------\n",
      "\n",
      "Academic license - for non-commercial use only - expires 2022-11-19\n",
      "Gurobi Optimizer version 9.5.0 build v9.5.0rc5 (win64)\n",
      "Thread count: 4 physical cores, 8 logical processors, using up to 8 threads\n",
      "Optimize a model with 7 rows, 49 columns and 84 nonzeros\n",
      "Model fingerprint: 0xbd57a417\n",
      "Coefficient statistics:\n",
      "  Matrix range     [1e+00, 1e+00]\n",
      "  Objective range  [2e+00, 1e+03]\n",
      "  Bounds range     [0e+00, 0e+00]\n",
      "  RHS range        [2e+03, 6e+03]\n",
      "Presolve removed 0 rows and 7 columns\n",
      "Presolve time: 0.00s\n",
      "Presolved: 7 rows, 42 columns, 84 nonzeros\n",
      "\n",
      "Iteration    Objective       Primal Inf.    Dual Inf.      Time\n",
      "       0    0.0000000e+00   2.700000e+04   0.000000e+00      0s\n",
      "       6    3.9500000e+04   0.000000e+00   0.000000e+00      0s\n",
      "\n",
      "Solved in 6 iterations and 0.01 seconds (0.00 work units)\n",
      "Optimal objective  3.950000000e+04\n",
      "Gurobi status= 2\n",
      "Status: Optimal\n",
      "Route_Bedford_Chicago: 2,500.00\n",
      "Route_Bedford_Lexington: 1,500.00\n",
      "Route_Bedford_St._Louis: 2,000.00\n",
      "Route_Cleveland_Boston: 3,500.00\n",
      "Route_Cleveland_Chicago: 1,500.00\n",
      "Route_York_Boston: 2,500.00\n",
      "Total Cost of Transportation = 39,500.00\n"
     ]
    }
   ],
   "source": [
    "\n",
    "solver = pl.get_solver('GUROBI') \n",
    "problem.solve(solver)\n",
    "\n",
    "# The status of the solution is printed to the screen\n",
    "print(\"Status:\", pl.LpStatus[problem.status])\n",
    "\n",
    "\n",
    "# Each of the variables is printed with it's resolved optimum value\n",
    "for v in problem.variables():\n",
    "    if v.varValue > 1e-10:\n",
    "        print(f'{v.name}: {v.varValue:,.2f}')\n",
    "\n",
    "# The optimised objective function value is printed to the screen\n",
    "print(f'Total Cost of Transportation = {pl.value(problem.objective):,.2f}')"
   ]
  }
 ],
 "metadata": {
  "kernelspec": {
   "display_name": "Python 3.8.5 ('optimization')",
   "language": "python",
   "name": "python3"
  },
  "language_info": {
   "codemirror_mode": {
    "name": "ipython",
    "version": 3
   },
   "file_extension": ".py",
   "mimetype": "text/x-python",
   "name": "python",
   "nbconvert_exporter": "python",
   "pygments_lexer": "ipython3",
   "version": "3.8.5"
  },
  "orig_nbformat": 4,
  "vscode": {
   "interpreter": {
    "hash": "8ca3ee2dd8ddb48c542f12b1b3336693d128ffdd624f01cf835b2c8b54ac3ccd"
   }
  }
 },
 "nbformat": 4,
 "nbformat_minor": 2
}
