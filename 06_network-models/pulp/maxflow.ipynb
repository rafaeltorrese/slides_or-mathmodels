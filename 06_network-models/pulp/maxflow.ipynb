{
 "cells": [
  {
   "cell_type": "code",
   "execution_count": null,
   "metadata": {},
   "outputs": [],
   "source": [
    "\"\"\"\n",
    "Chapter 10. Network Models. Max Flow.\n",
    "Anderson, David R., Dennis J. Sweeney,\n",
    "Thomas A. Williams,\n",
    "Jeffrey D. Camm y Kipp Martin\n",
    "Quantitative Methods for Business, 11a. Ed\n",
    "\"\"\"\n",
    "from itertools import product\n",
    "import math\n",
    "\n",
    "import pulp as pl\n"
   ]
  },
  {
   "cell_type": "code",
   "execution_count": null,
   "metadata": {},
   "outputs": [],
   "source": [
    "\n",
    "nodes = range(7)\n",
    "\n",
    "# adjacency_matrix\n",
    "a = [\n",
    "    [0, 1, 1, 1, 0, 0, 0],\n",
    "    [0, 0, 1, 0, 1, 0, 0],\n",
    "    [0, 1, 0, 1, 1, 1, 0],\n",
    "    [0, 0, 0, 0, 0, 1, 0],\n",
    "    [0, 0, 0, 0, 0, 1, 1],\n",
    "    [0, 0, 0, 0, 1, 0, 1],\n",
    "    [1, 0, 0, 0, 0, 0, 0],\n",
    " ]\n",
    "\n",
    "capacity = [\n",
    "    [0, 5, 6, 5, 0, 0, 0],\n",
    "    [0, 0, 2, 0, 3, 0, 0],\n",
    "    [0, 2, 0, 3, 3, 7, 0],\n",
    "    [0, 0, 0, 0, 0, 5, 0],\n",
    "    [0, 0, 0, 0, 0, 1, 8],\n",
    "    [0, 0, 0, 0, 1, 0, 7],\n",
    "    [1000, 0, 0, 0, 0, 0, 0],\n",
    "    ]\n",
    "\n",
    "load = {\n",
    "    0: 0, \n",
    "    1: 0,\n",
    "    2: 0,\n",
    "    3: 0,\n",
    "    4: 0,\n",
    "    5: 0,\n",
    "    6: 0,\n",
    "}"
   ]
  },
  {
   "cell_type": "code",
   "execution_count": null,
   "metadata": {},
   "outputs": [],
   "source": [
    "\n",
    "capacity = pl.makeDict((nodes, nodes), capacity, 1_000)\n",
    "\n",
    "\n",
    "# problem\n",
    "problem = pl.LpProblem('flowmax', pl.LpMaximize)\n",
    "\n",
    "\n",
    "# variables\n",
    "send = pl.LpVariable.dicts('send', (nodes, nodes), 0, None, pl.LpContinuous)\n",
    "\n",
    "# objective function\n",
    "problem += send[6][0], 'max_flow_network'\n",
    "\n",
    "\n",
    "# Transhipment Constraints\n",
    "for k in nodes:\n",
    "    problem += pl.lpSum(a[k][out] * send[k][out] for out in nodes) - pl.lpSum(a[enter][k] * send[enter][k] for enter in nodes) == load[k], f'send_to_node_{k}'\n",
    "\n",
    "# capacity constraints\n",
    "for i in nodes:\n",
    "    for j in nodes:\n",
    "        problem += (send[i][j] <= capacity[i][j])"
   ]
  },
  {
   "cell_type": "code",
   "execution_count": null,
   "metadata": {},
   "outputs": [],
   "source": [
    "\n",
    "solver = pl.get_solver('GUROBI') \n",
    "problem.solve(solver)\n",
    "\n",
    "# The status of the solution is printed to the screen\n",
    "print(\"Status:\", pl.LpStatus[problem.status])\n",
    "\n",
    "\n",
    "# Each of the variables is printed with it's resolved optimum value\n",
    "for v in problem.variables():\n",
    "    if v.varValue > 1e-10:\n",
    "        print(f'{v.name}: {v.varValue:,.2f}')\n",
    "\n",
    "print(f'Total Miles = {pl.value(problem.objective):,.2f}')\n"
   ]
  }
 ],
 "metadata": {
  "kernelspec": {
   "display_name": "Python 3.8.5 ('optimization')",
   "language": "python",
   "name": "python3"
  },
  "language_info": {
   "codemirror_mode": {
    "name": "ipython",
    "version": 3
   },
   "file_extension": ".py",
   "mimetype": "text/x-python",
   "name": "python",
   "nbconvert_exporter": "python",
   "pygments_lexer": "ipython3",
   "version": "3.8.5"
  },
  "orig_nbformat": 4,
  "vscode": {
   "interpreter": {
    "hash": "8ca3ee2dd8ddb48c542f12b1b3336693d128ffdd624f01cf835b2c8b54ac3ccd"
   }
  }
 },
 "nbformat": 4,
 "nbformat_minor": 2
}
