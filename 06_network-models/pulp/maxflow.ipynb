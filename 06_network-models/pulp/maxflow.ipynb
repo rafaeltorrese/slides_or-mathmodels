{
 "cells": [
  {
   "cell_type": "code",
   "execution_count": 46,
   "metadata": {},
   "outputs": [],
   "source": [
    "\"\"\"\n",
    "Chapter 10. Network Models. Max Flow.\n",
    "Anderson, David R., Dennis J. Sweeney,\n",
    "Thomas A. Williams,\n",
    "Jeffrey D. Camm y Kipp Martin\n",
    "Quantitative Methods for Business, 11a. Ed\n",
    "\"\"\"\n",
    "from itertools import product\n",
    "import math\n",
    "\n",
    "import pulp as pl\n"
   ]
  },
  {
   "cell_type": "code",
   "execution_count": 47,
   "metadata": {},
   "outputs": [],
   "source": [
    "nodes = range(7)\n",
    "\n",
    "# adjacency_matrix\n",
    "a = [\n",
    "    [0, 1, 1, 1, 0, 0, 0],\n",
    "    [0, 0, 1, 0, 1, 0, 0],\n",
    "    [0, 1, 0, 1, 1, 1, 0],\n",
    "    [0, 0, 0, 0, 0, 1, 0],\n",
    "    [0, 0, 0, 0, 0, 1, 1],\n",
    "    [0, 0, 0, 0, 1, 0, 1],\n",
    "    [1, 0, 0, 0, 0, 0, 0],\n",
    " ]\n",
    "\n",
    "capacity = [\n",
    "    [0, 5, 6, 5, 0, 0, 0],\n",
    "    [0, 0, 2, 0, 3, 0, 0],\n",
    "    [0, 2, 0, 3, 3, 7, 0],\n",
    "    [0, 0, 0, 0, 0, 5, 0],\n",
    "    [0, 0, 0, 0, 0, 1, 8],\n",
    "    [0, 0, 0, 0, 1, 0, 7],\n",
    "    [10_000, 0, 0, 0, 0, 0, 0],\n",
    "    ]\n",
    "\n",
    "load = {\n",
    "    0: 0, \n",
    "    1: 0,\n",
    "    2: 0,\n",
    "    3: 0,\n",
    "    4: 0,\n",
    "    5: 0,\n",
    "    6: 0,\n",
    "}"
   ]
  },
  {
   "cell_type": "code",
   "execution_count": 48,
   "metadata": {},
   "outputs": [],
   "source": [
    "\n",
    "capacity = pl.makeDict((nodes, nodes), capacity, 1_000)\n",
    "\n",
    "\n",
    "# problem\n",
    "problem = pl.LpProblem('flowmax', pl.LpMaximize)\n",
    "\n",
    "\n",
    "# variables\n",
    "flow = pl.LpVariable.dicts('flow', (nodes, nodes), 0, None, pl.LpContinuous)\n",
    "\n",
    "# objective function\n",
    "problem += flow[6][0], 'max_flow_network'\n",
    "\n",
    "\n",
    "# Transhipment Constraints\n",
    "for k in nodes:\n",
    "    problem += pl.lpSum(a[k][out] * flow[k][out] for out in nodes) - pl.lpSum(a[enter][k] * flow[enter][k] for enter in nodes) == load[k], f'flow_to_node_{k}'\n",
    "\n",
    "# capacity constraints\n",
    "for i in nodes:\n",
    "    for j in nodes:\n",
    "        problem += (flow[i][j] <= capacity[i][j])"
   ]
  },
  {
   "cell_type": "code",
   "execution_count": 49,
   "metadata": {},
   "outputs": [
    {
     "name": "stdout",
     "output_type": "stream",
     "text": [
      "Gurobi Optimizer version 9.1.2 build v9.1.2rc0 (mac64)\n",
      "Thread count: 2 physical cores, 4 logical processors, using up to 4 threads\n",
      "Optimize a model with 56 rows, 49 columns and 79 nonzeros\n",
      "Model fingerprint: 0xe95c149a\n",
      "Coefficient statistics:\n",
      "  Matrix range     [1e+00, 1e+00]\n",
      "  Objective range  [1e+00, 1e+00]\n",
      "  Bounds range     [0e+00, 0e+00]\n",
      "  RHS range        [1e+00, 1e+04]\n",
      "Presolve removed 50 rows and 37 columns\n",
      "Presolve time: 0.01s\n",
      "Presolved: 6 rows, 12 columns, 24 nonzeros\n",
      "\n",
      "Iteration    Objective       Primal Inf.    Dual Inf.      Time\n",
      "       0    1.4008000e+01   9.008000e+00   0.000000e+00      0s\n",
      "       3    1.4000000e+01   0.000000e+00   0.000000e+00      0s\n",
      "\n",
      "Solved in 3 iterations and 0.02 seconds\n",
      "Optimal objective  1.400000000e+01\n",
      "Gurobi status= 2\n",
      "Status: Optimal\n",
      "flow_0_1: 5.00\n",
      "flow_0_2: 4.00\n",
      "flow_0_3: 5.00\n",
      "flow_1_2: 2.00\n",
      "flow_1_4: 3.00\n",
      "flow_2_4: 3.00\n",
      "flow_2_5: 3.00\n",
      "flow_3_5: 5.00\n",
      "flow_4_6: 7.00\n",
      "flow_5_4: 1.00\n",
      "flow_5_6: 7.00\n",
      "flow_6_0: 14.00\n",
      "Total Vehicles = 14,000.00\n"
     ]
    }
   ],
   "source": [
    "\n",
    "solver = pl.get_solver('GUROBI') \n",
    "problem.solve(solver)\n",
    "\n",
    "# The status of the solution is printed to the screen\n",
    "print(\"Status:\", pl.LpStatus[problem.status])\n",
    "\n",
    "\n",
    "# Each of the variables is printed with it's resolved optimum value\n",
    "for v in problem.variables():\n",
    "    if v.varValue > 1e-10:\n",
    "        print(f'{v.name}: {v.varValue:,.2f}')\n",
    "\n",
    "print(f'Total Vehicles = {pl.value(problem.objective) * 1000:,}')\n"
   ]
  }
 ],
 "metadata": {
  "kernelspec": {
   "display_name": "Python 3.8.5 ('optimization')",
   "language": "python",
   "name": "python3"
  },
  "language_info": {
   "codemirror_mode": {
    "name": "ipython",
    "version": 3
   },
   "file_extension": ".py",
   "mimetype": "text/x-python",
   "name": "python",
   "nbconvert_exporter": "python",
   "pygments_lexer": "ipython3",
   "version": "3.8.5"
  },
  "orig_nbformat": 4,
  "vscode": {
   "interpreter": {
    "hash": "8ca3ee2dd8ddb48c542f12b1b3336693d128ffdd624f01cf835b2c8b54ac3ccd"
   }
  }
 },
 "nbformat": 4,
 "nbformat_minor": 2
}
