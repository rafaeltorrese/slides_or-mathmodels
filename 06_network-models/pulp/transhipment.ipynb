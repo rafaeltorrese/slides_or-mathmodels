{
 "cells": [
  {
   "cell_type": "code",
   "execution_count": 1,
   "metadata": {},
   "outputs": [],
   "source": [
    "\"\"\"\n",
    "Chapter 10. Network Models. Transhipment.\n",
    "Anderson, David R., Dennis J. Sweeney,\n",
    "Thomas A. Williams,\n",
    "Jeffrey D. Camm y Kipp Martin\n",
    "Quantitative Methods for Business, 11a. Ed\n",
    "\"\"\"\n",
    "from itertools import product\n",
    "import math\n",
    "\n",
    "import pulp as pl\n"
   ]
  },
  {
   "cell_type": "code",
   "execution_count": 2,
   "metadata": {},
   "outputs": [],
   "source": [
    "\n",
    "\n",
    "\n",
    "sources = {\n",
    "    'Denver': 600, \n",
    "    'Atlanta': 400,\n",
    "    'Kansas': math.inf,\n",
    "    'Louisville': math.inf,\n",
    "}\n",
    "\n",
    "transhipments = {\n",
    "    'Kansas': 0,\n",
    "    'Louisville': 0,\n",
    "}\n",
    "\n",
    "sinks = {\n",
    "    'Kansas': 0,\n",
    "    'Louisville': 0,\n",
    "    'Detroit': 200,\n",
    "    'Miami': 150,\n",
    "    'Dallas': 350,\n",
    "    'New Orleans': 300,\n",
    "}\n",
    "\n",
    "costs =  [\n",
    "    [2, 3, 1_000_000,1_000_000,1_000_000,1_000_000 ],\n",
    "    [3, 1, 1_000_000,1_000_000,1_000_000,1_000_000 ],\n",
    "    [1_000_000, 1_000_000,  2, 6, 3, 6],\n",
    "    [1_000_000, 1_000_000,  4, 4, 6, 5],\n",
    "]\n",
    "\n",
    "\n",
    "costs = pl.makeDict((sources, sinks), costs, 0)\n"
   ]
  },
  {
   "cell_type": "code",
   "execution_count": 3,
   "metadata": {},
   "outputs": [],
   "source": [
    "# problem\n",
    "problem = pl.LpProblem('Transhipment', pl.LpMinimize)\n",
    "\n",
    "# arcs\n",
    "routes = [*product(sources, sinks)]\n",
    "\n",
    "# variables\n",
    "send = pl.LpVariable.dicts('Send', (sources, sinks), 0, None, pl.LpContinuous)\n",
    "# print('\\n', vars)\n",
    "\n",
    "# objective function\n",
    "problem += pl.lpSum(costs[source][sink] * send[source][sink] for source in sources for sink in sinks), 'Sum_Costs_Transportation'\n",
    "\n",
    "# Supply Constraints\n",
    "for source, supply in sources.items():\n",
    "    problem += pl.lpSum(send[source][sink] for sink in sinks ) <= supply, f'num_product_out_{source}'\n",
    "\n",
    "# Transhipment Constraints\n",
    "for city, demand in transhipments.items():\n",
    "    problem += pl.lpSum(send[source][city] for source in sources) - pl.lpSum(send[city][sink] for sink in sinks) == demand, f'num_transhipment_into_{city}'\n",
    "\n",
    "# Demand Constraints\n",
    "for sink, demand in sinks.items():\n",
    "    problem += pl.lpSum(send[source][sink] for source in sources) >= demand, f'num_products_into_{sink}'\n"
   ]
  },
  {
   "cell_type": "code",
   "execution_count": 4,
   "metadata": {},
   "outputs": [
    {
     "name": "stdout",
     "output_type": "stream",
     "text": [
      "Set parameter Username\n",
      "\n",
      "--------------------------------------------\n",
      "Warning: your license will expire in 9 days\n",
      "--------------------------------------------\n",
      "\n",
      "Academic license - for non-commercial use only - expires 2022-11-19\n",
      "Gurobi Optimizer version 9.5.0 build v9.5.0rc5 (win64)\n",
      "Thread count: 4 physical cores, 8 logical processors, using up to 8 threads\n",
      "Optimize a model with 12 rows, 24 columns and 64 nonzeros\n",
      "Model fingerprint: 0xde67a940\n",
      "Coefficient statistics:\n",
      "  Matrix range     [1e+00, 1e+00]\n",
      "  Objective range  [1e+00, 1e+06]\n",
      "  Bounds range     [0e+00, 0e+00]\n",
      "  RHS range        [2e+02, 6e+02]\n",
      "Presolve removed 4 rows and 2 columns\n",
      "Presolve time: 0.01s\n",
      "Presolved: 8 rows, 22 columns, 44 nonzeros\n",
      "\n",
      "Iteration    Objective       Primal Inf.    Dual Inf.      Time\n",
      "       0    0.0000000e+00   1.250000e+02   0.000000e+00      0s\n",
      "       8    5.2000000e+03   0.000000e+00   0.000000e+00      0s\n",
      "\n",
      "Solved in 8 iterations and 0.01 seconds (0.00 work units)\n",
      "Optimal objective  5.200000000e+03\n",
      "Gurobi status= 2\n",
      "Status: Optimal\n",
      "Send_Atlanta_Louisville: 400.00\n",
      "Send_Denver_Kansas: 550.00\n",
      "Send_Denver_Louisville: 50.00\n",
      "Send_Kansas_Dallas: 350.00\n",
      "Send_Kansas_Detroit: 200.00\n",
      "Send_Louisville_Miami: 150.00\n",
      "Send_Louisville_New_Orleans: 300.00\n",
      "Total Cost of Transportation = 5,200.00\n"
     ]
    }
   ],
   "source": [
    "\n",
    "solver = pl.get_solver('GUROBI') \n",
    "problem.solve(solver)\n",
    "\n",
    "# The status of the solution is printed to the screen\n",
    "print(\"Status:\", pl.LpStatus[problem.status])\n",
    "\n",
    "\n",
    "# Each of the variables is printed with it's resolved optimum value\n",
    "for v in problem.variables():\n",
    "    if v.varValue > 1e-10:\n",
    "        print(f'{v.name}: {v.varValue:,.2f}')\n",
    "\n",
    "print(f'Total Cost of Transportation = {pl.value(problem.objective):,.2f}')\n"
   ]
  }
 ],
 "metadata": {
  "kernelspec": {
   "display_name": "Python 3.8.5 ('optimization')",
   "language": "python",
   "name": "python3"
  },
  "language_info": {
   "codemirror_mode": {
    "name": "ipython",
    "version": 3
   },
   "file_extension": ".py",
   "mimetype": "text/x-python",
   "name": "python",
   "nbconvert_exporter": "python",
   "pygments_lexer": "ipython3",
   "version": "3.8.5"
  },
  "orig_nbformat": 4,
  "vscode": {
   "interpreter": {
    "hash": "8ca3ee2dd8ddb48c542f12b1b3336693d128ffdd624f01cf835b2c8b54ac3ccd"
   }
  }
 },
 "nbformat": 4,
 "nbformat_minor": 2
}
