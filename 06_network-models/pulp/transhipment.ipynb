{
 "cells": [
  {
   "cell_type": "code",
   "execution_count": 35,
   "metadata": {},
   "outputs": [],
   "source": [
    "\"\"\"\n",
    "Chapter 10. Network Models. Transhipment.\n",
    "Anderson, David R., Dennis J. Sweeney,\n",
    "Thomas A. Williams,\n",
    "Jeffrey D. Camm y Kipp Martin\n",
    "Quantitative Methods for Business, 11a. Ed\n",
    "\"\"\"\n",
    "from itertools import product\n",
    "import math\n",
    "\n",
    "import pulp as pl\n"
   ]
  },
  {
   "cell_type": "code",
   "execution_count": 36,
   "metadata": {},
   "outputs": [
    {
     "name": "stdout",
     "output_type": "stream",
     "text": [
      "1\n"
     ]
    }
   ],
   "source": [
    "# adjacency_matrix\n",
    "nodes = range(8)\n",
    "\n",
    "a = [\n",
    "    [0, 0, 1, 1, 0, 0, 0, 0],  # node 1 Denver\n",
    "    [0, 0, 1, 1, 0, 0, 0, 0],  # node 2 Atlanta\n",
    "    [0, 0, 0, 0, 1, 1, 1, 1],  # node 3 Kansas\n",
    "    [0, 0, 0, 0, 1, 1, 1, 1],  # node 4 Louisville\n",
    "    [0, 0, 0, 0, 0, 0, 0, 0],  # node 5 Detroit\n",
    "    [0, 0, 0, 0, 0, 0, 0, 0],  # node 6 Miami\n",
    "    [0, 0, 0, 0, 0, 0, 0, 0],  # node 7 Dallas\n",
    "    [0, 0, 0, 0, 0, 0, 0, 0],  # node 8 New Orleans\n",
    " ]\n",
    "\n",
    "\n",
    "loads = {\n",
    "    'Denver': 600,   # 0\n",
    "    'Atlanta': 400,  # 1\n",
    "    'Kansas': 0,     # 2\n",
    "    'Louisville': 0, # 3\n",
    "    'Detroit': -200, # 4\n",
    "    'Miami': -150,   # 5\n",
    "    'Dallas': -350,  # 6\n",
    "    'New Orleans': -300,  # 7\n",
    "}\n",
    "\n",
    "\n",
    "costs =  [\n",
    "    [1_000, 1_000, 2, 3, 1_000, 1_000, 1_000, 1_000],  # node 1 Denver\n",
    "    [1_000, 1_000, 3, 1, 1_000, 1_000, 1_000, 1_000],  # node 2 Atlanta\n",
    "    [1_000, 1_000, 1_000, 1_000, 2, 6, 3, 6],  # node 3 Kansas\n",
    "    [1_000, 1_000, 1_000, 1_000, 4, 4, 6, 5],  # node 4 Louisville\n",
    "    [1_000, 1_000, 1_000, 1_000, 1_000, 1_000, 1_000, 1_000],  # node 5 Detroit\n",
    "    [1_000, 1_000, 1_000, 1_000, 1_000, 1_000, 1_000, 1_000],  # node 6 Miami\n",
    "    [1_000, 1_000, 1_000, 1_000, 1_000, 1_000, 1_000, 1_000],  # node 7 Dallas\n",
    "    [1_000, 1_000, 1_000, 1_000, 1_000, 1_000, 1_000, 1_000],  # node 8 New Orleans\n",
    " ]\n",
    "\n",
    "\n",
    "costs = pl.makeDict((loads, loads), costs, 0)\n",
    "a = pl.makeDict((loads, loads), a, 0)\n",
    "\n",
    "print(a['Denver']['Kansas'])"
   ]
  },
  {
   "cell_type": "code",
   "execution_count": 37,
   "metadata": {},
   "outputs": [],
   "source": [
    "# problem\n",
    "problem = pl.LpProblem('Transhipment', pl.LpMinimize)\n",
    "\n",
    "# variables\n",
    "send = pl.LpVariable.dicts('Send', (loads, loads), 0, None, pl.LpContinuous)\n",
    "# print('\\n', vars)\n",
    "\n",
    "# objective function\n",
    "problem += pl.lpSum(costs[i][j] * send[i][j] for j in loads for i in loads), 'Sum_Costs_Transportation'\n",
    "\n",
    "# Transhipment Constraints\n",
    "for k in loads:\n",
    "    problem += pl.lpSum(a[k][out] * send[k][out] for out in loads) - pl.lpSum(a[enter][k] * send[enter][k] for enter in loads) == loads[k], f'num_transhipment_into_{k}'\n"
   ]
  },
  {
   "cell_type": "code",
   "execution_count": 38,
   "metadata": {},
   "outputs": [
    {
     "name": "stdout",
     "output_type": "stream",
     "text": [
      "Gurobi Optimizer version 9.1.2 build v9.1.2rc0 (mac64)\n",
      "Thread count: 2 physical cores, 4 logical processors, using up to 4 threads\n",
      "Optimize a model with 8 rows, 64 columns and 24 nonzeros\n",
      "Model fingerprint: 0x3d6f9bf7\n",
      "Coefficient statistics:\n",
      "  Matrix range     [1e+00, 1e+00]\n",
      "  Objective range  [1e+00, 1e+03]\n",
      "  Bounds range     [0e+00, 0e+00]\n",
      "  RHS range        [2e+02, 6e+02]\n",
      "Presolve removed 6 rows and 58 columns\n",
      "Presolve time: 0.03s\n",
      "Presolved: 2 rows, 6 columns, 12 nonzeros\n",
      "\n",
      "Iteration    Objective       Primal Inf.    Dual Inf.      Time\n",
      "       0    5.1500000e+03   1.000000e+02   0.000000e+00      0s\n",
      "       1    5.2000000e+03   0.000000e+00   0.000000e+00      0s\n",
      "\n",
      "Solved in 1 iterations and 0.05 seconds\n",
      "Optimal objective  5.200000000e+03\n",
      "Gurobi status= 2\n",
      "Status: Optimal\n",
      "Send_Atlanta_Louisville: 400.00\n",
      "Send_Denver_Kansas: 550.00\n",
      "Send_Denver_Louisville: 50.00\n",
      "Send_Kansas_Dallas: 350.00\n",
      "Send_Kansas_Detroit: 200.00\n",
      "Send_Louisville_Miami: 150.00\n",
      "Send_Louisville_New_Orleans: 300.00\n",
      "Total Cost of Transportation = 5,200.00\n"
     ]
    }
   ],
   "source": [
    "\n",
    "solver = pl.get_solver('GUROBI') \n",
    "problem.solve(solver)\n",
    "\n",
    "# The status of the solution is printed to the screen\n",
    "print(\"Status:\", pl.LpStatus[problem.status])\n",
    "\n",
    "\n",
    "# Each of the variables is printed with it's resolved optimum value\n",
    "for v in problem.variables():\n",
    "    if v.varValue > 1e-10:\n",
    "        print(f'{v.name}: {v.varValue:,.2f}')\n",
    "\n",
    "print(f'Total Cost of Transportation = {pl.value(problem.objective):,.2f}')\n"
   ]
  }
 ],
 "metadata": {
  "kernelspec": {
   "display_name": "Python 3.8.5 ('optimization')",
   "language": "python",
   "name": "python3"
  },
  "language_info": {
   "codemirror_mode": {
    "name": "ipython",
    "version": 3
   },
   "file_extension": ".py",
   "mimetype": "text/x-python",
   "name": "python",
   "nbconvert_exporter": "python",
   "pygments_lexer": "ipython3",
   "version": "3.8.5"
  },
  "orig_nbformat": 4,
  "vscode": {
   "interpreter": {
    "hash": "8ca3ee2dd8ddb48c542f12b1b3336693d128ffdd624f01cf835b2c8b54ac3ccd"
   }
  }
 },
 "nbformat": 4,
 "nbformat_minor": 2
}
