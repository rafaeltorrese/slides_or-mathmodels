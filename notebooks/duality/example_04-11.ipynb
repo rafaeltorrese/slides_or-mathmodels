{
 "cells": [
  {
   "cell_type": "markdown",
   "metadata": {},
   "source": [
    "# Example 04-11\n",
    "\n",
    "$$\\max Z = 40x_1 + 25x_2 + 50x_3$$\n",
    "\n",
    "\\begin{align*}\n",
    "x_1 + 2x_2 + x_3 &\\leq 36 \\\\\n",
    "2x_1 + x_2 + 4x_3 &\\leq 60 \\\\\n",
    "2x_1 + 5x_2 + x_3 &\\leq 45 \\\\[5mm]\n",
    "x_1, x_2, x_3 &\\geq 0\n",
    "\\end{align*}"
   ]
  },
  {
   "cell_type": "code",
   "execution_count": 35,
   "metadata": {},
   "outputs": [],
   "source": [
    "import numpy as np\n",
    "\n",
    "np.set_printoptions(precision=3, suppress=True)"
   ]
  },
  {
   "cell_type": "code",
   "execution_count": 36,
   "metadata": {},
   "outputs": [],
   "source": [
    "%run \"../auxfunc/fullmatrix.ipynb\"\n",
    "%run \"../auxfunc/algorithms.ipynb\""
   ]
  },
  {
   "cell_type": "code",
   "execution_count": 37,
   "metadata": {},
   "outputs": [],
   "source": [
    "cj = [40, 25, 50]\n",
    "\n",
    "A = np.array([\n",
    "    [1, 2, 1],\n",
    "    [2, 1, 4],\n",
    "    [2, 5, 1],\n",
    "])\n",
    "\n",
    "b = [36, 60, 45]\n",
    "\n",
    "ineq = [\"<=\"] * 3\n"
   ]
  },
  {
   "cell_type": "code",
   "execution_count": 38,
   "metadata": {},
   "outputs": [
    {
     "name": "stdout",
     "output_type": "stream",
     "text": [
      "Iteration 1. Entering: x3, Leaving: Leaving: s2\n",
      "[[ 0.5   1.75  0.    1.   -0.25  0.  ]\n",
      " [ 0.5   0.25  1.    0.    0.25  0.  ]\n",
      " [ 1.5   4.75  0.    0.   -0.25  1.  ]] \n",
      "\n",
      "Solution [ 0.  0. 15. 21.  0. 30.] \tZ: 750.00 \n",
      "\n",
      "Iteration 2. Entering: x1, Leaving: Leaving: s3\n",
      "[[ 0.     0.167  0.     1.    -0.167 -0.333]\n",
      " [ 0.    -1.333  1.     0.     0.333 -0.333]\n",
      " [ 1.     3.167  0.     0.    -0.167  0.667]] \n",
      "\n",
      "Solution [20.  0.  5. 11.  0.  0.] \tZ: 1050.00 \n",
      "\n",
      "Optimal solution found in 2 iterations\n",
      "('x1', 20.0) ('x2', 0.0) ('x3', 5.0) ('s1', 11.0) ('s2', 0.0) ('s3', 0.0)\n"
     ]
    }
   ],
   "source": [
    "solprimal, zvalues, lastprimalrow = simplex(matrix=A, rhs=b, z=cj, inequalities=ineq)"
   ]
  },
  {
   "cell_type": "code",
   "execution_count": 39,
   "metadata": {},
   "outputs": [
    {
     "data": {
      "text/plain": [
       "array([[ 0.,  0., 15., 21.,  0., 30.],\n",
       "       [20.,  0.,  5., 11.,  0.,  0.]])"
      ]
     },
     "execution_count": 39,
     "metadata": {},
     "output_type": "execute_result"
    }
   ],
   "source": [
    "solprimal"
   ]
  },
  {
   "cell_type": "code",
   "execution_count": 40,
   "metadata": {},
   "outputs": [
    {
     "name": "stdout",
     "output_type": "stream",
     "text": [
      "[750.0, 1050.0]\n"
     ]
    }
   ],
   "source": [
    "print(zvalues)"
   ]
  },
  {
   "cell_type": "code",
   "execution_count": 41,
   "metadata": {},
   "outputs": [
    {
     "name": "stdout",
     "output_type": "stream",
     "text": [
      "[[ 40.  60.  50.   0.  10.  10.]\n",
      " [  0. -35.   0.   0. -10. -10.]]\n"
     ]
    }
   ],
   "source": [
    "print(lastprimalrow)"
   ]
  },
  {
   "cell_type": "code",
   "execution_count": 42,
   "metadata": {},
   "outputs": [],
   "source": [
    "cjdual = b\n",
    "Adual = A.T\n",
    "\n",
    "bdual = cj\n",
    "\n",
    "ineqdual = [\">=\"] * 3"
   ]
  },
  {
   "cell_type": "code",
   "execution_count": 43,
   "metadata": {},
   "outputs": [
    {
     "name": "stdout",
     "output_type": "stream",
     "text": [
      "Iteration 1. Entering: y3, Leaving: Leaving: A2\n",
      "[[ 0.2  1.6  0.  -1.   1.   0.4 -0.4  0.   0. ]\n",
      " [ 0.4  0.2  1.   0.   0.  -0.2  0.2  0.   0. ]\n",
      " [ 0.6  3.8  0.   0.   0.   0.2 -0.2 -1.   1. ]] \n",
      "\n",
      "Solution [ 0.  0.  5.  0. 30.  0.  0.  0. 45.] \tZ: 75225.00 \n",
      "\n",
      "Iteration 2. Entering: y2, Leaving: Leaving: A3\n",
      "[[-0.053  0.     0.    -1.     1.     0.316 -0.316  0.421 -0.421]\n",
      " [ 0.368  0.     1.     0.     0.    -0.211  0.211  0.053 -0.053]\n",
      " [ 0.158  1.     0.     0.     0.     0.053 -0.053 -0.263  0.263]] \n",
      "\n",
      "Solution [ 0.    11.842  2.632  0.    11.053  0.     0.     0.     0.   ] \tZ: 11881.58 \n",
      "\n",
      "Iteration 3. Entering: s3, Leaving: Leaving: A1\n",
      "[[-0.125  0.     0.    -2.375  2.375  0.75  -0.75   1.    -1.   ]\n",
      " [ 0.375  0.     1.     0.125 -0.125 -0.25   0.25   0.     0.   ]\n",
      " [ 0.125  1.     0.    -0.625  0.625  0.25  -0.25   0.     0.   ]] \n",
      "\n",
      "Solution [ 0.   18.75  1.25  0.    0.    0.    0.   26.25  0.  ] \tZ: 1181.25 \n",
      "\n",
      "Iteration 4. Entering: s2, Leaving: Leaving: s3\n",
      "[[-0.167  0.     0.    -3.167  3.167  1.    -1.     1.333 -1.333]\n",
      " [ 0.333  0.     1.    -0.667  0.667  0.     0.     0.333 -0.333]\n",
      " [ 0.167  1.     0.     0.167 -0.167  0.     0.    -0.333  0.333]] \n",
      "\n",
      "Solution [ 0. 10. 10.  0.  0. 35.  0.  0.  0.] \tZ: 1050.00 \n",
      "\n",
      "Optimal solution found in 4 iterations\n",
      "('y1', 0.0) ('y2', 10.0) ('y3', 10.0) ('s1', 0.0) ('A1', 0.0) ('s2', 35.0) ('A2', 0.0) ('s3', 0.0) ('A3', 0.0)\n"
     ]
    }
   ],
   "source": [
    "soldual, wvalues, lastdualrow = simplex(matrix=Adual, rhs=bdual, z=cjdual, inequalities=ineqdual, direction=-1, vlabel=\"y\")"
   ]
  },
  {
   "cell_type": "code",
   "execution_count": 44,
   "metadata": {},
   "outputs": [
    {
     "name": "stdout",
     "output_type": "stream",
     "text": [
      "[[ 0.     0.     5.     0.    30.     0.     0.     0.    45.   ]\n",
      " [ 0.    11.842  2.632  0.    11.053  0.     0.     0.     0.   ]\n",
      " [ 0.    18.75   1.25   0.     0.     0.     0.    26.25   0.   ]\n",
      " [ 0.    10.    10.     0.     0.    35.     0.     0.     0.   ]]\n"
     ]
    }
   ],
   "source": [
    "print(soldual)"
   ]
  },
  {
   "cell_type": "code",
   "execution_count": 45,
   "metadata": {},
   "outputs": [
    {
     "name": "stdout",
     "output_type": "stream",
     "text": [
      "[75225.0, 11881.578947368418, 1181.25, 1050.0]\n"
     ]
    }
   ],
   "source": [
    "print(wvalues)"
   ]
  },
  {
   "cell_type": "code",
   "execution_count": 46,
   "metadata": {},
   "outputs": [
    {
     "name": "stdout",
     "output_type": "stream",
     "text": [
      "[[   25.    60.    45.   -20.    20.     0.     0.    -5.     5.]\n",
      " [  -11.    -0.    -0.   -20.  -980.    -0. -1000.    -5.  -995.]]\n"
     ]
    }
   ],
   "source": [
    "print(lastdualrow)"
   ]
  },
  {
   "cell_type": "code",
   "execution_count": null,
   "metadata": {},
   "outputs": [],
   "source": []
  }
 ],
 "metadata": {
  "kernelspec": {
   "display_name": "Python 3",
   "language": "python",
   "name": "python3"
  },
  "language_info": {
   "codemirror_mode": {
    "name": "ipython",
    "version": 3
   },
   "file_extension": ".py",
   "mimetype": "text/x-python",
   "name": "python",
   "nbconvert_exporter": "python",
   "pygments_lexer": "ipython3",
   "version": "3.7.3"
  }
 },
 "nbformat": 4,
 "nbformat_minor": 4
}
