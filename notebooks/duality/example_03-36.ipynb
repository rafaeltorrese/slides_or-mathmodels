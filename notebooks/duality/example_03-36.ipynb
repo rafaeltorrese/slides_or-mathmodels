{
 "cells": [
  {
   "cell_type": "markdown",
   "metadata": {},
   "source": [
    "# Example 03-36\n",
    "\n",
    "La persona quiere decidir los componentes de una dieta que cumpla con sus requerimientos diarios de proteínas, grasas y carbohidratos al costo mínimo. La elección debe hacerse a partir de cuatro tipos diferentes de alimentos. Los rendimientos por unidad de estos alimentos se dan en la tabla siguiente. Formule un modelo de programación lineal para el problema y resuelva por método simplex.\n",
    "\n",
    "|Comida| Proteinas | Grasas | Carbohidratos | Cost\n",
    "|-----|---|---|-----|---|\n",
    "1|3|2|6|45|\n",
    "2|4|2|4|40|\n",
    "3|8|7|7|85|\n",
    "4|6|5|4|65|\n",
    "Requrimiento| | | |\n",
    "Mínimo| 800|200 | 700|"
   ]
  },
  {
   "cell_type": "markdown",
   "metadata": {},
   "source": [
    "## Model\n",
    "\n",
    "$$\\min Z = 45x_1 + 40x_2 + 85x_3 + 65x_4 $$\n",
    "\n",
    "\\begin{align*}\n",
    "3x_1 + 4x_2 +  8x_3  + 6x_4 & \\geq 800\\\\\n",
    "2x_1 + 2x_2 +  7x_3  + 5x_4 & \\geq 200\\\\\n",
    "6x_1 + 4x_2 +  7x_3 + 4x_4 & \\geq 700\\\\[5mm]\n",
    "x_1, x_2,x_3, x_4 & \\geq 0\n",
    "\\end{align*}"
   ]
  },
  {
   "cell_type": "markdown",
   "metadata": {},
   "source": [
    "## Dual Formulation\n",
    "\n",
    "$$ \\max 800y_1 +  200y_2 + 700x_3 $$\n",
    "\n",
    "\\begin{align*}\n",
    "3y_1 + 2y_2 + 6y_3 &\\leq 45\\\\\n",
    "4y_1 + 2y_2 + 4y_3 &\\leq 40\\\\\n",
    "8y_1 + 7y_2 + 7y_3 &\\leq 85\\\\\n",
    "6y_1 + 5y_2 + 4y_3 &\\leq 65\\\\[5mm]\n",
    "y_1, y_2,y_3 & \\geq 0\n",
    "\\end{align*}\n",
    "\n",
    "\n"
   ]
  },
  {
   "cell_type": "markdown",
   "metadata": {},
   "source": [
    "## Dual Formulation Standard Form\n",
    "\n",
    "$$ \\max 800y_1 +  200y_2 + 700x_3 $$\n",
    "\n",
    "\\begin{align*}\n",
    "3y_1 + 2y_2 + 6y_3 + s_1&= 45\\\\\n",
    "4y_1 + 2y_2 + 4y_3 + s_2&= 40\\\\\n",
    "8y_1 + 7y_2 + 7y_3 + s_3&= 85\\\\\n",
    "6y_1 + 5y_2 + 4y_3 + s_4&= 65\\\\[5mm]\n",
    "y_1, y_2,y_3, s_1, s_2,s_3, s_4 & \\geq 0\n",
    "\\end{align*}\n",
    "\n",
    "\n"
   ]
  },
  {
   "cell_type": "code",
   "execution_count": 167,
   "metadata": {},
   "outputs": [],
   "source": [
    "import numpy as np\n",
    "np.set_printoptions(precision=3, suppress=True)"
   ]
  },
  {
   "cell_type": "code",
   "execution_count": 172,
   "metadata": {},
   "outputs": [],
   "source": [
    "%run \"simplex_algorithm.ipynb\""
   ]
  },
  {
   "cell_type": "code",
   "execution_count": 173,
   "metadata": {},
   "outputs": [],
   "source": [
    "cj = np.array([800, 200, 700, 0, 0, 0, 0], dtype=float)\n",
    "\n",
    "A = np.array([\n",
    "    [3,2,6, 1, 0, 0, 0],\n",
    "    [4,2,4, 0, 1, 0, 0],\n",
    "    [8,7,7, 0, 0, 1, 0],\n",
    "    [6,5,4, 0, 0, 0, 1],\n",
    "], dtype=float)\n",
    "\n",
    "b = np.array([45, 40, 85, 65], dtype=float)\n"
   ]
  },
  {
   "cell_type": "code",
   "execution_count": 175,
   "metadata": {},
   "outputs": [
    {
     "name": "stdout",
     "output_type": "stream",
     "text": [
      "Optimal solution found\n",
      "[[  3.     0.     0.     0.5    3.     1.    -0.75   0.     0.    15.  ]\n",
      " [  0.   800.     1.     0.5    1.     0.     0.25   0.     0.    10.  ]\n",
      " [  5.     0.     0.     3.    -1.     0.    -2.     1.     0.     5.  ]\n",
      " [  6.     0.     0.     2.    -2.     0.    -1.5    0.     1.     5.  ]] 8000.0\n",
      "\n",
      " [10.  0.  0. 15.  0.  5.  5.]\n"
     ]
    }
   ],
   "source": [
    "simplex(matrix=A, rhs=b, z=cj, numxvars=3, direction=1)"
   ]
  },
  {
   "cell_type": "code",
   "execution_count": 176,
   "metadata": {},
   "outputs": [],
   "source": [
    "cj2 = np.array([45, 40, 85, 65, 0, 0, 0, 10000, 10000, 10000], dtype=float)\n",
    "\n",
    "A2 = np.array([\n",
    "    [3, 4, 8, 6, -1,   0,   0, 1, 0, 0],\n",
    "    [2, 2, 7, 5,  0,  -1,   0, 0, 1, 0],\n",
    "    [6, 4, 7, 4,  0,   0,  -1, 0, 0, 1],\n",
    "], dtype=float)\n",
    "\n",
    "b2 = np.array([\n",
    "    800,\n",
    "    200,\n",
    "    700,\n",
    "], dtype=float)"
   ]
  },
  {
   "cell_type": "code",
   "execution_count": 177,
   "metadata": {},
   "outputs": [
    {
     "name": "stdout",
     "output_type": "stream",
     "text": [
      "Optimal solution found\n",
      "[[  6.     0.    -3.     0.     1.     2.    -1.     0.     1.     1.\n",
      "    0.    -1.   100.  ]\n",
      " [  1.    40.     0.75   1.     2.     1.5   -0.25   0.     0.     0.25\n",
      "    0.     0.   200.  ]\n",
      " [  5.     0.    -0.5    0.    -3.    -2.    -0.5    1.     0.     0.5\n",
      "   -1.     0.   200.  ]] 7999.999999999999\n",
      "\n",
      " [  0. 200.   0.   0.   0. 200. 100.   0.   0.   0.]\n"
     ]
    }
   ],
   "source": [
    "simplex(matrix=A2, rhs=b2, z=cj2, numxvars=4, direction=-1)"
   ]
  }
 ],
 "metadata": {
  "kernelspec": {
   "display_name": "Python 3",
   "language": "python",
   "name": "python3"
  },
  "language_info": {
   "codemirror_mode": {
    "name": "ipython",
    "version": 3
   },
   "file_extension": ".py",
   "mimetype": "text/x-python",
   "name": "python",
   "nbconvert_exporter": "python",
   "pygments_lexer": "ipython3",
   "version": "3.7.3"
  }
 },
 "nbformat": 4,
 "nbformat_minor": 4
}
