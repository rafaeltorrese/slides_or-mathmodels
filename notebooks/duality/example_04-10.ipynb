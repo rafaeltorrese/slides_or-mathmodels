{
 "cells": [
  {
   "cell_type": "markdown",
   "source": [
    "# Example 10\r\n",
    "\r\n",
    "## Primal Formulation\r\n",
    "\r\n",
    "$$\\min Z = 0.07x_1 + 0.05x_2 $$\r\n",
    "\r\n",
    "$\\begin{align*}\r\n",
    "0.1x_1  & \\geq 0.4\\\\\r\n",
    "0.1x_2 & \\geq 0.6\\\\\r\n",
    "0.1x_1 + 0.2x_2 &\\geq 2.0\\\\\r\n",
    "0.2x_1 + 0.1x_2 &\\geq 1.8\\\\[5mm]\r\n",
    "x_1, x_2 & \\geq 0\r\n",
    "\\end{align*}$"
   ],
   "metadata": {}
  },
  {
   "cell_type": "code",
   "execution_count": 1,
   "source": [
    "import numpy as np\r\n",
    "import pandas as pd"
   ],
   "outputs": [],
   "metadata": {}
  }
 ],
 "metadata": {
  "kernelspec": {
   "name": "python3",
   "display_name": "Python 3.8.11 64-bit ('optimization': conda)"
  },
  "language_info": {
   "codemirror_mode": {
    "name": "ipython",
    "version": 3
   },
   "file_extension": ".py",
   "mimetype": "text/x-python",
   "name": "python",
   "nbconvert_exporter": "python",
   "pygments_lexer": "ipython3",
   "version": "3.8.11"
  },
  "interpreter": {
   "hash": "82f5943d309183fb04e7062548988bb003b8dbfc1044db5fb49f48e1f8bfbaf2"
  }
 },
 "nbformat": 4,
 "nbformat_minor": 5
}