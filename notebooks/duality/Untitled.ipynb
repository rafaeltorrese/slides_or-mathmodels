{
 "cells": [
  {
   "cell_type": "code",
   "execution_count": 21,
   "id": "variable-russia",
   "metadata": {},
   "outputs": [],
   "source": [
    "import numpy as np"
   ]
  },
  {
   "cell_type": "code",
   "execution_count": 22,
   "id": "annoying-tamil",
   "metadata": {},
   "outputs": [],
   "source": [
    "cj = [5, 12, 4]\n",
    "\n",
    "A = np.array([\n",
    "    [1, 2, 1],\n",
    "    [2, -1, 3],\n",
    "])\n",
    "\n",
    "b = np.array([5, 2])\n"
   ]
  },
  {
   "cell_type": "code",
   "execution_count": 23,
   "id": "welcome-manual",
   "metadata": {},
   "outputs": [
    {
     "name": "stdout",
     "output_type": "stream",
     "text": [
      "[[ 1  2]\n",
      " [ 2 -1]]\n"
     ]
    }
   ],
   "source": [
    "B = A[:, [0,1]]\n",
    "print(B)"
   ]
  },
  {
   "cell_type": "code",
   "execution_count": 24,
   "id": "guilty-columbus",
   "metadata": {},
   "outputs": [
    {
     "name": "stdout",
     "output_type": "stream",
     "text": [
      "[[ 0.2  0.4]\n",
      " [ 0.4 -0.2]]\n"
     ]
    }
   ],
   "source": [
    "Binv = np.linalg.inv(B)\n",
    "print(Binv)"
   ]
  },
  {
   "cell_type": "code",
   "execution_count": 25,
   "id": "verified-forwarding",
   "metadata": {},
   "outputs": [
    {
     "name": "stdout",
     "output_type": "stream",
     "text": [
      "[1.8 1.6]\n"
     ]
    }
   ],
   "source": [
    "sol0 = Binv.dot(b)\n",
    "print(sol0)"
   ]
  },
  {
   "cell_type": "code",
   "execution_count": 26,
   "id": "common-coast",
   "metadata": {},
   "outputs": [],
   "source": [
    "b1 = np.array([7,2])\n",
    "\n",
    "b2 = np.array([3, 9])"
   ]
  },
  {
   "cell_type": "code",
   "execution_count": 27,
   "id": "advanced-willow",
   "metadata": {},
   "outputs": [
    {
     "name": "stdout",
     "output_type": "stream",
     "text": [
      "[2.2 2.4]\n"
     ]
    }
   ],
   "source": [
    "sol1 = Binv.dot(b1)\n",
    "print(sol1)"
   ]
  },
  {
   "cell_type": "code",
   "execution_count": 28,
   "id": "virgin-equality",
   "metadata": {},
   "outputs": [
    {
     "name": "stdout",
     "output_type": "stream",
     "text": [
      "[ 4.2 -0.6]\n"
     ]
    }
   ],
   "source": [
    "sol2 = Binv.dot(b2)\n",
    "print(sol2)"
   ]
  },
  {
   "cell_type": "code",
   "execution_count": null,
   "id": "ambient-prayer",
   "metadata": {},
   "outputs": [],
   "source": []
  }
 ],
 "metadata": {
  "kernelspec": {
   "display_name": "Python 3",
   "language": "python",
   "name": "python3"
  },
  "language_info": {
   "codemirror_mode": {
    "name": "ipython",
    "version": 3
   },
   "file_extension": ".py",
   "mimetype": "text/x-python",
   "name": "python",
   "nbconvert_exporter": "python",
   "pygments_lexer": "ipython3",
   "version": "3.7.3"
  }
 },
 "nbformat": 4,
 "nbformat_minor": 5
}
