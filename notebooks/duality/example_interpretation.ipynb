{
 "cells": [
  {
   "cell_type": "markdown",
   "source": [
    "# Example Economic Interpretation\n",
    "\n",
    "$$\\min Z = 600x_1 + 400x_2$$\n",
    "\n",
    "\\begin{align*}\n",
    "1500x_1 + 1500x_2 &\\geq 20000 \\\\\n",
    "3000x_1 + 1000x_2 &\\geq 40000 \\\\\n",
    "2000x_1 + 5000x_2 &\\geq 44000 \\\\[5mm]\n",
    "x_1, x_2 &\\geq 0\n",
    "\\end{align*}"
   ],
   "metadata": {}
  },
  {
   "cell_type": "code",
   "execution_count": 16,
   "source": [
    "import numpy as np\r\n",
    "\r\n",
    "np.set_printoptions(precision=2, suppress=True)"
   ],
   "outputs": [],
   "metadata": {}
  },
  {
   "cell_type": "code",
   "execution_count": 17,
   "source": [
    "%run \"../auxfunc/fullmatrix.ipynb\"\r\n",
    "%run \"../auxfunc/algorithms.ipynb\""
   ],
   "outputs": [],
   "metadata": {}
  },
  {
   "cell_type": "code",
   "execution_count": 18,
   "source": [
    "cjprimal = [600, 400]\r\n",
    "\r\n",
    "Aprimal = np.array([\r\n",
    "    [1500, 1500],\r\n",
    "    [3000, 1000],\r\n",
    "    [2000, 5000],\r\n",
    "])\r\n",
    "\r\n",
    "bprimal = [20000, 40000, 44000]\r\n",
    "\r\n",
    "ineqprimal = [\">=\"] * 3\r\n"
   ],
   "outputs": [],
   "metadata": {}
  },
  {
   "cell_type": "code",
   "execution_count": 19,
   "source": [
    "solprimal, zvalues, lastprimalrow = simplex(matrix=Aprimal, rhs=bprimal, z=cjprimal, inequalities=ineqprimal, direction=-1)"
   ],
   "outputs": [
    {
     "output_type": "stream",
     "name": "stdout",
     "text": [
      "Iteration 1. Entering: x2, Leaving: Leaving: A3\n",
      "[[ 900.     0.    -1.     1.     0.     0.     0.3   -0.3]\n",
      " [2600.     0.     0.     0.    -1.     1.     0.2   -0.2]\n",
      " [   0.4    1.     0.     0.     0.     0.    -0.     0. ]] \n",
      "\n",
      "Solution [    0.      8.8     0.   6800.      0.  31200.      0.      0. ] \tZ: 38003520.00 \n",
      "\n",
      "Iteration 2. Entering: x1, Leaving: Leaving: A1\n",
      "[[ 1.    0.   -0.    0.    0.    0.    0.   -0.  ]\n",
      " [ 0.    0.    2.89 -2.89 -1.    1.   -0.67  0.67]\n",
      " [ 0.    1.    0.   -0.    0.    0.   -0.    0.  ]] \n",
      "\n",
      "Solution [    7.56     5.78     0.       0.       0.   11555.56     0.       0.  ] \tZ: 11562400.00 \n",
      "\n",
      "Iteration 3. Entering: s1, Leaving: Leaving: A2\n",
      "[[ 1.    0.    0.    0.   -0.    0.    0.   -0.  ]\n",
      " [ 0.    0.    1.   -1.   -0.35  0.35 -0.23  0.23]\n",
      " [ 0.    1.    0.    0.    0.   -0.   -0.    0.  ]] \n",
      "\n",
      "Solution [  12.    4. 4000.    0.    0.    0.    0.    0.] \tZ: 8800.00 \n",
      "\n",
      "Optimal solution found in 3 iterations\n",
      "('x1', 12.0) ('x2', 4.0) ('s1', 4000.0) ('A1', 0.0) ('s2', 0.0) ('A2', 0.0) ('s3', 0.0) ('A3', 0.0)\n"
     ]
    }
   ],
   "metadata": {}
  },
  {
   "cell_type": "code",
   "execution_count": 28,
   "source": [
    "print(solprimal)"
   ],
   "outputs": [
    {
     "output_type": "stream",
     "name": "stdout",
     "text": [
      "[[    0.       8.8      0.    6800.       0.   31200.       0.       0.  ]\n",
      " [    7.56     5.78     0.       0.       0.   11555.56     0.       0.  ]\n",
      " [   12.       4.    4000.       0.       0.       0.       0.       0.  ]]\n"
     ]
    }
   ],
   "metadata": {}
  },
  {
   "cell_type": "code",
   "execution_count": 21,
   "source": [
    "print(zvalues)"
   ],
   "outputs": [
    {
     "output_type": "stream",
     "name": "stdout",
     "text": [
      "[38003520.0, 11562400.000000007, 8800.0]\n"
     ]
    }
   ],
   "metadata": {}
  },
  {
   "cell_type": "code",
   "execution_count": 22,
   "source": [
    "print(lastprimalrow)"
   ],
   "outputs": [
    {
     "output_type": "stream",
     "name": "stdout",
     "text": [
      "[[  600.     400.       0.       0.      -0.17     0.17    -0.05     0.05]\n",
      " [   -0.      -0.      -0.   -1000.      -0.17  -999.83    -0.05  -999.95]]\n"
     ]
    }
   ],
   "metadata": {}
  },
  {
   "cell_type": "code",
   "execution_count": 23,
   "source": [
    "cjdual = bprimal\r\n",
    "Adual = Aprimal.T\r\n",
    "\r\n",
    "bdual = cjprimal\r\n",
    "\r\n",
    "ineqdual = [\"<=\"] * 2"
   ],
   "outputs": [],
   "metadata": {}
  },
  {
   "cell_type": "code",
   "execution_count": 24,
   "source": [
    "soldual, wvalues, lastdualrow = simplex(matrix=Adual, rhs=bdual, z=cjdual, inequalities=ineqdual, direction=1, vlabel=\"y\")"
   ],
   "outputs": [
    {
     "output_type": "stream",
     "name": "stdout",
     "text": [
      "Iteration 1. Entering: y3, Leaving: Leaving: s2\n",
      "[[ 900.  2600.     0.     1.    -0.4]\n",
      " [   0.3    0.2    1.     0.     0. ]] \n",
      "\n",
      "Solution [  0.     0.     0.08 440.     0.  ] \tZ: 3520.00 \n",
      "\n",
      "Iteration 2. Entering: y2, Leaving: Leaving: s1\n",
      "[[ 0.35  1.    0.    0.   -0.  ]\n",
      " [ 0.23  0.    1.   -0.    0.  ]] \n",
      "\n",
      "Solution [0.   0.17 0.05 0.   0.  ] \tZ: 8800.00 \n",
      "\n",
      "Optimal solution found in 2 iterations\n",
      "('y1', 0.0) ('y2', 0.169) ('y3', 0.046) ('s1', 0.0) ('s2', 0.0)\n"
     ]
    }
   ],
   "metadata": {}
  },
  {
   "cell_type": "code",
   "execution_count": 25,
   "source": [
    "print(soldual)"
   ],
   "outputs": [
    {
     "output_type": "stream",
     "name": "stdout",
     "text": [
      "[[  0.     0.     0.08 440.     0.  ]\n",
      " [  0.     0.17   0.05   0.     0.  ]]\n"
     ]
    }
   ],
   "metadata": {}
  },
  {
   "cell_type": "code",
   "execution_count": 26,
   "source": [
    "print(wvalues)"
   ],
   "outputs": [
    {
     "output_type": "stream",
     "name": "stdout",
     "text": [
      "[3520.0, 8800.0]\n"
     ]
    }
   ],
   "metadata": {}
  },
  {
   "cell_type": "code",
   "execution_count": 27,
   "source": [
    "print(lastdualrow)"
   ],
   "outputs": [
    {
     "output_type": "stream",
     "name": "stdout",
     "text": [
      "[[24000. 40000. 44000.    12.     4.]\n",
      " [-4000.     0.     0.   -12.    -4.]]\n"
     ]
    }
   ],
   "metadata": {}
  }
 ],
 "metadata": {
  "kernelspec": {
   "display_name": "Python 3",
   "language": "python",
   "name": "python3"
  },
  "language_info": {
   "codemirror_mode": {
    "name": "ipython",
    "version": 3
   },
   "file_extension": ".py",
   "mimetype": "text/x-python",
   "name": "python",
   "nbconvert_exporter": "python",
   "pygments_lexer": "ipython3",
   "version": "3.7.3"
  }
 },
 "nbformat": 4,
 "nbformat_minor": 4
}