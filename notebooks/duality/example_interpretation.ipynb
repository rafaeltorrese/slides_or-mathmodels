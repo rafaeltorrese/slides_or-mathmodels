{
 "cells": [
  {
   "cell_type": "markdown",
   "metadata": {},
   "source": [
    "# Example Economic Interpretation\n",
    "\n",
    "$$\\min Z = 600x_1 + 400x_2$$\n",
    "\n",
    "\\begin{align*}\n",
    "1500x_1 + 1500x_2 &\\geq 20000 \\\\\n",
    "3000x_1 + 1000x_2 &\\geq 40000 \\\\\n",
    "2000x_1 + 5000x_2 &\\geq 44000 \\\\[5mm]\n",
    "x_1, x_2 &\\geq 0\n",
    "\\end{align*}"
   ]
  },
  {
   "cell_type": "code",
   "execution_count": 16,
   "metadata": {},
   "outputs": [],
   "source": [
    "import numpy as np\n",
    "\n",
    "np.set_printoptions(precision=2, suppress=True)"
   ]
  },
  {
   "cell_type": "code",
   "execution_count": 17,
   "metadata": {},
   "outputs": [],
   "source": [
    "%run \"../auxfunc/fullmatrix.ipynb\"\n",
    "%run \"../auxfunc/algorithms.ipynb\""
   ]
  },
  {
   "cell_type": "code",
   "execution_count": 18,
   "metadata": {},
   "outputs": [],
   "source": [
    "cjprimal = [600, 400]\n",
    "\n",
    "Aprimal = np.array([\n",
    "    [1500, 1500],\n",
    "    [3000, 1000],\n",
    "    [2000, 5000],\n",
    "])\n",
    "\n",
    "bprimal = [20000, 40000, 44000]\n",
    "\n",
    "ineqprimal = [\">=\"] * 3\n"
   ]
  },
  {
   "cell_type": "code",
   "execution_count": 19,
   "metadata": {},
   "outputs": [
    {
     "name": "stdout",
     "output_type": "stream",
     "text": [
      "Iteration 1. Entering: x2, Leaving: Leaving: A3\n",
      "[[ 900.     0.    -1.     1.     0.     0.     0.3   -0.3]\n",
      " [2600.     0.     0.     0.    -1.     1.     0.2   -0.2]\n",
      " [   0.4    1.     0.     0.     0.     0.    -0.     0. ]] \n",
      "\n",
      "Solution [    0.      8.8     0.   6800.      0.  31200.      0.      0. ] \tZ: 38003520.00 \n",
      "\n",
      "Iteration 2. Entering: x1, Leaving: Leaving: A1\n",
      "[[ 1.    0.   -0.    0.    0.    0.    0.   -0.  ]\n",
      " [ 0.    0.    2.89 -2.89 -1.    1.   -0.67  0.67]\n",
      " [ 0.    1.    0.   -0.    0.    0.   -0.    0.  ]] \n",
      "\n",
      "Solution [    7.56     5.78     0.       0.       0.   11555.56     0.       0.  ] \tZ: 11562400.00 \n",
      "\n",
      "Iteration 3. Entering: s1, Leaving: Leaving: A2\n",
      "[[ 1.    0.    0.    0.   -0.    0.    0.   -0.  ]\n",
      " [ 0.    0.    1.   -1.   -0.35  0.35 -0.23  0.23]\n",
      " [ 0.    1.    0.    0.    0.   -0.   -0.    0.  ]] \n",
      "\n",
      "Solution [  12.    4. 4000.    0.    0.    0.    0.    0.] \tZ: 8800.00 \n",
      "\n",
      "Optimal solution found in 3 iterations\n",
      "('x1', 12.0) ('x2', 4.0) ('s1', 4000.0) ('A1', 0.0) ('s2', 0.0) ('A2', 0.0) ('s3', 0.0) ('A3', 0.0)\n"
     ]
    }
   ],
   "source": [
    "solprimal, zvalues, lastprimalrow = simplex(matrix=Aprimal, rhs=bprimal, z=cjprimal, inequalities=ineqprimal, direction=-1)"
   ]
  },
  {
   "cell_type": "code",
   "execution_count": 28,
   "metadata": {},
   "outputs": [
    {
     "name": "stdout",
     "output_type": "stream",
     "text": [
      "[[    0.       8.8      0.    6800.       0.   31200.       0.       0.  ]\n",
      " [    7.56     5.78     0.       0.       0.   11555.56     0.       0.  ]\n",
      " [   12.       4.    4000.       0.       0.       0.       0.       0.  ]]\n"
     ]
    }
   ],
   "source": [
    "print(solprimal)"
   ]
  },
  {
   "cell_type": "code",
   "execution_count": 21,
   "metadata": {},
   "outputs": [
    {
     "name": "stdout",
     "output_type": "stream",
     "text": [
      "[38003520.0, 11562400.000000007, 8800.0]\n"
     ]
    }
   ],
   "source": [
    "print(zvalues)"
   ]
  },
  {
   "cell_type": "code",
   "execution_count": 22,
   "metadata": {},
   "outputs": [
    {
     "name": "stdout",
     "output_type": "stream",
     "text": [
      "[[  600.     400.       0.       0.      -0.17     0.17    -0.05     0.05]\n",
      " [   -0.      -0.      -0.   -1000.      -0.17  -999.83    -0.05  -999.95]]\n"
     ]
    }
   ],
   "source": [
    "print(lastprimalrow)"
   ]
  },
  {
   "cell_type": "code",
   "execution_count": 23,
   "metadata": {},
   "outputs": [],
   "source": [
    "cjdual = bprimal\n",
    "Adual = Aprimal.T\n",
    "\n",
    "bdual = cjprimal\n",
    "\n",
    "ineqdual = [\"<=\"] * 2"
   ]
  },
  {
   "cell_type": "code",
   "execution_count": 24,
   "metadata": {},
   "outputs": [
    {
     "name": "stdout",
     "output_type": "stream",
     "text": [
      "Iteration 1. Entering: y3, Leaving: Leaving: s2\n",
      "[[ 900.  2600.     0.     1.    -0.4]\n",
      " [   0.3    0.2    1.     0.     0. ]] \n",
      "\n",
      "Solution [  0.     0.     0.08 440.     0.  ] \tZ: 3520.00 \n",
      "\n",
      "Iteration 2. Entering: y2, Leaving: Leaving: s1\n",
      "[[ 0.35  1.    0.    0.   -0.  ]\n",
      " [ 0.23  0.    1.   -0.    0.  ]] \n",
      "\n",
      "Solution [0.   0.17 0.05 0.   0.  ] \tZ: 8800.00 \n",
      "\n",
      "Optimal solution found in 2 iterations\n",
      "('y1', 0.0) ('y2', 0.169) ('y3', 0.046) ('s1', 0.0) ('s2', 0.0)\n"
     ]
    }
   ],
   "source": [
    "soldual, wvalues, lastdualrow = simplex(matrix=Adual, rhs=bdual, z=cjdual, inequalities=ineqdual, direction=1, vlabel=\"y\")"
   ]
  },
  {
   "cell_type": "code",
   "execution_count": 25,
   "metadata": {},
   "outputs": [
    {
     "name": "stdout",
     "output_type": "stream",
     "text": [
      "[[  0.     0.     0.08 440.     0.  ]\n",
      " [  0.     0.17   0.05   0.     0.  ]]\n"
     ]
    }
   ],
   "source": [
    "print(soldual)"
   ]
  },
  {
   "cell_type": "code",
   "execution_count": 26,
   "metadata": {},
   "outputs": [
    {
     "name": "stdout",
     "output_type": "stream",
     "text": [
      "[3520.0, 8800.0]\n"
     ]
    }
   ],
   "source": [
    "print(wvalues)"
   ]
  },
  {
   "cell_type": "code",
   "execution_count": 27,
   "metadata": {},
   "outputs": [
    {
     "name": "stdout",
     "output_type": "stream",
     "text": [
      "[[24000. 40000. 44000.    12.     4.]\n",
      " [-4000.     0.     0.   -12.    -4.]]\n"
     ]
    }
   ],
   "source": [
    "print(lastdualrow)"
   ]
  }
 ],
 "metadata": {
  "kernelspec": {
   "display_name": "Python 3",
   "language": "python",
   "name": "python3"
  },
  "language_info": {
   "codemirror_mode": {
    "name": "ipython",
    "version": 3
   },
   "file_extension": ".py",
   "mimetype": "text/x-python",
   "name": "python",
   "nbconvert_exporter": "python",
   "pygments_lexer": "ipython3",
   "version": "3.7.3"
  }
 },
 "nbformat": 4,
 "nbformat_minor": 4
}
