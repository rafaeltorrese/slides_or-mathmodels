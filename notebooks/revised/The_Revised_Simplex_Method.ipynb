{
 "cells": [
  {
   "cell_type": "markdown",
   "metadata": {},
   "source": [
    "# The Revised Simplex Method\n",
    "\n",
    "While solving a problem with simplex method, successive iterations are obtained by using row operations. This requires storing the entire table in the memory of the computer, which may not be feasible for very large problems. Luckily, it is really not necessary to calculate the entire table during each iteration. The only information needed in moving from one table to the next is\n",
    "\n",
    "1. The $c_j - Z_j$ row to dertermine the non-basic variable that enters the basis\n",
    "2. The pivote column\n",
    "3. The current basic variables and their values (right-hand side constants) to determine the minimum positive ratio and thereby to determine the basic variable that leaves the basis.\n",
    "\n",
    "In the revised simplex method, the above information is directly obtained from the original equations of the problem by making use of the current basis matrix $\\mathbf{B}$ and its inverse $\\mathbf{B}^{-1}$. This method will now be illustrated with the help of some examples."
   ]
  },
  {
   "cell_type": "markdown",
   "metadata": {},
   "source": [
    "## Example\n",
    "\n",
    "$$\\max Z = 6x_1 + 3x_2 + 4x_3 - 2x_4 + x_5$$\n",
    "\n",
    "\\begin{align*}\n",
    "2x_1 + 3x_2 + 3x_3 + x_4 & = 10\\\\\n",
    "x_1 + 2x_2 + x_3 + x_5 & = 8\\\\[5mm]\n",
    "x_1, x_2, x_3, x_4, x_5 & \\geq 0\n",
    "\\end{align*}"
   ]
  },
  {
   "cell_type": "code",
   "execution_count": 1,
   "metadata": {},
   "outputs": [],
   "source": [
    "import numpy as np"
   ]
  },
  {
   "cell_type": "code",
   "execution_count": 2,
   "metadata": {},
   "outputs": [],
   "source": [
    "%run \"../auxfunc/simplex_algorithm.ipynb\""
   ]
  },
  {
   "cell_type": "code",
   "execution_count": 66,
   "metadata": {},
   "outputs": [],
   "source": [
    "cj = np.array([6, 3, 4, -2, 1], dtype=float)\n",
    "\n",
    "A = np.array([\n",
    "    [2, 3, 3, 1, 0],\n",
    "    [1, 2, 1, 0, 1],\n",
    "], dtype=float)\n",
    "\n",
    "b = np.array([10, 8], dtype=float)"
   ]
  },
  {
   "cell_type": "code",
   "execution_count": 114,
   "metadata": {},
   "outputs": [
    {
     "name": "stdout",
     "output_type": "stream",
     "text": [
      "Iteration 1.  x4 --> x1\n",
      "[[ 1.   1.5  1.5  0.5  0. ]\n",
      " [ 0.   0.5 -0.5 -0.5  1. ]] \n",
      "\n",
      "cb [6. 1.] \n",
      "\n",
      "Solution [5. 0. 0. 0. 3.] \tZ: 33.00 \n",
      "\n",
      "Optimal solution found in 1 iterations\n"
     ]
    }
   ],
   "source": [
    "solutions_primal, zvalues, lastrows_z, cbindexes = simplex(matrix=A, rhs=b, z=cj, numxvars=3)"
   ]
  },
  {
   "cell_type": "code",
   "execution_count": 165,
   "metadata": {},
   "outputs": [],
   "source": [
    "cb_index = [3,4]\n",
    "cb = cj[cb_index]"
   ]
  },
  {
   "cell_type": "code",
   "execution_count": 166,
   "metadata": {},
   "outputs": [
    {
     "name": "stdout",
     "output_type": "stream",
     "text": [
      "[[1. 0.]\n",
      " [0. 1.]]\n"
     ]
    }
   ],
   "source": [
    "B = A[:, cb_index]\n",
    "print(B)"
   ]
  },
  {
   "cell_type": "code",
   "execution_count": 167,
   "metadata": {},
   "outputs": [
    {
     "name": "stdout",
     "output_type": "stream",
     "text": [
      "\n",
      " [[1. 0.]\n",
      " [0. 1.]]\n"
     ]
    }
   ],
   "source": [
    "Binv = np.linalg.inv(B)\n",
    "print(\"\\n\", Binv)"
   ]
  },
  {
   "cell_type": "code",
   "execution_count": 168,
   "metadata": {},
   "outputs": [
    {
     "name": "stdout",
     "output_type": "stream",
     "text": [
      "[[2. 3. 3. 1. 0.]\n",
      " [1. 2. 1. 0. 1.]]\n",
      "[10.  8.]\n"
     ]
    }
   ],
   "source": [
    "body = Binv.dot(A)\n",
    "print(body)\n",
    "rhs = Binv.dot(b)\n",
    "print(rhs)"
   ]
  },
  {
   "cell_type": "code",
   "execution_count": 169,
   "metadata": {},
   "outputs": [
    {
     "name": "stdout",
     "output_type": "stream",
     "text": [
      "[-2.  1.]\n"
     ]
    }
   ],
   "source": [
    "pimult = cb.dot(Binv)\n",
    "zj = pimult.dot(A)\n",
    "print(pimult)"
   ]
  },
  {
   "cell_type": "code",
   "execution_count": 170,
   "metadata": {},
   "outputs": [
    {
     "name": "stdout",
     "output_type": "stream",
     "text": [
      "[9. 7. 9. 0. 0.]\n"
     ]
    }
   ],
   "source": [
    "ner = cj - pimult.dot(A)\n",
    "print(ner)"
   ]
  },
  {
   "cell_type": "code",
   "execution_count": 171,
   "metadata": {},
   "outputs": [
    {
     "name": "stdout",
     "output_type": "stream",
     "text": [
      "0\n"
     ]
    }
   ],
   "source": [
    "entering = np.array(ner).argmax()\n",
    "print(entering)\n",
    "\n",
    "key_column = A[:, entering]\n",
    "ratios = np.divide(rhs, key_column, out=np.full_like(b, np.inf), where=key_column>0)\n",
    "leaving = ratios.argmin()\n",
    "print(leaving)"
   ]
  },
  {
   "cell_type": "code",
   "execution_count": 173,
   "metadata": {},
   "outputs": [
    {
     "name": "stdout",
     "output_type": "stream",
     "text": [
      "Binv\n",
      " [[ 0.5  0. ]\n",
      " [-0.5  1. ]]\n"
     ]
    }
   ],
   "source": [
    "cb_index = [0,4]\n",
    "B = A[:, cb_index]\n",
    "Binv = np.linalg.inv(B)\n",
    "print(\"Binv\\n\", Binv)"
   ]
  },
  {
   "cell_type": "code",
   "execution_count": 174,
   "metadata": {},
   "outputs": [],
   "source": [
    "cb = cj[cb_index]"
   ]
  },
  {
   "cell_type": "code",
   "execution_count": 175,
   "metadata": {},
   "outputs": [
    {
     "name": "stdout",
     "output_type": "stream",
     "text": [
      "[[ 1.   1.5  1.5  0.5  0. ]\n",
      " [ 0.   0.5 -0.5 -0.5  1. ]]\n",
      "rhs [5. 3.]\n"
     ]
    }
   ],
   "source": [
    "body = Binv.dot(A)\n",
    "print(body)\n",
    "rhs = Binv.dot(rhs)\n",
    "print(\"rhs\", rhs)"
   ]
  },
  {
   "cell_type": "code",
   "execution_count": 176,
   "metadata": {},
   "outputs": [
    {
     "name": "stdout",
     "output_type": "stream",
     "text": [
      "[2.5 1. ]\n"
     ]
    }
   ],
   "source": [
    "pimult = cb.dot(Binv)\n",
    "zj = pimult.dot(A)\n",
    "print(pimult)"
   ]
  },
  {
   "cell_type": "code",
   "execution_count": 177,
   "metadata": {},
   "outputs": [
    {
     "name": "stdout",
     "output_type": "stream",
     "text": [
      "[ 0.  -6.5 -4.5 -4.5  0. ]\n"
     ]
    }
   ],
   "source": [
    "ner = cj - zj\n",
    "print(ner)"
   ]
  },
  {
   "cell_type": "code",
   "execution_count": 178,
   "metadata": {},
   "outputs": [
    {
     "name": "stdout",
     "output_type": "stream",
     "text": [
      "[6. 1.]\n",
      "[5. 3.]\n"
     ]
    }
   ],
   "source": [
    "print(np.array(cb))\n",
    "print(rhs)"
   ]
  },
  {
   "cell_type": "code",
   "execution_count": null,
   "metadata": {},
   "outputs": [],
   "source": [
    "def simplex_revised(matrix, rhs, z, numxvars, direction=1):\n",
    "    '''The Revised Simplex algorithm to solve linear programming problems\n",
    "    \n",
    "    Parameters\n",
    "    ----------\n",
    "    matrix: numpy ndarray\n",
    "        Matrix of coefficients in the left-hand side\n",
    "    \n",
    "    rhs: numpy ndarray\n",
    "        Right-hand side vector\n",
    "    \n",
    "    numxvars: int\n",
    "        Number of x variables\n",
    "        \n",
    "    direction: {+1 , -1}\n",
    "        For maximization problems use +1 and for minimization problems use -1 instead.\n",
    "    \n",
    "    Returns\n",
    "    ---------\n",
    "    solutions: np.ndarray\n",
    "        Array of solutions for every iteration when an optimal solution was found\n",
    "    favlues: np.ndarray\n",
    "        Array of the objective function values in every iteration\n",
    "    lastrows: np.ndarray\n",
    "        Array of the last two rows (zj, cj - zj) in the optimal solution table\n",
    "    ''' \n",
    "    matrix = np.array(matrix, dtype=float)\n",
    "    rhs = np.array(rhs)\n",
    "    z = np.array(z)\n",
    "    \n",
    "    num_rows, num_cols = matrix.shape\n",
    "    labels = [f\"x{i + 1}\" for i in range(num_cols)]\n",
    "    onecols = np.where(matrix == 1)[1]\n",
    "    cb_index = onecols[onecols >= numxvars]\n",
    "    cb = z[cb_index]\n",
    "                       \n",
    "    zj = cb.dot(matrix)\n",
    "                       \n",
    "    net_evaluation = direction * (z - zj)\n",
    "    \n",
    "    solutions = []\n",
    "    fvalues = []\n",
    "    cbindexlist = []\n",
    "    iteration = 0\n",
    "    \n",
    "    B = A[:, cb_index]\n",
    "    Binv = np.linalg.inv(B)\n",
    "    while np.any(net_evaluation > 0):\n",
    "        solution = np.zeros_like(z)\n",
    "        entering = net_evaluation.argmax()  # entering variables (index)\n",
    "        entering_label = labels[entering]\n",
    "\n",
    "        key_col = matrix[ : , entering]\n",
    "        ratios = np.divide(rhs, key_col, out=np.full_like(rhs, np.inf), where=key_col>0)\n",
    "        leaving = ratios.argmin()   # leaving variables (index)\n",
    "        leaving_label = labels[cb_index[leaving]]     \n",
    "        \n",
    "        pivot = matrix[leaving, entering]\n",
    "        \n",
    "        if pivot != 1:\n",
    "            matrix[leaving] = matrix[leaving] / pivot\n",
    "            rhs[leaving] = rhs[leaving] / pivot\n",
    "        \n",
    "        for i in range(num_rows):\n",
    "            if i == leaving:\n",
    "                continue\n",
    "            factor = matrix[i, entering]\n",
    "            matrix[i] = -factor * matrix[leaving] + matrix[i]\n",
    "            rhs[i] = -factor * rhs[leaving] + rhs[i]\n",
    "        \n",
    "        cb_index[leaving] = entering\n",
    "        cb = z[cb_index]\n",
    "        \n",
    "        zj = cb.dot(matrix)\n",
    "        \n",
    "        net_evaluation = direction * (z - zj)\n",
    "\n",
    "        solution[cb_index] = rhs  # basics\n",
    "        \n",
    "        iteration += 1\n",
    "        print(f\"Iteration {iteration}.  {leaving_label} --> {entering_label}\")\n",
    "        print(matrix,  \"\\n\")\n",
    "        print(\"cb\", cb, \"\\n\")\n",
    "        print(\"Solution\", solution, f\"\\tZ: {cb.dot(rhs):0.2f}\", \"\\n\")\n",
    "        \n",
    "        solutions.append(solution)\n",
    "        fvalues.append(cb.dot(rhs))\n",
    "        cbindexlist.append(cb_index)\n",
    "        if np.all(net_evaluation <= 0):\n",
    "            print(f\"Optimal solution found in {iteration} iterations\")\n",
    "    return np.array(solutions), fvalues, np.vstack((zj, net_evaluation)), np.array(cbindexlist)"
   ]
  }
 ],
 "metadata": {
  "kernelspec": {
   "display_name": "Python 3",
   "language": "python",
   "name": "python3"
  },
  "language_info": {
   "codemirror_mode": {
    "name": "ipython",
    "version": 3
   },
   "file_extension": ".py",
   "mimetype": "text/x-python",
   "name": "python",
   "nbconvert_exporter": "python",
   "pygments_lexer": "ipython3",
   "version": "3.7.3"
  }
 },
 "nbformat": 4,
 "nbformat_minor": 4
}
