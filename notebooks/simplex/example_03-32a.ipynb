{
 "cells": [
  {
   "cell_type": "markdown",
   "metadata": {},
   "source": [
    "# Example 03-32\n",
    "\n",
    "$$\\max Z = 2x_1 + x_2 $$\n",
    "\n",
    "\\begin{align*}\n",
    "x_1 + 2x_2  &\\leq 10\\\\\n",
    "        x_1 + x_2  &\\leq 6\\\\\n",
    "        x_1 - x_2  &\\leq 2\\\\\n",
    "        x_1 - 2x_2  &\\leq 1\\\\\n",
    "    x_1, x_2  &\\geq 0\n",
    "\\end{align*}\n",
    "      "
   ]
  },
  {
   "cell_type": "code",
   "execution_count": 102,
   "metadata": {},
   "outputs": [],
   "source": [
    "import numpy as np"
   ]
  },
  {
   "cell_type": "markdown",
   "metadata": {},
   "source": [
    "## Initial table "
   ]
  },
  {
   "cell_type": "code",
   "execution_count": 103,
   "metadata": {},
   "outputs": [],
   "source": [
    "cj = np.array([2, 1, 0, 0, 0, 0], dtype=float)\n",
    "\n",
    "A = np.array([\n",
    "    [1, 2, 1, 0, 0, 0], \n",
    "    [1, 1, 0, 1, 0, 0], \n",
    "    [1, -1, 0, 0, 1, 0], \n",
    "    [1, -2, 0, 0, 0, 1],\n",
    "], \n",
    "    dtype=float)\n",
    "\n",
    "b = np.array([10, 6, 2, 1], dtype=float)\n",
    "\n",
    "\n",
    "solution_vector = np.zeros_like(cj)\n",
    "\n",
    "inf_ratios = np.full(b.size, np.inf)  # []\n",
    "\n",
    "num_rows, num_cols = A.shape"
   ]
  },
  {
   "cell_type": "code",
   "execution_count": 104,
   "metadata": {},
   "outputs": [
    {
     "name": "stdout",
     "output_type": "stream",
     "text": [
      "[[ 1.  2.  1.  0.  0.  0.]\n",
      " [ 1.  1.  0.  1.  0.  0.]\n",
      " [ 1. -1.  0.  0.  1.  0.]\n",
      " [ 1. -2.  0.  0.  0.  1.]] \n",
      "\n",
      "where function\n",
      " (array([0, 0, 1, 1, 1, 2, 2, 3, 3]), array([0, 2, 0, 1, 3, 0, 4, 0, 5]))\n",
      "[0 0 1 1 1 2 2 3 3]\n",
      "[0 2 0 1 3 0 4 0 5]\n",
      "\n",
      "Length of vector b: 4 \n",
      "\n",
      "np.full( ) function\n",
      "[inf inf inf inf]\n"
     ]
    }
   ],
   "source": [
    "print(A, \"\\n\")\n",
    "print(\"where function\\n\", np.where(A == 1))\n",
    "print(np.where(A == 1)[0])\n",
    "print(np.where(A == 1)[1])\n",
    "\n",
    "print()\n",
    "print(\"Length of vector b:\", b.size, \"\\n\")\n",
    "\n",
    "\n",
    "print(\"np.full( ) function\")\n",
    "print(np.full(b.size, np.inf))"
   ]
  },
  {
   "cell_type": "code",
   "execution_count": 105,
   "metadata": {},
   "outputs": [
    {
     "name": "stdout",
     "output_type": "stream",
     "text": [
      "[2 3 4 5]\n"
     ]
    }
   ],
   "source": [
    "numxvars = 2\n",
    "onecols = np.where(A == 1)[1]\n",
    "cb_index =  onecols[onecols >= numxvars] \n",
    "print(cb_index)"
   ]
  },
  {
   "cell_type": "markdown",
   "metadata": {},
   "source": [
    "### Update $Z_j$ and $c_j - Z_j$"
   ]
  },
  {
   "cell_type": "code",
   "execution_count": 106,
   "metadata": {},
   "outputs": [
    {
     "name": "stdout",
     "output_type": "stream",
     "text": [
      "Next Iteration\n"
     ]
    }
   ],
   "source": [
    "cb = cj[cb_index]\n",
    "zj = cb.dot(A)\n",
    "net_evaluation = cj - zj\n",
    "print(\"Optimal solution\") if np.all(net_evaluation <= 0) else print(\"Next Iteration\")"
   ]
  },
  {
   "cell_type": "markdown",
   "metadata": {},
   "source": [
    "## Iteration 1"
   ]
  },
  {
   "cell_type": "code",
   "execution_count": 107,
   "metadata": {},
   "outputs": [
    {
     "name": "stdout",
     "output_type": "stream",
     "text": [
      "1.0\n"
     ]
    }
   ],
   "source": [
    "entering = net_evaluation.argmax()\n",
    "key_col = A[:, entering] \n",
    "ratios = np.divide(b, key_col, out=inf_ratios, where=key_col>0)\n",
    "leaving =  ratios.argmin()\n",
    "\n",
    "pivot = A[leaving, entering]\n",
    "print(pivot)"
   ]
  },
  {
   "cell_type": "code",
   "execution_count": 108,
   "metadata": {},
   "outputs": [],
   "source": [
    "if pivot != 1:\n",
    "    A[leaving] /= pivot\n",
    "    b[leaving] /= pivot"
   ]
  },
  {
   "cell_type": "markdown",
   "metadata": {},
   "source": [
    "### Gauss Jordan"
   ]
  },
  {
   "cell_type": "code",
   "execution_count": 109,
   "metadata": {},
   "outputs": [
    {
     "name": "stdout",
     "output_type": "stream",
     "text": [
      "[[ 0.  4.  1.  0.  0. -1.]\n",
      " [ 0.  3.  0.  1.  0. -1.]\n",
      " [ 0.  1.  0.  0.  1. -1.]\n",
      " [ 1. -2.  0.  0.  0.  1.]]\n",
      "[9. 5. 1. 1.]\n"
     ]
    }
   ],
   "source": [
    "for i in range(num_rows):\n",
    "    if i == leaving: \n",
    "        continue\n",
    "    factor = A[i, entering]\n",
    "    A[i] += -factor * A[leaving] \n",
    "    b[i] += -factor * b[leaving] \n",
    "print(A)        \n",
    "print(b)"
   ]
  },
  {
   "cell_type": "code",
   "execution_count": 110,
   "metadata": {},
   "outputs": [
    {
     "name": "stdout",
     "output_type": "stream",
     "text": [
      "[2 3 4 5]\n",
      "5\n",
      "After update:  [2 3 4 0]\n"
     ]
    }
   ],
   "source": [
    "print(cb_index)\n",
    "print(cb_index[leaving])\n",
    "cb_index[leaving] = entering\n",
    "print(\"After update: \", cb_index)"
   ]
  },
  {
   "cell_type": "markdown",
   "metadata": {},
   "source": [
    "### Update $Z_j$ and $c_j - Z_j$"
   ]
  },
  {
   "cell_type": "code",
   "execution_count": 111,
   "metadata": {},
   "outputs": [
    {
     "name": "stdout",
     "output_type": "stream",
     "text": [
      "[0. 0. 0. 2.]\n",
      "[ 2. -4.  0.  0.  0.  2.]\n",
      "[ 0.  5.  0.  0.  0. -2.]\n",
      "Current Solution:  [1. 0. 9. 5. 1. 0.]\n",
      "Next Iteration\n"
     ]
    }
   ],
   "source": [
    "cb = cj[cb_index]\n",
    "zj = cb.dot(A)\n",
    "net_evaluation = cj - zj\n",
    "solution_vector[~cb_index] = 0\n",
    "solution_vector[cb_index] = b\n",
    "print(cb)\n",
    "print(zj)\n",
    "print(net_evaluation)\n",
    "print(\"Current Solution: \", solution_vector)\n",
    "print(\"Optimal solution\") if np.all(net_evaluation <= 0) else print(\"Next Iteration\")"
   ]
  },
  {
   "cell_type": "markdown",
   "metadata": {},
   "source": [
    "## Iteration 2"
   ]
  },
  {
   "cell_type": "code",
   "execution_count": 112,
   "metadata": {},
   "outputs": [
    {
     "name": "stdout",
     "output_type": "stream",
     "text": [
      "1.0\n"
     ]
    }
   ],
   "source": [
    "entering = net_evaluation.argmax()\n",
    "key_col = A[:, entering] \n",
    "ratios = np.divide(b, key_col, out=inf_ratios, where=key_col>0)\n",
    "leaving =  ratios.argmin()\n",
    "\n",
    "pivot = A[leaving, entering]\n",
    "print(pivot)"
   ]
  },
  {
   "cell_type": "code",
   "execution_count": 113,
   "metadata": {},
   "outputs": [],
   "source": [
    "if pivot != 1:\n",
    "    A[leaving] /= pivot\n",
    "    b[leaving] /= pivot"
   ]
  },
  {
   "cell_type": "markdown",
   "metadata": {},
   "source": [
    "### Gauss Jordan"
   ]
  },
  {
   "cell_type": "code",
   "execution_count": 114,
   "metadata": {},
   "outputs": [
    {
     "name": "stdout",
     "output_type": "stream",
     "text": [
      "[[ 0.  0.  1.  0. -4.  3.]\n",
      " [ 0.  0.  0.  1. -3.  2.]\n",
      " [ 0.  1.  0.  0.  1. -1.]\n",
      " [ 1.  0.  0.  0.  2. -1.]]\n",
      "[5. 2. 1. 3.]\n"
     ]
    }
   ],
   "source": [
    "for i in range(num_rows):\n",
    "    if i == leaving: \n",
    "        continue\n",
    "    factor = A[i, entering]\n",
    "    A[i] += -factor * A[leaving] \n",
    "    b[i] += -factor * b[leaving] \n",
    "print(A)        \n",
    "print(b)"
   ]
  },
  {
   "cell_type": "code",
   "execution_count": 115,
   "metadata": {},
   "outputs": [
    {
     "name": "stdout",
     "output_type": "stream",
     "text": [
      "[2 3 4 0]\n",
      "4\n",
      "After update:  [2 3 1 0]\n"
     ]
    }
   ],
   "source": [
    "print(cb_index)\n",
    "print(cb_index[leaving])\n",
    "cb_index[leaving] = entering\n",
    "print(\"After update: \", cb_index)"
   ]
  },
  {
   "cell_type": "markdown",
   "metadata": {},
   "source": [
    "### Update $Z_j$ and $c_j - Z_j$"
   ]
  },
  {
   "cell_type": "code",
   "execution_count": 116,
   "metadata": {},
   "outputs": [
    {
     "name": "stdout",
     "output_type": "stream",
     "text": [
      "[0. 0. 1. 2.]\n",
      "[ 2.  1.  0.  0.  5. -3.]\n",
      "[ 0.  0.  0.  0. -5.  3.]\n",
      "Current Solution:  [3. 1. 5. 2. 0. 0.]\n",
      "Next Iteration\n"
     ]
    }
   ],
   "source": [
    "cb = cj[cb_index]\n",
    "zj = cb.dot(A)\n",
    "net_evaluation = cj - zj\n",
    "solution_vector[~cb_index] = 0\n",
    "solution_vector[cb_index] = b\n",
    "print(cb)\n",
    "print(zj)\n",
    "print(net_evaluation)\n",
    "print(\"Current Solution: \", solution_vector)\n",
    "print(\"Optimal solution\") if np.all(net_evaluation <= 0) else print(\"Next Iteration\")"
   ]
  },
  {
   "cell_type": "markdown",
   "metadata": {},
   "source": [
    "## Iteration 3"
   ]
  },
  {
   "cell_type": "code",
   "execution_count": 117,
   "metadata": {},
   "outputs": [
    {
     "name": "stdout",
     "output_type": "stream",
     "text": [
      "2.0\n"
     ]
    }
   ],
   "source": [
    "entering = net_evaluation.argmax()\n",
    "key_col = A[:, entering] \n",
    "ratios = np.divide(b, key_col, out=inf_ratios, where=key_col>0)\n",
    "leaving =  ratios.argmin()\n",
    "\n",
    "pivot = A[leaving, entering]\n",
    "print(pivot)"
   ]
  },
  {
   "cell_type": "code",
   "execution_count": 118,
   "metadata": {},
   "outputs": [],
   "source": [
    "if pivot != 1:\n",
    "    A[leaving] /= pivot\n",
    "    b[leaving] /= pivot"
   ]
  },
  {
   "cell_type": "markdown",
   "metadata": {},
   "source": [
    "### Gauss Jordan"
   ]
  },
  {
   "cell_type": "code",
   "execution_count": 119,
   "metadata": {},
   "outputs": [
    {
     "name": "stdout",
     "output_type": "stream",
     "text": [
      "[[ 0.   0.   1.  -1.5  0.5  0. ]\n",
      " [ 0.   0.   0.   0.5 -1.5  1. ]\n",
      " [ 0.   1.   0.   0.5 -0.5  0. ]\n",
      " [ 1.   0.   0.   0.5  0.5  0. ]]\n",
      "[2. 1. 2. 4.]\n"
     ]
    }
   ],
   "source": [
    "for i in range(num_rows):\n",
    "    if i == leaving: \n",
    "        continue\n",
    "    factor = A[i, entering]\n",
    "    A[i] += -factor * A[leaving] \n",
    "    b[i] += -factor * b[leaving] \n",
    "print(A)        \n",
    "print(b)"
   ]
  },
  {
   "cell_type": "code",
   "execution_count": 120,
   "metadata": {},
   "outputs": [
    {
     "name": "stdout",
     "output_type": "stream",
     "text": [
      "[2 3 1 0]\n",
      "3\n",
      "After update:  [2 5 1 0]\n"
     ]
    }
   ],
   "source": [
    "print(cb_index)\n",
    "print(cb_index[leaving])\n",
    "cb_index[leaving] = entering\n",
    "print(\"After update: \", cb_index)"
   ]
  },
  {
   "cell_type": "markdown",
   "metadata": {},
   "source": [
    "### Update $Z_j$ and $c_j - Z_j$"
   ]
  },
  {
   "cell_type": "code",
   "execution_count": 121,
   "metadata": {},
   "outputs": [
    {
     "name": "stdout",
     "output_type": "stream",
     "text": [
      "[0. 0. 1. 2.]\n",
      "[2.  1.  0.  1.5 0.5 0. ]\n",
      "[ 0.   0.   0.  -1.5 -0.5  0. ]\n",
      "Current Solution:  [4. 2. 2. 0. 0. 1.]\n",
      "Optimal solution\n"
     ]
    }
   ],
   "source": [
    "cb = cj[cb_index]\n",
    "zj = cb.dot(A)\n",
    "net_evaluation = cj - zj\n",
    "solution_vector[~cb_index] = 0\n",
    "solution_vector[cb_index] = b\n",
    "print(cb)\n",
    "print(zj)\n",
    "print(net_evaluation)\n",
    "print(\"Current Solution: \", solution_vector)\n",
    "print(\"Optimal solution\") if np.all(net_evaluation <= 0) else print(\"Next Iteration\")"
   ]
  }
 ],
 "metadata": {
  "kernelspec": {
   "display_name": "Python 3",
   "language": "python",
   "name": "python3"
  },
  "language_info": {
   "codemirror_mode": {
    "name": "ipython",
    "version": 3
   },
   "file_extension": ".py",
   "mimetype": "text/x-python",
   "name": "python",
   "nbconvert_exporter": "python",
   "pygments_lexer": "ipython3",
   "version": "3.7.3"
  }
 },
 "nbformat": 4,
 "nbformat_minor": 4
}
