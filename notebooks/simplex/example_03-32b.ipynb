{
 "cells": [
  {
   "cell_type": "code",
   "execution_count": null,
   "metadata": {},
   "outputs": [],
   "source": []
  },
  {
   "cell_type": "code",
   "execution_count": 1,
   "metadata": {},
   "outputs": [],
   "source": [
    "import numpy as np"
   ]
  },
  {
   "cell_type": "code",
   "execution_count": 3,
   "metadata": {},
   "outputs": [],
   "source": [
    "cj = np.array([2, 1, 0, 0, 0, 0], dtype=float)\n",
    "\n",
    "A = np.array([\n",
    "    [1, 2, 1, 0, 0, 0], \n",
    "    [1, 1, 0, 1, 0, 0], \n",
    "    [1, -1, 0, 0, 1, 0], \n",
    "    [1, -2, 0, 0, 0, 1],\n",
    "], \n",
    "    dtype=float)\n",
    "\n",
    "b = np.array([10, 6, 2, 1], dtype=float)"
   ]
  },
  {
   "cell_type": "code",
   "execution_count": 4,
   "metadata": {},
   "outputs": [],
   "source": [
    "%run \"simplex_algorithm.ipynb\""
   ]
  },
  {
   "cell_type": "code",
   "execution_count": 5,
   "metadata": {},
   "outputs": [
    {
     "name": "stdout",
     "output_type": "stream",
     "text": [
      "Iteration 1\n",
      "[[ 0.  4.  1.  0.  0. -1.]\n",
      " [ 0.  3.  0.  1.  0. -1.]\n",
      " [ 0.  1.  0.  0.  1. -1.]\n",
      " [ 1. -2.  0.  0.  0.  1.]] \n",
      "\n",
      "Solution [1. 0. 9. 5. 1. 0.] \tZ: 2.00 \n",
      "\n",
      "Iteration 2\n",
      "[[ 0.  0.  1.  0. -4.  3.]\n",
      " [ 0.  0.  0.  1. -3.  2.]\n",
      " [ 0.  1.  0.  0.  1. -1.]\n",
      " [ 1.  0.  0.  0.  2. -1.]] \n",
      "\n",
      "Solution [3. 1. 5. 2. 0. 0.] \tZ: 7.00 \n",
      "\n",
      "Iteration 3\n",
      "[[ 0.   0.   1.  -1.5  0.5  0. ]\n",
      " [ 0.   0.   0.   0.5 -1.5  1. ]\n",
      " [ 0.   1.   0.   0.5 -0.5  0. ]\n",
      " [ 1.   0.   0.   0.5  0.5  0. ]] \n",
      "\n",
      "Solution [4. 2. 2. 0. 0. 1.] \tZ: 10.00 \n",
      "\n",
      "Optimal solution found in 3 iterations\n"
     ]
    }
   ],
   "source": [
    "sols, zvalues = simplex(matrix=A, rhs=b, z=cj, numxvars=2, direction=1)"
   ]
  }
 ],
 "metadata": {
  "kernelspec": {
   "display_name": "Python 3",
   "language": "python",
   "name": "python3"
  },
  "language_info": {
   "codemirror_mode": {
    "name": "ipython",
    "version": 3
   },
   "file_extension": ".py",
   "mimetype": "text/x-python",
   "name": "python",
   "nbconvert_exporter": "python",
   "pygments_lexer": "ipython3",
   "version": "3.7.3"
  }
 },
 "nbformat": 4,
 "nbformat_minor": 4
}
