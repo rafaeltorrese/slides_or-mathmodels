{
 "cells": [
  {
   "cell_type": "markdown",
   "id": "ea73386e",
   "metadata": {},
   "source": [
    "# Examle 03-23\n",
    "\n",
    "$$\\max Z = x_1 + 3x_2 + 3x_3$$\n",
    "\n",
    "\n",
    "\\begin{align*}\n",
    "x_1 + 2x_2 + 3x_3 &= 4\\\\\n",
    "2x_1 + 3x_2 + 5x_3 &= 7\\\\\n",
    "x_1, x_2,x_3  &\\geq 0\n",
    "\\end{align*}\n",
    "\n",
    "\n",
    "  "
   ]
  },
  {
   "cell_type": "code",
   "execution_count": 1,
   "id": "5c445a32",
   "metadata": {},
   "outputs": [],
   "source": [
    "from itertools import combinations\n",
    "import numpy as np"
   ]
  },
  {
   "cell_type": "code",
   "execution_count": 2,
   "id": "375cb42a",
   "metadata": {},
   "outputs": [],
   "source": [
    "z = np.array([1, 3, 3])\n",
    "\n",
    "A = np.array([\n",
    "    [1, 2, 3],\n",
    "    [2, 3, 5],\n",
    "])\n",
    "\n",
    "b = np.array([4, 7])"
   ]
  },
  {
   "cell_type": "code",
   "execution_count": 4,
   "id": "5aeaabce",
   "metadata": {},
   "outputs": [
    {
     "name": "stdout",
     "output_type": "stream",
     "text": [
      "(2, 3)\n",
      "2\n"
     ]
    }
   ],
   "source": [
    "print(A.shape)\n",
    "num_constraints, num_variables = A.shape\n",
    "print(num_constraints)"
   ]
  },
  {
   "cell_type": "code",
   "execution_count": 7,
   "id": "422047de",
   "metadata": {},
   "outputs": [
    {
     "name": "stdout",
     "output_type": "stream",
     "text": [
      "[(0, 1), (0, 2), (1, 2)]\n",
      "[(0, 1), (0, 2), (1, 2)]\n"
     ]
    }
   ],
   "source": [
    "list(range(num_variables))\n",
    "print(list(combinations(range(num_variables),  num_constraints)))\n",
    "print([*combinations(range(num_variables),  num_constraints)])"
   ]
  },
  {
   "cell_type": "code",
   "execution_count": 8,
   "id": "26e605e2",
   "metadata": {},
   "outputs": [
    {
     "name": "stdout",
     "output_type": "stream",
     "text": [
      "[(0, 1), (0, 2), (1, 2)]\n"
     ]
    }
   ],
   "source": [
    "columns_index = [*combinations(range(num_variables),  num_constraints)]\n",
    "print(columns_index)"
   ]
  },
  {
   "cell_type": "code",
   "execution_count": 9,
   "id": "46f788db",
   "metadata": {},
   "outputs": [
    {
     "name": "stdout",
     "output_type": "stream",
     "text": [
      "[[1 2 3]\n",
      " [2 3 5]]\n"
     ]
    }
   ],
   "source": [
    "print(A)"
   ]
  },
  {
   "cell_type": "code",
   "execution_count": 13,
   "id": "9e48aff1",
   "metadata": {},
   "outputs": [
    {
     "name": "stdout",
     "output_type": "stream",
     "text": [
      "[1 2] \n",
      "\n",
      "[2 3] \n",
      "\n"
     ]
    }
   ],
   "source": [
    "print(A[:, 0], '\\n')\n",
    "\n",
    "print(A[:, 1], '\\n')"
   ]
  },
  {
   "cell_type": "code",
   "execution_count": 15,
   "id": "54035b22",
   "metadata": {},
   "outputs": [
    {
     "name": "stdout",
     "output_type": "stream",
     "text": [
      "[[1 3]\n",
      " [2 5]] \n",
      "\n",
      "[[2 3]\n",
      " [3 5]] \n",
      "\n",
      "[(0, 1), (0, 2), (1, 2)]\n"
     ]
    }
   ],
   "source": [
    "print(A[:, [0, 2]], '\\n')\n",
    "\n",
    "print(A[:, [1, 2]], '\\n')\n",
    "\n",
    "print(columns_index)"
   ]
  },
  {
   "cell_type": "code",
   "execution_count": 19,
   "id": "5a547bd8",
   "metadata": {},
   "outputs": [
    {
     "name": "stdout",
     "output_type": "stream",
     "text": [
      "[(0, 1), (0, 2), (1, 2)] \n",
      "\n",
      "(0, 1) \n",
      "\n",
      "(0, 2) \n",
      "\n"
     ]
    }
   ],
   "source": [
    "print(columns_index, '\\n')\n",
    "print(columns_index[0], '\\n')\n",
    "print(columns_index[1], '\\n')"
   ]
  },
  {
   "cell_type": "code",
   "execution_count": 21,
   "id": "72a4e5f4",
   "metadata": {},
   "outputs": [
    {
     "name": "stdout",
     "output_type": "stream",
     "text": [
      "[[1 2]\n",
      " [2 3]] \n",
      "\n",
      "[[1 2]\n",
      " [2 3]] \n",
      "\n"
     ]
    }
   ],
   "source": [
    "print(A[:, [0, 1]], '\\n')\n",
    "\n",
    "print(A[:, columns_index[0]], '\\n')"
   ]
  },
  {
   "cell_type": "code",
   "execution_count": 22,
   "id": "9dc9976d",
   "metadata": {},
   "outputs": [],
   "source": [
    "sys_eq01 = A[:, columns_index[0]]\n",
    "sys_eq02 = A[:, columns_index[1]]\n",
    "sys_eq03 = A[:, columns_index[2]]"
   ]
  },
  {
   "cell_type": "code",
   "execution_count": 23,
   "id": "d67afa33",
   "metadata": {},
   "outputs": [
    {
     "name": "stdout",
     "output_type": "stream",
     "text": [
      "3\n"
     ]
    }
   ],
   "source": [
    "print(len(columns_index))"
   ]
  },
  {
   "cell_type": "code",
   "execution_count": 24,
   "id": "cb6fae5d",
   "metadata": {},
   "outputs": [
    {
     "name": "stdout",
     "output_type": "stream",
     "text": [
      "[[1 3]\n",
      " [2 5]]\n"
     ]
    }
   ],
   "source": [
    "print(sys_eq02)"
   ]
  },
  {
   "cell_type": "code",
   "execution_count": 26,
   "id": "550ced14",
   "metadata": {},
   "outputs": [
    {
     "name": "stdout",
     "output_type": "stream",
     "text": [
      "[0 0 0]\n"
     ]
    }
   ],
   "source": [
    "solution1 = np.zeros_like(z)\n",
    "print(solution1)\n",
    "solution2 = np.zeros_like(z)\n",
    "solution3 = np.zeros_like(z)"
   ]
  },
  {
   "cell_type": "code",
   "execution_count": 28,
   "id": "e6a083f2",
   "metadata": {},
   "outputs": [
    {
     "name": "stdout",
     "output_type": "stream",
     "text": [
      "[(0, 1), (0, 2), (1, 2)]\n"
     ]
    }
   ],
   "source": [
    "print(columns_index)"
   ]
  },
  {
   "cell_type": "code",
   "execution_count": 31,
   "id": "04509ef6",
   "metadata": {},
   "outputs": [
    {
     "name": "stdout",
     "output_type": "stream",
     "text": [
      "[2. 1.]\n",
      "[1. 1.]\n",
      "[-1.  2.]\n"
     ]
    }
   ],
   "source": [
    "print(np.linalg.solve(sys_eq01, b))\n",
    "print(np.linalg.solve(sys_eq02, b))\n",
    "print(np.linalg.solve(sys_eq03, b))"
   ]
  },
  {
   "cell_type": "code",
   "execution_count": 36,
   "id": "c37c88e8",
   "metadata": {},
   "outputs": [
    {
     "name": "stdout",
     "output_type": "stream",
     "text": [
      "[2 1 0]\n",
      "[2. 1.]\n",
      "[0, 1]\n",
      "Solution 1\n",
      "[2 1 0]\n"
     ]
    }
   ],
   "source": [
    "print(solution1)\n",
    "print(np.linalg.solve(sys_eq01, b))  # x1, x2\n",
    "print([*columns_index[0]])\n",
    "\n",
    "print(\"Solution 1\")\n",
    "solution1[[*columns_index[0]]] = np.linalg.solve(sys_eq01, b)\n",
    "print(solution1)"
   ]
  },
  {
   "cell_type": "code",
   "execution_count": 37,
   "id": "392abc9f",
   "metadata": {},
   "outputs": [
    {
     "name": "stdout",
     "output_type": "stream",
     "text": [
      "Solution 2 before [0 0 0]\n",
      "Solution 3 before [0 0 0]\n",
      "\n",
      "Solution 2 AFTER [1 0 1]\n",
      "Solution 3 AFTER [ 0 -1  2]\n"
     ]
    }
   ],
   "source": [
    "print(f\"Solution 2 before {solution2}\")\n",
    "print(f\"Solution 3 before {solution3}\")\n",
    "print()\n",
    "solution2[[*columns_index[1]]] = np.linalg.solve(sys_eq02, b)\n",
    "solution3[[*columns_index[2]]] = np.linalg.solve(sys_eq03, b)\n",
    "\n",
    "print(f\"Solution 2 AFTER {solution2}\")\n",
    "print(f\"Solution 3 AFTER {solution3}\")"
   ]
  },
  {
   "cell_type": "code",
   "execution_count": 38,
   "id": "92eeb21c",
   "metadata": {},
   "outputs": [
    {
     "name": "stdout",
     "output_type": "stream",
     "text": [
      "[ True  True  True]\n"
     ]
    }
   ],
   "source": [
    "print(solution1 >= 0 )"
   ]
  },
  {
   "cell_type": "code",
   "execution_count": 40,
   "id": "5e437571",
   "metadata": {},
   "outputs": [
    {
     "name": "stdout",
     "output_type": "stream",
     "text": [
      "Solution 2, is feasible?\n",
      "[ True  True  True]\n"
     ]
    }
   ],
   "source": [
    "print(\"Solution 2, is feasible?\")\n",
    "print(solution2 >= 0 )"
   ]
  },
  {
   "cell_type": "code",
   "execution_count": 41,
   "id": "17be5563",
   "metadata": {},
   "outputs": [
    {
     "name": "stdout",
     "output_type": "stream",
     "text": [
      "Solution 3, is feasible?\n",
      "[ True False  True]\n"
     ]
    }
   ],
   "source": [
    "print(\"Solution 3, is feasible?\")\n",
    "print(solution3 >= 0 )"
   ]
  },
  {
   "cell_type": "code",
   "execution_count": 44,
   "id": "ac0dd969",
   "metadata": {},
   "outputs": [
    {
     "name": "stdout",
     "output_type": "stream",
     "text": [
      "Solution 1 is feasible\n",
      "Solution 2 is feasible\n",
      "Solution 3 is infeasible\n"
     ]
    }
   ],
   "source": [
    "if (solution1 >= 0).all():\n",
    "    print(\"Solution 1 is feasible\")\n",
    "else:\n",
    "    print(\"Solution 1 is infeasible\")\n",
    "\n",
    "if (solution2 >= 0).all():\n",
    "    print(\"Solution 2 is feasible\")\n",
    "else:\n",
    "    print(\"Solution 2 is infeasible\")\n",
    "\n",
    "if (solution3 >= 0).all():\n",
    "    print(\"Solution 3 is feasible\")\n",
    "else:\n",
    "    print(\"Solution 3 is infeasible\")"
   ]
  },
  {
   "cell_type": "code",
   "execution_count": 46,
   "id": "e03e2fd8",
   "metadata": {},
   "outputs": [
    {
     "name": "stdout",
     "output_type": "stream",
     "text": [
      "5\n"
     ]
    }
   ],
   "source": [
    "print(z.dot(solution1))"
   ]
  },
  {
   "cell_type": "code",
   "execution_count": 47,
   "id": "4603c699",
   "metadata": {},
   "outputs": [
    {
     "data": {
      "text/plain": [
       "4"
      ]
     },
     "execution_count": 47,
     "metadata": {},
     "output_type": "execute_result"
    }
   ],
   "source": [
    "z.dot(solution2)\n"
   ]
  },
  {
   "cell_type": "code",
   "execution_count": 48,
   "id": "6d504fd3",
   "metadata": {},
   "outputs": [
    {
     "data": {
      "text/plain": [
       "3"
      ]
     },
     "execution_count": 48,
     "metadata": {},
     "output_type": "execute_result"
    }
   ],
   "source": [
    "z.dot(solution3)"
   ]
  },
  {
   "cell_type": "code",
   "execution_count": 49,
   "id": "57d2d7ea",
   "metadata": {},
   "outputs": [],
   "source": [
    "z1 = z.dot(solution1)\n",
    "z2 = z.dot(solution2)"
   ]
  },
  {
   "cell_type": "code",
   "execution_count": 50,
   "id": "8696ac82",
   "metadata": {},
   "outputs": [
    {
     "name": "stdout",
     "output_type": "stream",
     "text": [
      "[5, 4]\n"
     ]
    }
   ],
   "source": [
    "zvalues = [z1, z2]\n",
    "print(zvalues)"
   ]
  },
  {
   "cell_type": "code",
   "execution_count": 51,
   "id": "84690850",
   "metadata": {},
   "outputs": [
    {
     "name": "stdout",
     "output_type": "stream",
     "text": [
      "5\n"
     ]
    }
   ],
   "source": [
    "print(max(zvalues))"
   ]
  },
  {
   "cell_type": "code",
   "execution_count": 52,
   "id": "13c3d87a",
   "metadata": {},
   "outputs": [
    {
     "name": "stdout",
     "output_type": "stream",
     "text": [
      "[array([2, 1, 0]), array([1, 0, 1])]\n",
      "[5, 4]\n"
     ]
    }
   ],
   "source": [
    "solutions = [solution1, solution2]\n",
    "print(solutions)\n",
    "print(zvalues)"
   ]
  },
  {
   "cell_type": "code",
   "execution_count": 56,
   "id": "11abab06",
   "metadata": {},
   "outputs": [
    {
     "name": "stdout",
     "output_type": "stream",
     "text": [
      "[(0, 5), (1, 4)]\n",
      "(1, 4)\n"
     ]
    }
   ],
   "source": [
    "print([*enumerate(zvalues)])\n",
    "print(max(enumerate(zvalues)))\n"
   ]
  },
  {
   "cell_type": "code",
   "execution_count": 57,
   "id": "ff74423a",
   "metadata": {},
   "outputs": [
    {
     "name": "stdout",
     "output_type": "stream",
     "text": [
      "(0, 5)\n"
     ]
    }
   ],
   "source": [
    "print(max(enumerate(zvalues), key=lambda t:t[1]))"
   ]
  },
  {
   "cell_type": "code",
   "execution_count": 58,
   "id": "95caeaf3",
   "metadata": {},
   "outputs": [],
   "source": [
    "best_index, best = max(enumerate(zvalues), key=lambda t:t[1])"
   ]
  },
  {
   "cell_type": "code",
   "execution_count": 59,
   "id": "aff39392",
   "metadata": {},
   "outputs": [
    {
     "name": "stdout",
     "output_type": "stream",
     "text": [
      "0\n"
     ]
    }
   ],
   "source": [
    "print(best_index)"
   ]
  },
  {
   "cell_type": "code",
   "execution_count": 60,
   "id": "fd38e5e9",
   "metadata": {},
   "outputs": [
    {
     "name": "stdout",
     "output_type": "stream",
     "text": [
      "5\n"
     ]
    }
   ],
   "source": [
    "print(best)"
   ]
  },
  {
   "cell_type": "code",
   "execution_count": 61,
   "id": "4d594084",
   "metadata": {},
   "outputs": [
    {
     "name": "stdout",
     "output_type": "stream",
     "text": [
      "[array([2, 1, 0]), array([1, 0, 1])]\n"
     ]
    }
   ],
   "source": [
    "print(solutions)"
   ]
  },
  {
   "cell_type": "code",
   "execution_count": 62,
   "id": "c0df4023",
   "metadata": {},
   "outputs": [
    {
     "name": "stdout",
     "output_type": "stream",
     "text": [
      "[2 1 0]\n"
     ]
    }
   ],
   "source": [
    "best_solution = solutions[best_index]\n",
    "print(best_solution)"
   ]
  },
  {
   "cell_type": "code",
   "execution_count": 63,
   "id": "28f969f1",
   "metadata": {},
   "outputs": [
    {
     "name": "stdout",
     "output_type": "stream",
     "text": [
      "Optimal solution found at [2 1 0] with zvalue: 5\n"
     ]
    }
   ],
   "source": [
    "print(f'Optimal solution found at {best_solution} with zvalue: {best}')"
   ]
  }
 ],
 "metadata": {
  "kernelspec": {
   "display_name": "optimization",
   "language": "python",
   "name": "optimization"
  },
  "language_info": {
   "codemirror_mode": {
    "name": "ipython",
    "version": 3
   },
   "file_extension": ".py",
   "mimetype": "text/x-python",
   "name": "python",
   "nbconvert_exporter": "python",
   "pygments_lexer": "ipython3",
   "version": "3.8.11"
  }
 },
 "nbformat": 4,
 "nbformat_minor": 5
}
