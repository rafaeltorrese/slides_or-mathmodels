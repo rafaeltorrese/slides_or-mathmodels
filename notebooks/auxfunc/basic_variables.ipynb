{
 "cells": [
  {
   "cell_type": "code",
   "execution_count": 1,
   "id": "recent-concrete",
   "metadata": {},
   "outputs": [],
   "source": [
    "import numpy as np"
   ]
  },
  {
   "cell_type": "code",
   "execution_count": 2,
   "id": "distributed-complement",
   "metadata": {},
   "outputs": [],
   "source": [
    "A = np.array([\n",
    "    [2, 3, 3, 1, 0],\n",
    "    [1, 2, 1, 0, 1],\n",
    "])"
   ]
  },
  {
   "cell_type": "code",
   "execution_count": 3,
   "id": "secret-answer",
   "metadata": {},
   "outputs": [],
   "source": [
    "cj = np.array([6, 3, 4, -2, 1])"
   ]
  },
  {
   "cell_type": "code",
   "execution_count": 5,
   "id": "technical-vintage",
   "metadata": {},
   "outputs": [
    {
     "name": "stdout",
     "output_type": "stream",
     "text": [
      "(array([0, 1, 1, 1], dtype=int64), array([3, 0, 2, 4], dtype=int64))\n"
     ]
    }
   ],
   "source": [
    "print(np.where(A == 1))"
   ]
  },
  {
   "cell_type": "code",
   "execution_count": 60,
   "id": "aggressive-anchor",
   "metadata": {},
   "outputs": [],
   "source": [
    "cj2 = np.array([5, 12, 4, 0, -1000])\n",
    "\n",
    "A2 = np.array([\n",
    "    [0, 1, -1/5, 2/5, -1/5],\n",
    "    [1, 0, 7/5, 1/5, 2/5],\n",
    "], dtype=float)"
   ]
  },
  {
   "cell_type": "code",
   "execution_count": 61,
   "id": "minimal-galaxy",
   "metadata": {},
   "outputs": [
    {
     "name": "stdout",
     "output_type": "stream",
     "text": [
      "[[ 0.   1.  -0.2  0.4 -0.2]\n",
      " [ 1.   0.   1.4  0.2  0.4]]\n"
     ]
    }
   ],
   "source": [
    "print(A2)"
   ]
  },
  {
   "cell_type": "code",
   "execution_count": 62,
   "id": "essential-china",
   "metadata": {},
   "outputs": [
    {
     "name": "stdout",
     "output_type": "stream",
     "text": [
      "[12  5]\n"
     ]
    }
   ],
   "source": [
    "cbindex = np.where((A2 == 1) & (np.abs(A2).sum(axis=0) == 1))[1]\n",
    "cb = cj2[cbindex]\n",
    "print(cb)"
   ]
  },
  {
   "cell_type": "code",
   "execution_count": null,
   "id": "coral-huntington",
   "metadata": {},
   "outputs": [],
   "source": []
  },
  {
   "cell_type": "code",
   "execution_count": 14,
   "id": "structured-compensation",
   "metadata": {},
   "outputs": [],
   "source": [
    "%run \"fullmatrix.ipynb\""
   ]
  },
  {
   "cell_type": "code",
   "execution_count": 18,
   "id": "ambient-idaho",
   "metadata": {},
   "outputs": [],
   "source": [
    "cj = [40, 25, 50]\n",
    "\n",
    "A = np.array([\n",
    "    [1, 2, 1],\n",
    "    [2, 1, 4],\n",
    "    [2, 5, 1],\n",
    "])\n",
    "\n",
    "b = [36, 60, 45]\n",
    "\n",
    "ineq = [\">=\"] * 3\n"
   ]
  },
  {
   "cell_type": "code",
   "execution_count": 19,
   "id": "sought-portal",
   "metadata": {},
   "outputs": [],
   "source": [
    "full_matrix, full_labels, cj = create_fullmatrix(body=A, inequalities=ineq, c=cj, varlabel=\"x\", direction=1, M=1000 )"
   ]
  },
  {
   "cell_type": "code",
   "execution_count": 33,
   "id": "clean-facility",
   "metadata": {},
   "outputs": [
    {
     "name": "stdout",
     "output_type": "stream",
     "text": [
      "[[ 1.  2.  1. -1.  1.  0.  0.  0.  0.]\n",
      " [ 2.  1.  4.  0.  0. -1.  1.  0.  0.]\n",
      " [ 2.  5.  1.  0.  0.  0.  0. -1.  1.]]\n"
     ]
    }
   ],
   "source": [
    "print(full_matrix)"
   ]
  },
  {
   "cell_type": "code",
   "execution_count": 34,
   "id": "accepted-friendship",
   "metadata": {},
   "outputs": [
    {
     "name": "stdout",
     "output_type": "stream",
     "text": [
      "(array([0, 0, 0, 1, 1, 2, 2], dtype=int64), array([0, 2, 4, 1, 6, 2, 8], dtype=int64))\n"
     ]
    }
   ],
   "source": [
    "print(np.where(full_matrix == 1))"
   ]
  },
  {
   "cell_type": "code",
   "execution_count": 36,
   "id": "chemical-palmer",
   "metadata": {},
   "outputs": [
    {
     "data": {
      "text/plain": [
       "(array([0, 1, 2], dtype=int64), array([4, 6, 8], dtype=int64))"
      ]
     },
     "execution_count": 36,
     "metadata": {},
     "output_type": "execute_result"
    }
   ],
   "source": [
    "np.where((full_matrix == 1) & (np.abs(full_matrix).sum(axis=0) == 1))"
   ]
  },
  {
   "cell_type": "code",
   "execution_count": 39,
   "id": "upset-lying",
   "metadata": {},
   "outputs": [
    {
     "name": "stdout",
     "output_type": "stream",
     "text": [
      "[[ True False  True False  True False False False False]\n",
      " [False  True False False False False  True False False]\n",
      " [False False  True False False False False False  True]]\n"
     ]
    }
   ],
   "source": [
    "print(full_matrix == 1)"
   ]
  },
  {
   "cell_type": "code",
   "execution_count": 45,
   "id": "bibliographic-signature",
   "metadata": {},
   "outputs": [
    {
     "data": {
      "text/plain": [
       "(array([0, 1, 4, 6, 8], dtype=int64),)"
      ]
     },
     "execution_count": 45,
     "metadata": {},
     "output_type": "execute_result"
    }
   ],
   "source": [
    "np.where((full_matrix == 1).sum(axis=0) == 1) "
   ]
  },
  {
   "cell_type": "code",
   "execution_count": 41,
   "id": "geological-sweet",
   "metadata": {},
   "outputs": [
    {
     "data": {
      "text/plain": [
       "(array([3, 4, 5, 6, 7, 8], dtype=int64),)"
      ]
     },
     "execution_count": 41,
     "metadata": {},
     "output_type": "execute_result"
    }
   ],
   "source": [
    "np.where(np.abs(full_matrix).sum(axis=0) == 1)"
   ]
  },
  {
   "cell_type": "code",
   "execution_count": 46,
   "id": "configured-library",
   "metadata": {},
   "outputs": [
    {
     "data": {
      "text/plain": [
       "(array([0, 0, 0, 1, 1, 2, 2], dtype=int64),\n",
       " array([0, 2, 4, 1, 6, 2, 8], dtype=int64))"
      ]
     },
     "execution_count": 46,
     "metadata": {},
     "output_type": "execute_result"
    }
   ],
   "source": [
    "np.where(full_matrix == 1)"
   ]
  }
 ],
 "metadata": {
  "kernelspec": {
   "display_name": "Python 3",
   "language": "python",
   "name": "python3"
  },
  "language_info": {
   "codemirror_mode": {
    "name": "ipython",
    "version": 3
   },
   "file_extension": ".py",
   "mimetype": "text/x-python",
   "name": "python",
   "nbconvert_exporter": "python",
   "pygments_lexer": "ipython3",
   "version": "3.7.3"
  }
 },
 "nbformat": 4,
 "nbformat_minor": 5
}
