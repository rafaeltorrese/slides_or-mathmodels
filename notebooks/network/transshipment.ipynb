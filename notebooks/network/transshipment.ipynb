{
 "cells": [
  {
   "cell_type": "code",
   "execution_count": 24,
   "id": "897de36e",
   "metadata": {
    "id": "897de36e"
   },
   "outputs": [],
   "source": [
    "import gurobipy as gp\n",
    "from gurobipy import GRB"
   ]
  },
  {
   "cell_type": "code",
   "execution_count": 25,
   "id": "ad555c6a",
   "metadata": {
    "id": "e0c14e50",
    "outputId": "211d2d83-0ee4-41f1-cbb2-b5945c8912b2"
   },
   "outputs": [],
   "source": [
    "arcs, costs = gp.multidict({\n",
    "    ('Denver', 'Kansas'):     2,\n",
    "    ('Denver', 'Louisville'): 3,\n",
    "    #\n",
    "    ('Atlanta', 'Kansas'):    3,\n",
    "    ('Atlanta', 'Louisville'): 1,\n",
    "    #\n",
    "    ('Kansas', 'Detroit'):    2,\n",
    "    ('Kansas', 'Miami'):      6,\n",
    "    ('Kansas', 'Dallas'):     3,\n",
    "    ('Kansas', 'NewOrleans'): 6,\n",
    "    #\n",
    "    ('Louisville', 'Detroit'):    4,\n",
    "    ('Louisville', 'Miami'):      4,\n",
    "    ('Louisville', 'Dallas'):     6,\n",
    "    ('Louisville', 'NewOrleans'): 5,\n",
    "    \n",
    "})\n",
    "\n",
    "warehouses = {'Kansas', 'Louisville'}\n",
    "\n",
    "supply = {\n",
    "    'Denver':  600,\n",
    "    'Atlanta': 400,\n",
    "}\n",
    "\n",
    "demand = {\n",
    "    'Detroit':    200,\n",
    "    'Miami':      150, \n",
    "    'Dallas':     350,\n",
    "    'NewOrleans': 300, \n",
    "}"
   ]
  },
  {
   "cell_type": "code",
   "execution_count": 26,
   "id": "b584f775",
   "metadata": {
    "id": "b7adad4d"
   },
   "outputs": [],
   "source": [
    "m = gp.Model('transhipment_problem')"
   ]
  },
  {
   "cell_type": "code",
   "execution_count": 27,
   "id": "b8e3381a",
   "metadata": {
    "id": "b7adad4d"
   },
   "outputs": [],
   "source": [
    "sent = m.addVars(arcs, vtype=GRB.CONTINUOUS, name='send')"
   ]
  },
  {
   "cell_type": "code",
   "execution_count": 28,
   "id": "a8ab56a2",
   "metadata": {},
   "outputs": [],
   "source": [
    "Z = sent.prod(costs)\n",
    "m.ModelSense = GRB.MINIMIZE\n",
    "m.setObjective(Z)"
   ]
  },
  {
   "cell_type": "code",
   "execution_count": 29,
   "id": "b7adad4d",
   "metadata": {
    "id": "b7adad4d"
   },
   "outputs": [],
   "source": [
    "source = m.addConstrs((sent.sum(plant, '*') <= s for plant, s in supply.items() ), name='source')\n",
    "\n",
    "\n",
    "transshipment = m.addConstrs(\n",
    "    (sent.sum(w,'*')  - sent.sum('*', w) == 0 for w in warehouses),\n",
    "                                        name='transhipment')\n",
    "\n",
    "sink = m.addConstrs(\n",
    "    (sent.sum('*', retailer) == d for retailer, d in demand.items()),\n",
    "                               name='sink')"
   ]
  },
  {
   "cell_type": "code",
   "execution_count": 30,
   "id": "d29d6852",
   "metadata": {},
   "outputs": [
    {
     "name": "stdout",
     "output_type": "stream",
     "text": [
      "Gurobi Optimizer version 9.5.0 build v9.5.0rc5 (win64)\n",
      "Thread count: 4 physical cores, 8 logical processors, using up to 8 threads\n",
      "Optimize a model with 8 rows, 12 columns and 24 nonzeros\n",
      "Model fingerprint: 0x2748ae01\n",
      "Coefficient statistics:\n",
      "  Matrix range     [1e+00, 1e+00]\n",
      "  Objective range  [1e+00, 6e+00]\n",
      "  Bounds range     [0e+00, 0e+00]\n",
      "  RHS range        [2e+02, 6e+02]\n",
      "Presolve removed 4 rows and 4 columns\n",
      "Presolve time: 0.01s\n",
      "Presolved: 4 rows, 8 columns, 16 nonzeros\n",
      "\n",
      "Iteration    Objective       Primal Inf.    Dual Inf.      Time\n",
      "       0    3.5500000e+03   1.250000e+02   0.000000e+00      0s\n",
      "       3    5.2000000e+03   0.000000e+00   0.000000e+00      0s\n",
      "\n",
      "Solved in 3 iterations and 0.01 seconds (0.00 work units)\n",
      "Optimal objective  5.200000000e+03\n"
     ]
    }
   ],
   "source": [
    "m.optimize()"
   ]
  },
  {
   "cell_type": "code",
   "execution_count": 31,
   "id": "364bdfe4",
   "metadata": {},
   "outputs": [
    {
     "name": "stdout",
     "output_type": "stream",
     "text": [
      "Objective Value: $5200.0\n"
     ]
    }
   ],
   "source": [
    "print(f'Objective Value: ${m.ObjVal}')\n"
   ]
  },
  {
   "cell_type": "code",
   "execution_count": 32,
   "id": "ceefa0a9",
   "metadata": {},
   "outputs": [
    {
     "name": "stdout",
     "output_type": "stream",
     "text": [
      "Decisions:\n",
      "send[Denver,Kansas] 600.0\n",
      "send[Atlanta,Louisville] 400.0\n",
      "send[Kansas,Detroit] 200.0\n",
      "send[Kansas,Dallas] 350.0\n",
      "send[Kansas,NewOrleans] 50.0\n",
      "send[Louisville,Miami] 150.0\n",
      "send[Louisville,NewOrleans] 250.0\n"
     ]
    }
   ],
   "source": [
    "print('Decisions:')\n",
    "for v in m.getVars():\n",
    "    if abs(v.x) > 0.00001:\n",
    "        print(v.varName, v.x)\n"
   ]
  },
  {
   "cell_type": "code",
   "execution_count": 33,
   "id": "19f79744",
   "metadata": {},
   "outputs": [
    {
     "data": {
      "text/plain": [
       "[<gurobi.Constr source[Denver,600]>,\n",
       " <gurobi.Constr source[Atlanta,400]>,\n",
       " <gurobi.Constr transhipment[Louisville]>,\n",
       " <gurobi.Constr transhipment[Kansas]>,\n",
       " <gurobi.Constr sink[Detroit,200]>,\n",
       " <gurobi.Constr sink[Miami,150]>,\n",
       " <gurobi.Constr sink[Dallas,350]>,\n",
       " <gurobi.Constr sink[NewOrleans,300]>]"
      ]
     },
     "execution_count": 33,
     "metadata": {},
     "output_type": "execute_result"
    }
   ],
   "source": [
    "m.getConstrs()"
   ]
  }
 ],
 "metadata": {
  "colab": {
   "name": "transhipment.ipynb",
   "provenance": []
  },
  "kernelspec": {
   "display_name": "optimization",
   "language": "python",
   "name": "optimization"
  },
  "language_info": {
   "codemirror_mode": {
    "name": "ipython",
    "version": 3
   },
   "file_extension": ".py",
   "mimetype": "text/x-python",
   "name": "python",
   "nbconvert_exporter": "python",
   "pygments_lexer": "ipython3",
   "version": "3.8.11"
  }
 },
 "nbformat": 4,
 "nbformat_minor": 5
}
