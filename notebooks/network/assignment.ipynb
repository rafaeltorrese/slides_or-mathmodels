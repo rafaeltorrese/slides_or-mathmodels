{
 "cells": [
  {
   "cell_type": "markdown",
   "id": "225fc2e3",
   "metadata": {},
   "source": [
    "\n",
    "| Leader     | Customer1  | Customer2  | Customer3  \n",
    "|------------|---------|----------|------------\n",
    "| Terry  | 10       | 15        | 9          \n",
    "| Carle    | 9       | 18        | 5          \n",
    "| McClymonds      | 6       | 14        | 3          \n",
    "\n"
   ]
  },
  {
   "cell_type": "code",
   "execution_count": 2,
   "id": "9e6a20e3",
   "metadata": {},
   "outputs": [],
   "source": [
    "from itertools import product\n",
    "\n",
    "import gurobipy as gp\n",
    "from gurobipy import GRB\n",
    "\n"
   ]
  },
  {
   "cell_type": "code",
   "execution_count": 21,
   "id": "34fcd000",
   "metadata": {},
   "outputs": [
    {
     "name": "stdout",
     "output_type": "stream",
     "text": [
      "<gurobi.tuplelist (9 tuples, 2 values each):\n",
      " ( Terry      , 1 )\n",
      " ( Terry      , 2 )\n",
      " ( Terry      , 3 )\n",
      " ( Carle      , 1 )\n",
      " ( Carle      , 2 )\n",
      " ( Carle      , 3 )\n",
      " ( McClymonds , 1 )\n",
      " ( McClymonds , 2 )\n",
      " ( McClymonds , 3 )\n",
      ">\n"
     ]
    }
   ],
   "source": [
    "agents = 'Terry Carle McClymonds'.split()\n",
    "num_customers = 3\n",
    "\n",
    "\n",
    "pairs, times = gp.multidict({\n",
    "    p:t for p,t in zip([*product(agents, range(1, num_customers + 1))], [10, 15, 9, 9, 18, 5, 6, 14, 3]) \n",
    "})\n"
   ]
  },
  {
   "cell_type": "code",
   "execution_count": 11,
   "id": "a6dcbd53",
   "metadata": {},
   "outputs": [],
   "source": [
    "\n",
    "m = gp.Model('Assignment_Model')"
   ]
  },
  {
   "cell_type": "code",
   "execution_count": 22,
   "id": "df78e6b5",
   "metadata": {},
   "outputs": [],
   "source": [
    "assignment = m.addVars(pairs, vtype=GRB.CONTINUOUS, name='assignment')"
   ]
  },
  {
   "cell_type": "code",
   "execution_count": 24,
   "id": "a934e17a",
   "metadata": {},
   "outputs": [],
   "source": [
    "m.setObjective(gp.quicksum(times[i,j] * assignment[i,j] for i,j in pairs), GRB.MINIMIZE)"
   ]
  },
  {
   "cell_type": "code",
   "execution_count": 25,
   "id": "4b8d5e11",
   "metadata": {},
   "outputs": [],
   "source": [
    "agents = m.addConstrs(assignment.sum(i, '*') <= 1 for i in agents  )"
   ]
  },
  {
   "cell_type": "code",
   "execution_count": 26,
   "id": "acac6f92",
   "metadata": {},
   "outputs": [],
   "source": [
    "tasks = m.addConstrs(assignment.sum('*', j) == 1 for j in range(1, num_customers + 1))"
   ]
  },
  {
   "cell_type": "code",
   "execution_count": 27,
   "id": "bd4c317a",
   "metadata": {},
   "outputs": [
    {
     "name": "stdout",
     "output_type": "stream",
     "text": [
      "Gurobi Optimizer version 9.5.0 build v9.5.0rc5 (win64)\n",
      "Thread count: 4 physical cores, 4 logical processors, using up to 4 threads\n",
      "Optimize a model with 6 rows, 27 columns and 18 nonzeros\n",
      "Model fingerprint: 0x0b202db3\n",
      "Coefficient statistics:\n",
      "  Matrix range     [1e+00, 1e+00]\n",
      "  Objective range  [3e+00, 2e+01]\n",
      "  Bounds range     [0e+00, 0e+00]\n",
      "  RHS range        [1e+00, 1e+00]\n",
      "Presolve removed 0 rows and 18 columns\n",
      "Presolve time: 0.01s\n",
      "Presolved: 6 rows, 9 columns, 18 nonzeros\n",
      "\n",
      "Iteration    Objective       Primal Inf.    Dual Inf.      Time\n",
      "       0    2.3000000e+01   2.000000e+00   0.000000e+00      0s\n",
      "       2    2.6000000e+01   0.000000e+00   0.000000e+00      0s\n",
      "\n",
      "Solved in 2 iterations and 0.01 seconds (0.00 work units)\n",
      "Optimal objective  2.600000000e+01\n"
     ]
    }
   ],
   "source": [
    "m.optimize()"
   ]
  },
  {
   "cell_type": "code",
   "execution_count": 28,
   "id": "2cfd38b1",
   "metadata": {},
   "outputs": [
    {
     "name": "stdout",
     "output_type": "stream",
     "text": [
      "Objective Value: 26.0 days\n"
     ]
    }
   ],
   "source": [
    "print(f'Objective Value: {m.ObjVal} days')"
   ]
  },
  {
   "cell_type": "code",
   "execution_count": 30,
   "id": "28bd1286",
   "metadata": {},
   "outputs": [
    {
     "name": "stdout",
     "output_type": "stream",
     "text": [
      "assignment[Terry,2]: 1.0\n",
      "assignment[Carle,3]: 1.0\n",
      "assignment[McClymonds,1]: 1.0\n"
     ]
    }
   ],
   "source": [
    "for v in m.getVars():\n",
    "    if v.x > 0.00001:\n",
    "        print(f'{v.varName}: {v.x}')"
   ]
  },
  {
   "cell_type": "code",
   "execution_count": 32,
   "id": "bb03b45f",
   "metadata": {},
   "outputs": [
    {
     "name": "stdout",
     "output_type": "stream",
     "text": [
      "27\n"
     ]
    }
   ],
   "source": [
    "print(m.NumVars)"
   ]
  },
  {
   "cell_type": "code",
   "execution_count": 33,
   "id": "fbd9d6ec",
   "metadata": {},
   "outputs": [
    {
     "name": "stdout",
     "output_type": "stream",
     "text": [
      "6\n"
     ]
    }
   ],
   "source": [
    "print(m.NumConstrs)"
   ]
  }
 ],
 "metadata": {
  "kernelspec": {
   "display_name": "optimization",
   "language": "python",
   "name": "optimization"
  },
  "language_info": {
   "codemirror_mode": {
    "name": "ipython",
    "version": 3
   },
   "file_extension": ".py",
   "mimetype": "text/x-python",
   "name": "python",
   "nbconvert_exporter": "python",
   "pygments_lexer": "ipython3",
   "version": "3.8.11"
  }
 },
 "nbformat": 4,
 "nbformat_minor": 5
}
