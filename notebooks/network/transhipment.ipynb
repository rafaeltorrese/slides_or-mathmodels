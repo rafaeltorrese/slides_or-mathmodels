{
 "cells": [
  {
   "cell_type": "code",
   "execution_count": 2,
   "id": "eecdda79",
   "metadata": {},
   "outputs": [],
   "source": [
    "from itertools import product"
   ]
  },
  {
   "cell_type": "code",
   "execution_count": 1,
   "id": "897de36e",
   "metadata": {},
   "outputs": [],
   "source": [
    "import gurobipy as gp\n",
    "from gurobipy import GRB"
   ]
  },
  {
   "cell_type": "code",
   "execution_count": 13,
   "id": "e0c14e50",
   "metadata": {},
   "outputs": [
    {
     "name": "stdout",
     "output_type": "stream",
     "text": [
      "{'Detroit': 200, 'Miami': 150, 'Dallas': 350, 'NewOrleans': 300}\n"
     ]
    }
   ],
   "source": [
    "sources = 'Denver Atlanta'.split()\n",
    "warehouses = 'Kansas Louisville'.split()\n",
    "retailers = 'Detroit Miami Dallas NewOrleans'.split()\n",
    "\n",
    "source2warehouse = [*product(sources, warehouses)]\n",
    "\n",
    "warehouse2retailers = [*product(warehouses, retailers)]\n",
    "\n",
    "sources_supply = {\n",
    "    s:v for s, v in zip(sources, [600, 400])\n",
    "}\n",
    "\n",
    "retailers_demand = {\n",
    "    s:v for s, v in zip(retailers, [200, 150, 350, 300])\n",
    "}\n",
    "\n",
    "print(retailers_demand)"
   ]
  },
  {
   "cell_type": "code",
   "execution_count": 11,
   "id": "b7adad4d",
   "metadata": {},
   "outputs": [],
   "source": [
    "m = gp.Model('transhipment_problem')"
   ]
  },
  {
   "cell_type": "code",
   "execution_count": 14,
   "id": "259a62fa",
   "metadata": {},
   "outputs": [
    {
     "name": "stdout",
     "output_type": "stream",
     "text": [
      "[('Denver', 'Kansas'), ('Denver', 'Louisville'), ('Atlanta', 'Kansas'), ('Atlanta', 'Louisville'), ('Kansas', 'Detroit'), ('Kansas', 'Miami'), ('Kansas', 'Dallas'), ('Kansas', 'NewOrleans'), ('Louisville', 'Detroit'), ('Louisville', 'Miami'), ('Louisville', 'Dallas'), ('Louisville', 'NewOrleans')]\n"
     ]
    }
   ],
   "source": [
    "print()"
   ]
  },
  {
   "cell_type": "code",
   "execution_count": 15,
   "id": "a73f5837",
   "metadata": {},
   "outputs": [],
   "source": [
    "sent = m.addVars(source2warehouse + warehouse2retailers, vtype=GRB.CONTINUOUS, name='units')"
   ]
  },
  {
   "cell_type": "code",
   "execution_count": null,
   "id": "0493416d",
   "metadata": {},
   "outputs": [],
   "source": []
  }
 ],
 "metadata": {
  "kernelspec": {
   "display_name": "optimization",
   "language": "python",
   "name": "optimization"
  },
  "language_info": {
   "codemirror_mode": {
    "name": "ipython",
    "version": 3
   },
   "file_extension": ".py",
   "mimetype": "text/x-python",
   "name": "python",
   "nbconvert_exporter": "python",
   "pygments_lexer": "ipython3",
   "version": "3.8.11"
  }
 },
 "nbformat": 4,
 "nbformat_minor": 5
}
