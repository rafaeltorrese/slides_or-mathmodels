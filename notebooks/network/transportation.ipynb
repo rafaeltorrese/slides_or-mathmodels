{
 "cells": [
  {
   "attachments": {},
   "cell_type": "markdown",
   "id": "860e3025",
   "metadata": {},
   "source": [
    "| Source | Factory    | Supply |\n",
    "|--------|-----------|----------|\n",
    "| 1      | Cleveland | 5,000    |\n",
    "| 2      | Bedford   | 6,000    |\n",
    "| 3      | York      | 2,500    |\n",
    "\n",
    "| Sink | DC        | Demand |\n",
    "|------|-----------|--------|\n",
    "| 1    | Boston    | 6,000  |\n",
    "| 2    | Chicago   | 4,000  |\n",
    "| 3    | St. Louis | 2,000  |\n",
    "| 4    | Lexington | 1,500  |\n",
    "\n",
    "\n",
    "| Origen     | Boston  | Chicago  | St. Louis  | Lexington |\n",
    "|------------|---------|----------|------------|-----------|\n",
    "| Cleveland  | 3       | 2        | 7          | 6         |\n",
    "| Bedford    | 7       | 5        | 2          | 3         |\n",
    "| York       | 2       | 5        | 4          | 5         |\n",
    "\n"
   ]
  },
  {
   "cell_type": "code",
   "execution_count": 7,
   "id": "abd6c60d",
   "metadata": {},
   "outputs": [],
   "source": [
    "from itertools import product\n",
    "\n",
    "import gurobipy as gp\n",
    "from gurobipy import GRB\n",
    "\n"
   ]
  },
  {
   "cell_type": "code",
   "execution_count": 31,
   "id": "a7df558a",
   "metadata": {},
   "outputs": [
    {
     "name": "stdout",
     "output_type": "stream",
     "text": [
      "{'Cleveland': 5000, 'Bedford': 6000, 'York': 2500}\n"
     ]
    }
   ],
   "source": [
    "factories, supply = gp.multidict({f:s for f,s in zip('Cleveland Bedford York'.split(), [5000, 6000, 2500])})\n",
    "warehouses, demand = gp.multidict({w: d for w,d in zip('Boston Chicago StLouis Lexington'.split(), [6000, 4000, 2000, 1500])})\n",
    "\n",
    "nodes, costs = gp.multidict({(source, sink): c for (source, sink), c in zip([*product(factories, warehouses)], [3, 2, 7, 6, 7, 5, 2, 3, 2, 5, 4, 5])})\n"
   ]
  },
  {
   "cell_type": "code",
   "execution_count": 29,
   "id": "c96638a6",
   "metadata": {},
   "outputs": [
    {
     "name": "stdout",
     "output_type": "stream",
     "text": [
      "<gurobi.tuplelist (12 tuples, 2 values each):\n",
      " ( Cleveland , Boston    )\n",
      " ( Cleveland , Chicago   )\n",
      " ( Cleveland , StLouis   )\n",
      " ( Cleveland , Lexington )\n",
      " ( Bedford   , Boston    )\n",
      " ( Bedford   , Chicago   )\n",
      " ( Bedford   , StLouis   )\n",
      " ( Bedford   , Lexington )\n",
      " ( York      , Boston    )\n",
      " ( York      , Chicago   )\n",
      " ( York      , StLouis   )\n",
      " ( York      , Lexington )\n",
      ">\n"
     ]
    }
   ],
   "source": [
    "print(nodes)"
   ]
  },
  {
   "cell_type": "code",
   "execution_count": 32,
   "id": "5973a652",
   "metadata": {},
   "outputs": [
    {
     "name": "stdout",
     "output_type": "stream",
     "text": [
      "{('Cleveland', 'Boston'): 3, ('Cleveland', 'Chicago'): 2, ('Cleveland', 'StLouis'): 7, ('Cleveland', 'Lexington'): 6, ('Bedford', 'Boston'): 7, ('Bedford', 'Chicago'): 5, ('Bedford', 'StLouis'): 2, ('Bedford', 'Lexington'): 3, ('York', 'Boston'): 2, ('York', 'Chicago'): 5, ('York', 'StLouis'): 4, ('York', 'Lexington'): 5}\n"
     ]
    }
   ],
   "source": [
    "print(costs)"
   ]
  },
  {
   "cell_type": "code",
   "execution_count": null,
   "id": "80736c7f",
   "metadata": {},
   "outputs": [],
   "source": [
    "m = gp.Model('Transportation')"
   ]
  },
  {
   "cell_type": "code",
   "execution_count": 33,
   "id": "c01da59b",
   "metadata": {},
   "outputs": [],
   "source": [
    "sent = m.addVars(nodes, vtype=GRB.CONTINUOUS, name='sent')"
   ]
  },
  {
   "cell_type": "code",
   "execution_count": 37,
   "id": "64daff86",
   "metadata": {},
   "outputs": [],
   "source": [
    "m.setObjective(gp.quicksum(costs[i,j] * sent[i,j] for i,j in nodes), GRB.MINIMIZE)"
   ]
  },
  {
   "cell_type": "code",
   "execution_count": 34,
   "id": "b669c911",
   "metadata": {},
   "outputs": [],
   "source": [
    "supply_constraints = m.addConstrs(sent.sum(i, '*') <= supply[i] for i in factories  )"
   ]
  },
  {
   "cell_type": "code",
   "execution_count": 35,
   "id": "fc5239c5",
   "metadata": {},
   "outputs": [],
   "source": [
    "demand_constraints = m.addConstrs(sent.sum('*', j) == demand[j] for j in warehouses)"
   ]
  },
  {
   "cell_type": "code",
   "execution_count": 38,
   "id": "af06224f",
   "metadata": {},
   "outputs": [
    {
     "name": "stdout",
     "output_type": "stream",
     "text": [
      "Gurobi Optimizer version 9.5.0 build v9.5.0rc5 (win64)\n",
      "Thread count: 4 physical cores, 4 logical processors, using up to 4 threads\n",
      "Optimize a model with 7 rows, 12 columns and 24 nonzeros\n",
      "Coefficient statistics:\n",
      "  Matrix range     [1e+00, 1e+00]\n",
      "  Objective range  [2e+00, 7e+00]\n",
      "  Bounds range     [0e+00, 0e+00]\n",
      "  RHS range        [2e+03, 6e+03]\n",
      "Iteration    Objective       Primal Inf.    Dual Inf.      Time\n",
      "       0   -2.3000000e+31   8.000000e+30   2.300000e+01      0s\n",
      "       6    3.9500000e+04   0.000000e+00   0.000000e+00      0s\n",
      "\n",
      "Solved in 6 iterations and 0.01 seconds (0.00 work units)\n",
      "Optimal objective  3.950000000e+04\n"
     ]
    }
   ],
   "source": [
    "m.optimize()"
   ]
  },
  {
   "cell_type": "code",
   "execution_count": 55,
   "id": "b0e10fed",
   "metadata": {},
   "outputs": [
    {
     "name": "stdout",
     "output_type": "stream",
     "text": [
      "Objective Value: $39500.0\n"
     ]
    }
   ],
   "source": [
    "print(f'Objective Value: ${m.ObjVal}')"
   ]
  },
  {
   "cell_type": "code",
   "execution_count": 40,
   "id": "d678609b",
   "metadata": {},
   "outputs": [
    {
     "name": "stdout",
     "output_type": "stream",
     "text": [
      "[3500.0, 1500.0, 0.0, 0.0, 0.0, 2500.0, 2000.0, 1500.0, 2500.0, 0.0, 0.0, 0.0]\n"
     ]
    }
   ],
   "source": [
    "print(m.getAttr(GRB.Attr.X, m.getVars()))"
   ]
  },
  {
   "cell_type": "code",
   "execution_count": 64,
   "id": "d618ee6a",
   "metadata": {},
   "outputs": [
    {
     "name": "stdout",
     "output_type": "stream",
     "text": [
      "sent[Cleveland,Boston]: 3500.0\n",
      "sent[Cleveland,Chicago]: 1500.0\n",
      "sent[Bedford,Chicago]: 2500.0\n",
      "sent[Bedford,StLouis]: 2000.0\n",
      "sent[Bedford,Lexington]: 1500.0\n",
      "sent[York,Boston]: 2500.0\n"
     ]
    }
   ],
   "source": [
    "for v in m.getVars():\n",
    "    if v.x > 0.00001:\n",
    "        print(f'{v.varName}: {v.x}')"
   ]
  },
  {
   "cell_type": "code",
   "execution_count": 65,
   "id": "5fbad347",
   "metadata": {},
   "outputs": [
    {
     "name": "stdout",
     "output_type": "stream",
     "text": [
      "12\n"
     ]
    }
   ],
   "source": [
    "print(m.NumVars)"
   ]
  },
  {
   "cell_type": "code",
   "execution_count": 66,
   "id": "f41b1741",
   "metadata": {},
   "outputs": [
    {
     "name": "stdout",
     "output_type": "stream",
     "text": [
      "7\n"
     ]
    }
   ],
   "source": [
    "print(m.NumConstrs)"
   ]
  }
 ],
 "metadata": {
  "kernelspec": {
   "display_name": "optimization",
   "language": "python",
   "name": "optimization"
  },
  "language_info": {
   "codemirror_mode": {
    "name": "ipython",
    "version": 3
   },
   "file_extension": ".py",
   "mimetype": "text/x-python",
   "name": "python",
   "nbconvert_exporter": "python",
   "pygments_lexer": "ipython3",
   "version": "3.8.11"
  }
 },
 "nbformat": 4,
 "nbformat_minor": 5
}
