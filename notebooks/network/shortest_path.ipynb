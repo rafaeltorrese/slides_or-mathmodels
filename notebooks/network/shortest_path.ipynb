{
 "cells": [
  {
   "cell_type": "code",
   "execution_count": 144,
   "id": "897de36e",
   "metadata": {
    "id": "897de36e"
   },
   "outputs": [],
   "source": [
    "import gurobipy as gp\n",
    "from gurobipy import GRB"
   ]
  },
  {
   "cell_type": "code",
   "execution_count": 145,
   "id": "42245445",
   "metadata": {},
   "outputs": [],
   "source": [
    "network, distances = gp.multidict({\n",
    "    (1, 2): 25,\n",
    "    (1, 3): 20,\n",
    "    (2, 3): 3,\n",
    "    (2, 4): 5,\n",
    "    (2, 6): 14,\n",
    "    (3, 2): 3,\n",
    "    (3, 5): 6,\n",
    "    (4, 2): 5,\n",
    "    (4, 5): 4,\n",
    "    (4, 6): 4,\n",
    "    (5, 3): 6,\n",
    "    (5, 4): 4,\n",
    "    (5, 6): 7,\n",
    "})\n",
    "\n",
    "transshipment = [2, 3, 4, 5]"
   ]
  },
  {
   "cell_type": "code",
   "execution_count": 146,
   "id": "4b0f81dd",
   "metadata": {},
   "outputs": [],
   "source": [
    "m = gp.Model('shortest_path')"
   ]
  },
  {
   "cell_type": "code",
   "execution_count": 147,
   "id": "7c2f98d2",
   "metadata": {},
   "outputs": [],
   "source": [
    "path = m.addVars(network, vtype=GRB.CONTINUOUS, name='X')"
   ]
  },
  {
   "cell_type": "code",
   "execution_count": 148,
   "id": "5a204a27",
   "metadata": {},
   "outputs": [],
   "source": [
    "Z = path.prod(distances)  # Sum((i,j), d[i,j] * x[i,j] for i in I for j in J)\n",
    "m.ModelSense = GRB.MINIMIZE\n",
    "m.setObjective(Z)"
   ]
  },
  {
   "cell_type": "code",
   "execution_count": 149,
   "id": "1300fbc4",
   "metadata": {},
   "outputs": [],
   "source": [
    "source_constraint = m.addConstr(\n",
    "            path.sum(1, '*') == 1,\n",
    "            name='source'\n",
    ")\n",
    "\n",
    "transshipment_constraints = m.addConstrs( \n",
    "                                (path.sum(t, '*') - path.sum('*', t) == 0 for t in transshipment),\n",
    "    name='transshipment'\n",
    ")\n",
    "\n",
    "sink_constraint = m.addConstr(\n",
    "    path.sum('*', 6) == 1,\n",
    "    name='sink'\n",
    ")"
   ]
  },
  {
   "cell_type": "code",
   "execution_count": 150,
   "id": "166fb062",
   "metadata": {},
   "outputs": [
    {
     "name": "stdout",
     "output_type": "stream",
     "text": [
      "Gurobi Optimizer version 9.5.0 build v9.5.0rc5 (win64)\n",
      "Thread count: 4 physical cores, 8 logical processors, using up to 8 threads\n",
      "Optimize a model with 6 rows, 13 columns and 26 nonzeros\n",
      "Model fingerprint: 0x16357ff9\n",
      "Coefficient statistics:\n",
      "  Matrix range     [1e+00, 1e+00]\n",
      "  Objective range  [3e+00, 3e+01]\n",
      "  Bounds range     [0e+00, 0e+00]\n",
      "  RHS range        [1e+00, 1e+00]\n",
      "Presolve removed 1 rows and 2 columns\n",
      "Presolve time: 0.01s\n",
      "Presolved: 5 rows, 11 columns, 22 nonzeros\n",
      "\n",
      "Iteration    Objective       Primal Inf.    Dual Inf.      Time\n",
      "       0    2.4000000e+01   2.000000e+00   0.000000e+00      0s\n",
      "       3    3.2000000e+01   0.000000e+00   0.000000e+00      0s\n",
      "\n",
      "Solved in 3 iterations and 0.01 seconds (0.00 work units)\n",
      "Optimal objective  3.200000000e+01\n"
     ]
    }
   ],
   "source": [
    "m.optimize()"
   ]
  },
  {
   "cell_type": "code",
   "execution_count": 151,
   "id": "f6e227bd",
   "metadata": {},
   "outputs": [
    {
     "name": "stdout",
     "output_type": "stream",
     "text": [
      "Objective Value 32.0 miles\n"
     ]
    }
   ],
   "source": [
    "print(f'Objective Value {m.ObjVal} miles')"
   ]
  },
  {
   "cell_type": "code",
   "execution_count": 152,
   "id": "94bec632",
   "metadata": {},
   "outputs": [
    {
     "name": "stdout",
     "output_type": "stream",
     "text": [
      "X[1,3] 1.0\n",
      "X[2,4] 1.0\n",
      "X[3,2] 1.0\n",
      "X[4,6] 1.0\n"
     ]
    }
   ],
   "source": [
    "for v in m.getVars():\n",
    "    if v.x == 1:\n",
    "        print(v.varName, v.x)"
   ]
  },
  {
   "cell_type": "code",
   "execution_count": 153,
   "id": "ae9441c6",
   "metadata": {},
   "outputs": [
    {
     "data": {
      "text/plain": [
       "[<gurobi.Constr source>,\n",
       " <gurobi.Constr transshipment[2]>,\n",
       " <gurobi.Constr transshipment[3]>,\n",
       " <gurobi.Constr transshipment[4]>,\n",
       " <gurobi.Constr transshipment[5]>,\n",
       " <gurobi.Constr sink>]"
      ]
     },
     "execution_count": 153,
     "metadata": {},
     "output_type": "execute_result"
    }
   ],
   "source": [
    "m.getConstrs()"
   ]
  }
 ],
 "metadata": {
  "colab": {
   "name": "transhipment.ipynb",
   "provenance": []
  },
  "kernelspec": {
   "display_name": "optimization",
   "language": "python",
   "name": "optimization"
  },
  "language_info": {
   "codemirror_mode": {
    "name": "ipython",
    "version": 3
   },
   "file_extension": ".py",
   "mimetype": "text/x-python",
   "name": "python",
   "nbconvert_exporter": "python",
   "pygments_lexer": "ipython3",
   "version": "3.8.11"
  }
 },
 "nbformat": 4,
 "nbformat_minor": 5
}
