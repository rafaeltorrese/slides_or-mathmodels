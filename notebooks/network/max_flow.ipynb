{
 "cells": [
  {
   "cell_type": "code",
   "execution_count": 1,
   "id": "5c7fe088",
   "metadata": {},
   "outputs": [],
   "source": [
    "import gurobipy as gp\n",
    "from gurobipy import GRB"
   ]
  },
  {
   "cell_type": "code",
   "execution_count": 31,
   "id": "5ce91694",
   "metadata": {},
   "outputs": [],
   "source": [
    "nodes = [1, 2, 3, 4, 5, 6, 7]\n",
    "\n",
    "arcs, capacity = gp.multidict({\n",
    "    (1, 2): 5 ,\n",
    "    (1, 3): 6 ,\n",
    "    (1, 4): 5 ,\n",
    "    (2, 3): 2 ,\n",
    "    (2, 5): 3 ,\n",
    "    (3, 2): 2 ,\n",
    "    (3, 4): 3 ,\n",
    "    (3, 5): 3 ,\n",
    "    (3, 6): 7 ,\n",
    "    (4, 6): 5 ,\n",
    "    (5, 6): 1 ,\n",
    "    (5, 7): 8 ,\n",
    "    (6, 5): 1 ,\n",
    "    (6, 7): 7 ,\n",
    "    (7,1): 1e21,\n",
    "})"
   ]
  },
  {
   "cell_type": "code",
   "execution_count": 32,
   "id": "601ef6c6",
   "metadata": {},
   "outputs": [],
   "source": [
    "m = gp.Model('max_flow')"
   ]
  },
  {
   "cell_type": "code",
   "execution_count": 33,
   "id": "12d5e6fc",
   "metadata": {},
   "outputs": [],
   "source": [
    "path = m.addVars(arcs, ub=capacity, vtype=GRB.CONTINUOUS, name='X')"
   ]
  },
  {
   "cell_type": "code",
   "execution_count": 40,
   "id": "c1c0df95",
   "metadata": {},
   "outputs": [],
   "source": [
    "Z = path[7,1]\n",
    "m.ModelSense = GRB.MAXIMIZE\n",
    "m.setObjective(Z)"
   ]
  },
  {
   "cell_type": "code",
   "execution_count": 41,
   "id": "fa5dd0a4",
   "metadata": {},
   "outputs": [],
   "source": [
    "flow = m.addConstrs(\n",
    "    (path.sum(t, '*') - path.sum('*', t) == 0 for t in nodes),\n",
    "    name='flow'\n",
    ")"
   ]
  },
  {
   "cell_type": "code",
   "execution_count": 44,
   "id": "bc2e4b45",
   "metadata": {},
   "outputs": [
    {
     "name": "stdout",
     "output_type": "stream",
     "text": [
      "Gurobi Optimizer version 9.5.0 build v9.5.0rc5 (win64)\n",
      "Thread count: 4 physical cores, 8 logical processors, using up to 8 threads\n",
      "Optimize a model with 7 rows, 15 columns and 30 nonzeros\n",
      "Model fingerprint: 0x3267aabc\n",
      "Coefficient statistics:\n",
      "  Matrix range     [1e+00, 1e+00]\n",
      "  Objective range  [1e+00, 1e+00]\n",
      "  Bounds range     [1e+00, 8e+00]\n",
      "  RHS range        [0e+00, 0e+00]\n",
      "Presolve removed 1 rows and 1 columns\n",
      "Presolve time: 0.01s\n",
      "Presolved: 6 rows, 14 columns, 28 nonzeros\n",
      "\n",
      "Iteration    Objective       Primal Inf.    Dual Inf.      Time\n",
      "       0    1.4008000e+01   2.001600e+01   0.000000e+00      0s\n",
      "       5    1.4000000e+01   0.000000e+00   0.000000e+00      0s\n",
      "\n",
      "Solved in 5 iterations and 0.01 seconds (0.00 work units)\n",
      "Optimal objective  1.400000000e+01\n",
      "Objective Value 14.0\n"
     ]
    }
   ],
   "source": [
    "m.optimize()\n",
    "\n",
    "print(f'Objective Value {m.ObjVal}')"
   ]
  },
  {
   "cell_type": "code",
   "execution_count": 42,
   "id": "b81f1416",
   "metadata": {},
   "outputs": [],
   "source": [
    "m.update()"
   ]
  },
  {
   "cell_type": "code",
   "execution_count": 45,
   "id": "96fc1047",
   "metadata": {},
   "outputs": [
    {
     "name": "stdout",
     "output_type": "stream",
     "text": [
      "[<gurobi.Constr flow[1]>, <gurobi.Constr flow[2]>, <gurobi.Constr flow[3]>, <gurobi.Constr flow[4]>, <gurobi.Constr flow[5]>, <gurobi.Constr flow[6]>, <gurobi.Constr flow[7]>]\n"
     ]
    }
   ],
   "source": [
    "print(m.getConstrs())"
   ]
  },
  {
   "cell_type": "code",
   "execution_count": 47,
   "id": "cae84617",
   "metadata": {},
   "outputs": [
    {
     "name": "stdout",
     "output_type": "stream",
     "text": [
      "X[1,2] <= 5.0\n",
      "X[1,3] <= 6.0\n",
      "X[1,4] <= 5.0\n",
      "X[2,3] <= 2.0\n",
      "X[2,5] <= 3.0\n",
      "X[3,2] <= 2.0\n",
      "X[3,4] <= 3.0\n",
      "X[3,5] <= 3.0\n",
      "X[3,6] <= 7.0\n",
      "X[4,6] <= 5.0\n",
      "X[5,6] <= 1.0\n",
      "X[5,7] <= 8.0\n",
      "X[6,5] <= 1.0\n",
      "X[6,7] <= 7.0\n",
      "X[7,1] <= inf\n"
     ]
    }
   ],
   "source": [
    "for v in m.getVars():\n",
    "    print(f'{v.VarName} <= {v.ub}')"
   ]
  },
  {
   "cell_type": "code",
   "execution_count": 49,
   "id": "e599399c",
   "metadata": {},
   "outputs": [
    {
     "name": "stdout",
     "output_type": "stream",
     "text": [
      "X[1,2]: 5.0\n",
      "X[1,3]: 4.0\n",
      "X[1,4]: 5.0\n",
      "X[2,3]: 2.0\n",
      "X[2,5]: 3.0\n",
      "X[3,5]: 3.0\n",
      "X[3,6]: 3.0\n",
      "X[4,6]: 5.0\n",
      "X[5,7]: 7.0\n",
      "X[6,5]: 1.0\n",
      "X[6,7]: 7.0\n",
      "X[7,1]: 14.0\n"
     ]
    }
   ],
   "source": [
    "for v in m.getVars():\n",
    "    if abs(v.X) > 0.00001:\n",
    "        print(f'{v.VarName}: {v.X}')"
   ]
  }
 ],
 "metadata": {
  "kernelspec": {
   "display_name": "optimization",
   "language": "python",
   "name": "optimization"
  },
  "language_info": {
   "codemirror_mode": {
    "name": "ipython",
    "version": 3
   },
   "file_extension": ".py",
   "mimetype": "text/x-python",
   "name": "python",
   "nbconvert_exporter": "python",
   "pygments_lexer": "ipython3",
   "version": "3.8.11"
  }
 },
 "nbformat": 4,
 "nbformat_minor": 5
}
