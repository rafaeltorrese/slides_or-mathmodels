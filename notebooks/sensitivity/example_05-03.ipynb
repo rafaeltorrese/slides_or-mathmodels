{
 "cells": [
  {
   "cell_type": "markdown",
   "id": "christian-ownership",
   "metadata": {},
   "source": [
    "# Example 03\n",
    "\n",
    "$$\\max Z = 4x_1 + 6x_2 + 2x_3 $$\n",
    "\n",
    "\\begin{align*}\n",
    "x_1 + x_2 + x_3 &\\leq 3\\\\\n",
    "x_1 + 4x_2 + 7x_3&\\leq 9\\\\[5mm]  \n",
    "x_1 , x_2, x_3 &\\geq 0\n",
    "\\end{align*}"
   ]
  },
  {
   "cell_type": "code",
   "execution_count": 1,
   "id": "otherwise-canadian",
   "metadata": {},
   "outputs": [],
   "source": [
    "import numpy as np\n",
    "import pandas as pd\n",
    "np.set_printoptions(precision=3, suppress=True)"
   ]
  },
  {
   "cell_type": "code",
   "execution_count": 2,
   "id": "unexpected-sense",
   "metadata": {},
   "outputs": [],
   "source": [
    "%run \"../auxfunc/algorithms.ipynb\"\n",
    "%run \"../auxfunc/fullmatrix.ipynb\""
   ]
  },
  {
   "cell_type": "code",
   "execution_count": 3,
   "id": "portable-crazy",
   "metadata": {},
   "outputs": [],
   "source": [
    "cj1 = [4, 6, 2]\n",
    "\n",
    "A1 = np.array([\n",
    "    [1, 1, 1],\n",
    "    [1, 4, 7],\n",
    "])\n",
    "\n",
    "b1 = [3, 9]\n",
    "\n",
    "ineq1 = [\"<=\", \"<=\"]"
   ]
  },
  {
   "cell_type": "code",
   "execution_count": 4,
   "id": "enabling-finger",
   "metadata": {},
   "outputs": [
    {
     "name": "stdout",
     "output_type": "stream",
     "text": [
      "==================== Simplex Method ====================\n",
      "####################\n",
      "Iteration 1. s2 --> x2\n",
      "--------------------\n",
      "[[ 0.75  0.   -0.75  1.   -0.25]\n",
      " [ 0.25  1.    1.75  0.    0.25]] \n",
      "\n",
      "    Basis\n",
      "s1    0.0\n",
      "x2    6.0\n",
      "Solution [0.   2.25 0.   0.75 0.  ] \tZ: 13.50 \n",
      "\n",
      "####################\n",
      "Iteration 2. s1 --> x1\n",
      "--------------------\n",
      "[[ 1.     0.    -1.     1.333 -0.333]\n",
      " [ 0.     1.     2.    -0.333  0.333]] \n",
      "\n",
      "    Basis\n",
      "x1    4.0\n",
      "x2    6.0\n",
      "Solution [1. 2. 0. 0. 0.] \tZ: 16.00 \n",
      "\n",
      "####################\n",
      "Optimal solution found in 2 iterations\n",
      "    Solution\n",
      "x1       1.0\n",
      "x2       2.0\n",
      "x3       0.0\n",
      "s1       0.0\n",
      "s2       0.0\n",
      "\n",
      "Optimal Table:\n",
      "     Cb   x1   x2   x3        s1        s2    b\n",
      "x1  4.0  1.0  0.0 -1.0  1.333333 -0.333333  1.0\n",
      "x2  6.0  0.0  1.0  2.0 -0.333333  0.333333  2.0\n",
      "\n",
      "Row Base:\n",
      "          x1   x2   x3        s1        s2\n",
      "zj       4.0  6.0  8.0  3.333333  0.666667\n",
      "cj - zj  0.0  0.0 -6.0 -3.333333 -0.666667\n"
     ]
    }
   ],
   "source": [
    "sol1, z1, lastrow11, optitable11 = simplex(matrix=A1,\n",
    "                                        rhs=b1, \n",
    "                                        z=cj1, \n",
    "                                        inequalities=ineq1)"
   ]
  },
  {
   "cell_type": "code",
   "execution_count": null,
   "id": "trained-assignment",
   "metadata": {},
   "outputs": [],
   "source": []
  }
 ],
 "metadata": {
  "kernelspec": {
   "display_name": "Python 3",
   "language": "python",
   "name": "python3"
  },
  "language_info": {
   "codemirror_mode": {
    "name": "ipython",
    "version": 3
   },
   "file_extension": ".py",
   "mimetype": "text/x-python",
   "name": "python",
   "nbconvert_exporter": "python",
   "pygments_lexer": "ipython3",
   "version": "3.7.3"
  }
 },
 "nbformat": 4,
 "nbformat_minor": 5
}
