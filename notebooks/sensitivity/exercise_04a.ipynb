{
 "cells": [
  {
   "cell_type": "markdown",
   "id": "23a81cb5",
   "metadata": {},
   "source": [
    "$$ \\max Z = 3x_1  + 2x_2 + 5x_3$$\n",
    "\n",
    "\n",
    "\\begin{align*}\n",
    "x_1 + 2x_2 + x_3 &\\leq 430\\\\\n",
    "3x_1 + 2x_3 &\\leq 460\\\\\n",
    "x_1 + 4x_2 &\\leq 420\\\\[4mm]\n",
    "x_1, x_2, x_3 &\\geq 0\n",
    "\\end{align*}\n",
    " \n",
    "\n",
    "\n",
    "Encuentre la solución óptima. Suponga que los coeficientes del lado izquierdo (coeficientes tecnológicos) de  la columna $x_1$ cambian de $[1 \\;,\\; 3 \\;,\\; 1]^{T}$ a $[1 \\;,\\; 1 \\;,\\; 6]^{T}$ en la matriz inicial y los coeficientes de $x_2$ and $x_3$ en la función objetivo cambian de $[2\\;, \\; 5]$ a $[1\\;,\\; 3]$ **encuentre la nueva solución óptima.**\n"
   ]
  },
  {
   "cell_type": "code",
   "execution_count": 1,
   "id": "0423d718",
   "metadata": {},
   "outputs": [],
   "source": [
    "from fractions import Fraction\n",
    "\n",
    "import numpy as np\n",
    "import pandas as pd\n",
    "\n",
    "np.set_printoptions(formatter={'all': lambda x: str(Fraction(x).limit_denominator())})"
   ]
  },
  {
   "cell_type": "code",
   "execution_count": 257,
   "id": "60cfd486",
   "metadata": {},
   "outputs": [],
   "source": [
    "%run simplex_algorithm.ipynb"
   ]
  },
  {
   "cell_type": "code",
   "execution_count": 92,
   "id": "392d18c4",
   "metadata": {},
   "outputs": [],
   "source": [
    "left_hand_coefficients = np.array([\n",
    "    [1, 2, 1, 1, 0, 0],\n",
    "    [3, 0, 2, 0, 1, 0],\n",
    "    [1, 4, 0, 0, 0, 1],\n",
    "    \n",
    "])\n",
    "\n",
    "right_hand_side = np.array([430, 460, 420])\n",
    "\n",
    "zvector = np.array([3, 2, 5, 0, 0, 0])"
   ]
  },
  {
   "cell_type": "code",
   "execution_count": 93,
   "id": "7caeedba",
   "metadata": {},
   "outputs": [
    {
     "name": "stdout",
     "output_type": "stream",
     "text": [
      "========== Simplex Method ==========\n",
      "Optimal solution found in 2 iterations\n",
      "Optimal Table: \n",
      " [[-1/4 1 0 1/2 -1/4 0]\n",
      " [3/2 0 1 0 1/2 0]\n",
      " [2 0 0 -2 1 1]] \n",
      "\n",
      "Solution [0 100 230 0 0 20] \tZ: 1350.00\n",
      "========== Simplex Method ==========\n"
     ]
    }
   ],
   "source": [
    "table = simplex(matrix=left_hand_coefficients, rhs=right_hand_side, z=zvector, direction=1)"
   ]
  },
  {
   "cell_type": "code",
   "execution_count": 94,
   "id": "b8b1f613",
   "metadata": {},
   "outputs": [
    {
     "name": "stdout",
     "output_type": "stream",
     "text": [
      "      x1   x2   x3   x4    x5   x6      b   cb  cbidx\n",
      "x2 -0.25  1.0  0.0  0.5 -0.25  0.0  100.0  2.0    1.0\n",
      "x3  1.50  0.0  1.0  0.0  0.50  0.0  230.0  5.0    2.0\n",
      "x6  2.00  0.0  0.0 -2.0  1.00  1.0   20.0  0.0    5.0\n"
     ]
    }
   ],
   "source": [
    "print(table)"
   ]
  },
  {
   "cell_type": "markdown",
   "id": "7d859294",
   "metadata": {},
   "source": [
    "$$\\mathbf{B} = \\begin{bmatrix} x_2 & x_3& s_3 \\end{bmatrix}$$"
   ]
  },
  {
   "cell_type": "code",
   "execution_count": 201,
   "id": "1e3846ca",
   "metadata": {},
   "outputs": [
    {
     "name": "stdout",
     "output_type": "stream",
     "text": [
      "[[2 1 0]\n",
      " [0 2 0]\n",
      " [4 0 1]]\n"
     ]
    }
   ],
   "source": [
    "cbindex = table['cbidx'].values.astype(int)\n",
    "\n",
    "\n",
    "B = left_hand_coefficients[:, cbindex]\n",
    "print(B)"
   ]
  },
  {
   "cell_type": "code",
   "execution_count": 202,
   "id": "708af6e4",
   "metadata": {},
   "outputs": [
    {
     "name": "stdout",
     "output_type": "stream",
     "text": [
      "[[1/2 -1/4 0]\n",
      " [0 1/2 0]\n",
      " [-2 1 1]]\n"
     ]
    }
   ],
   "source": [
    "Binv = np.linalg.inv(B)\n",
    "print(Binv)"
   ]
  },
  {
   "cell_type": "markdown",
   "id": "1fe8a743",
   "metadata": {},
   "source": [
    "La matrix base $\\mathbf{B}$ es $$\\mathbf{B^{-1}} = \n",
    "\\begin{bmatrix}\n",
    "x_2 & x_3 & s_3\\\\\n",
    "2 & 1 & 0 \\\\\n",
    "0 & 2 & 0 \\\\\n",
    "4 & 0 & 1 \\\\\n",
    "\\end{bmatrix}\n",
    "$$\n",
    "Por lo tanto la matriz inversa de $\\mathbf{B}$ es\n",
    "$$\\mathbf{B^{-1}} = \n",
    "\\begin{bmatrix}\n",
    "\\frac{1}{2} & -\\frac{1}{4} & 0 \\\\\n",
    "0 & \\frac{1}{2} & 0 \\\\\n",
    "-2 & 1 & 1 \\\\\n",
    "\\end{bmatrix}\n",
    "$$\n",
    "\n",
    "Los rangos de $\\Delta_1, \\Delta_2, \\Delta_3$ se calculan de la siguiente manera\n",
    "\n",
    "$$ \n",
    "\\begin{bmatrix}\n",
    "\\frac{1}{2} & -\\frac{1}{4} & 0 \\\\\n",
    "0 & \\frac{1}{2} & 0 \\\\\n",
    "-2 & 1 & 1 \\\\\n",
    "\\end{bmatrix}\n",
    "\\begin{bmatrix}\n",
    "430 + \\Delta_1 \\\\\n",
    "460 \\\\\n",
    "420\n",
    "\\end{bmatrix} =\n",
    "\\begin{bmatrix}\n",
    "100 + \\frac{1}{2} \\Delta_1 \\\\\n",
    "230 + 0\\\\\n",
    "20 - 2 \\Delta_1 \\\\\n",
    "\\end{bmatrix}  \\geq \n",
    "\\begin{bmatrix}\n",
    "0 \\\\\n",
    "0\\\\\n",
    "0\n",
    "\\end{bmatrix}\n",
    "$$\n"
   ]
  },
  {
   "cell_type": "code",
   "execution_count": 203,
   "id": "3807b7ee",
   "metadata": {},
   "outputs": [
    {
     "name": "stdout",
     "output_type": "stream",
     "text": [
      "[0 230 420]\n",
      "[105 230 0]\n"
     ]
    }
   ],
   "source": [
    "delta1 = [-200, 10]\n",
    "b1_lower = right_hand_side + [delta1[0], 0, 0]\n",
    "b1_upper = right_hand_side + [delta1[1], 0, 0]\n",
    "\n",
    "print(Binv.dot(b1_lower))\n",
    "print(Binv.dot(b1_upper))"
   ]
  },
  {
   "cell_type": "code",
   "execution_count": 204,
   "id": "0a2d2316",
   "metadata": {},
   "outputs": [
    {
     "name": "stdout",
     "output_type": "stream",
     "text": [
      "[105 220 0]\n",
      "[0 430 420]\n"
     ]
    }
   ],
   "source": [
    "delta2 = [-20, 400]\n",
    "b2_lower = right_hand_side + [0, delta2[0], 0]\n",
    "b2_upper = right_hand_side + [0, delta2[1], 0]\n",
    "\n",
    "print(Binv.dot(b2_lower))\n",
    "print(Binv.dot(b2_upper))"
   ]
  },
  {
   "cell_type": "code",
   "execution_count": 205,
   "id": "ec63ae9e",
   "metadata": {},
   "outputs": [
    {
     "name": "stdout",
     "output_type": "stream",
     "text": [
      "[100 230 0]\n",
      "[100 230 1000020]\n"
     ]
    }
   ],
   "source": [
    "delta3 = [-20, 1000000]\n",
    "b3_lower = right_hand_side + [0, 0, delta3[0]]\n",
    "b3_upper = right_hand_side + [0, 0, delta3[1]]\n",
    "\n",
    "print(Binv.dot(b3_lower))\n",
    "print(Binv.dot(b3_upper))"
   ]
  },
  {
   "cell_type": "markdown",
   "id": "5045fbfa",
   "metadata": {},
   "source": [
    "Suponga que los coeficientes del lado izquierdo (coeficientes tecnológicos) de  la columna $x_1$ cambian de $[1 \\;,\\; 3 \\;,\\; 1]^{T}$ a $[1 \\;,\\; 1 \\;,\\; 6]^{T}$ en la matriz inicial y los coeficientes de $x_2$ and $x_3$ en la función objetivo cambian de $[2\\;, \\; 5]$ a $[1\\;,\\; 3]$ **encuentre la nueva solución óptima.**"
   ]
  },
  {
   "cell_type": "code",
   "execution_count": 206,
   "id": "55150bfd",
   "metadata": {},
   "outputs": [],
   "source": [
    "P1 = np.array([1, 1, 6])\n"
   ]
  },
  {
   "cell_type": "markdown",
   "id": "016e52eb",
   "metadata": {},
   "source": [
    "$$\\begin{align*}\n",
    "\\pi & = c_b B^{-1} \\\\[3mm]\n",
    "z_j &= \\pi P_j\\\\[3mm]\n",
    "\\overline{P_j} &= B^{-1} P_j\\\\[3mm]\n",
    "\\end{align*}$$\n",
    "\n",
    "$$\\overline{c_j}  = c_j - z_j = c_j - \\pi P_j$$"
   ]
  },
  {
   "cell_type": "code",
   "execution_count": 207,
   "id": "29bad33a",
   "metadata": {},
   "outputs": [
    {
     "name": "stdout",
     "output_type": "stream",
     "text": [
      "[3 2 5 0 0 0]\n"
     ]
    }
   ],
   "source": [
    "print(zvector)"
   ]
  },
  {
   "cell_type": "code",
   "execution_count": 208,
   "id": "11094190",
   "metadata": {},
   "outputs": [
    {
     "name": "stdout",
     "output_type": "stream",
     "text": [
      "[1/4 1/2 5]\n"
     ]
    }
   ],
   "source": [
    "zvector2 = np.array([3, 1, 3, 0, 0,0])\n",
    "Pbar1 = Binv.dot(P1)\n",
    "print(Pbar1)\n"
   ]
  },
  {
   "cell_type": "code",
   "execution_count": 209,
   "id": "45265096",
   "metadata": {},
   "outputs": [
    {
     "name": "stdout",
     "output_type": "stream",
     "text": [
      "Index(['x1', 'x2', 'x3', 'x4', 'x5', 'x6', 'b', 'cb', 'cbidx'], dtype='object')\n"
     ]
    }
   ],
   "source": [
    "print(table.columns)"
   ]
  },
  {
   "cell_type": "code",
   "execution_count": 210,
   "id": "a0be33fd",
   "metadata": {},
   "outputs": [
    {
     "name": "stdout",
     "output_type": "stream",
     "text": [
      "      x1   x2   x3   x4    x5   x6\n",
      "x2 -0.25  1.0  0.0  0.5 -0.25  0.0\n",
      "x3  1.50  0.0  1.0  0.0  0.50  0.0\n",
      "x6  2.00  0.0  0.0 -2.0  1.00  1.0\n",
      "[[1/4 1 0 1/2 -1/4 0]\n",
      " [1/2 0 1 0 1/2 0]\n",
      " [5 0 0 -2 1 1]]\n"
     ]
    }
   ],
   "source": [
    "A2 = table.loc[:, 'x1':'x6']\n",
    "print(A2)\n",
    "A2['x1'] = Pbar1\n",
    "A2 = A2.to_numpy()\n",
    "print(A2)"
   ]
  },
  {
   "cell_type": "code",
   "execution_count": 229,
   "id": "7a642148",
   "metadata": {},
   "outputs": [
    {
     "name": "stdout",
     "output_type": "stream",
     "text": [
      "           x1   x2   x3   x4    x5   x6\n",
      "zj       1.75  1.0  3.0  0.5  1.25  0.0\n",
      "cj - zj  1.25  0.0  0.0 -0.5 -1.25  0.0\n"
     ]
    }
   ],
   "source": [
    "lastrows = last_rows(cj=zvector2, cb=zvector2[cbindex], matrix=A2, label='x')\n",
    "\n",
    "print(lastrows)"
   ]
  },
  {
   "cell_type": "code",
   "execution_count": 232,
   "id": "1731cf34",
   "metadata": {},
   "outputs": [
    {
     "name": "stdout",
     "output_type": "stream",
     "text": [
      "False\n"
     ]
    }
   ],
   "source": [
    "print(np.all(lastrows.iloc[1] <= 0))"
   ]
  },
  {
   "cell_type": "code",
   "execution_count": 258,
   "id": "af3b912b",
   "metadata": {},
   "outputs": [
    {
     "name": "stdout",
     "output_type": "stream",
     "text": [
      "========== Simplex Method ==========\n",
      "Optimal solution found in 1 iterations\n",
      "Optimal Table: \n",
      " [[0 1 0 3/5 -3/10 -1/20]\n",
      " [0 0 1 1/5 2/5 -1/10]\n",
      " [1 0 0 -2/5 1/5 1/5]] \n",
      "\n",
      "Solution [4 99 228 0 0 0] \tZ: 795.00\n",
      "========== Simplex Method ==========\n"
     ]
    }
   ],
   "source": [
    "table2 = simplex(matrix=A2, rhs=solution['b'].values, z=zvector2)"
   ]
  },
  {
   "cell_type": "code",
   "execution_count": 259,
   "id": "9bae19f8",
   "metadata": {},
   "outputs": [
    {
     "name": "stdout",
     "output_type": "stream",
     "text": [
      "     x1   x2   x3   x4   x5    x6      b   cb  cbidx\n",
      "x2  0.0  1.0  0.0  0.6 -0.3 -0.05   99.0  1.0    1.0\n",
      "x3  0.0  0.0  1.0  0.2  0.4 -0.10  228.0  3.0    2.0\n",
      "x1  1.0  0.0  0.0 -0.4  0.2  0.20    4.0  3.0    0.0\n"
     ]
    }
   ],
   "source": [
    "print(table2)"
   ]
  },
  {
   "cell_type": "code",
   "execution_count": null,
   "id": "58064e13",
   "metadata": {},
   "outputs": [],
   "source": []
  }
 ],
 "metadata": {
  "kernelspec": {
   "display_name": "optimization",
   "language": "python",
   "name": "optimization"
  },
  "language_info": {
   "codemirror_mode": {
    "name": "ipython",
    "version": 3
   },
   "file_extension": ".py",
   "mimetype": "text/x-python",
   "name": "python",
   "nbconvert_exporter": "python",
   "pygments_lexer": "ipython3",
   "version": "3.8.11"
  }
 },
 "nbformat": 4,
 "nbformat_minor": 5
}
