{
 "cells": [
  {
   "cell_type": "code",
   "execution_count": 17,
   "id": "0423d718",
   "metadata": {},
   "outputs": [],
   "source": [
    "from fractions import Fraction\n",
    "\n",
    "import numpy as np\n",
    "import pandas as pd\n",
    "\n",
    "np.set_printoptions(formatter={'all': lambda x: str(Fraction(x).limit_denominator())})"
   ]
  },
  {
   "cell_type": "code",
   "execution_count": 27,
   "id": "60cfd486",
   "metadata": {},
   "outputs": [],
   "source": [
    "%run simplex_algorithm.ipynb"
   ]
  },
  {
   "cell_type": "code",
   "execution_count": 13,
   "id": "392d18c4",
   "metadata": {},
   "outputs": [],
   "source": [
    "left_hand_coefficients = np.array([\n",
    "    [1, 2, 1, 1, 0, 0],\n",
    "    [3, 0, 2, 0, 1, 0],\n",
    "    [1, 4, 0, 0, 0, 1],\n",
    "    \n",
    "])\n",
    "\n",
    "right_hand_side = np.array([430, 460, 420])\n",
    "\n",
    "zvector = np.array([3, 2, 5, 0, 0, 0])"
   ]
  },
  {
   "cell_type": "code",
   "execution_count": 6,
   "id": "75a259da",
   "metadata": {},
   "outputs": [],
   "source": [
    "simplex??"
   ]
  },
  {
   "cell_type": "code",
   "execution_count": 28,
   "id": "7caeedba",
   "metadata": {},
   "outputs": [
    {
     "name": "stdout",
     "output_type": "stream",
     "text": [
      "========== Simplex Method ==========\n",
      "Optimal solution found in 2 iterations\n",
      "Basis: ['x2', 'x3', 'x6']\n",
      "Cb: [2 5 0]\n",
      "Optimal Table: \n",
      " [[-1/4 1 0 1/2 -1/4 0]\n",
      " [3/2 0 1 0 1/2 0]\n",
      " [2 0 0 -2 1 1]] \n",
      "\n",
      "Solution [0 100 230 0 0 20] \tZ: 1350.00\n"
     ]
    }
   ],
   "source": [
    "solutions, lastrows, table, basis_solution, cbindex = simplex(matrix=left_hand_coefficients, rhs=right_hand_side, z=zvector, direction=1)"
   ]
  },
  {
   "cell_type": "code",
   "execution_count": 19,
   "id": "b8b1f613",
   "metadata": {},
   "outputs": [
    {
     "name": "stdout",
     "output_type": "stream",
     "text": [
      "      x1   x2   x3   x4    x5   x6\n",
      "x2 -0.25  1.0  0.0  0.5 -0.25  0.0\n",
      "x3  1.50  0.0  1.0  0.0  0.50  0.0\n",
      "x6  2.00  0.0  0.0 -2.0  1.00  1.0\n"
     ]
    }
   ],
   "source": [
    "print(table)"
   ]
  },
  {
   "cell_type": "code",
   "execution_count": 22,
   "id": "45b716e0",
   "metadata": {},
   "outputs": [
    {
     "name": "stdout",
     "output_type": "stream",
     "text": [
      "x2    100.0\n",
      "x3    230.0\n",
      "x6     20.0\n",
      "Name: solution, dtype: float64\n"
     ]
    }
   ],
   "source": [
    "print(basis_solution)"
   ]
  },
  {
   "cell_type": "code",
   "execution_count": 24,
   "id": "6982aa01",
   "metadata": {},
   "outputs": [
    {
     "name": "stdout",
     "output_type": "stream",
     "text": [
      "x2     200.0\n",
      "x3    1150.0\n",
      "x6       0.0\n",
      "Name: solution, dtype: float64\n"
     ]
    }
   ],
   "source": []
  }
 ],
 "metadata": {
  "kernelspec": {
   "display_name": "optimization",
   "language": "python",
   "name": "optimization"
  },
  "language_info": {
   "codemirror_mode": {
    "name": "ipython",
    "version": 3
   },
   "file_extension": ".py",
   "mimetype": "text/x-python",
   "name": "python",
   "nbconvert_exporter": "python",
   "pygments_lexer": "ipython3",
   "version": "3.8.11"
  }
 },
 "nbformat": 4,
 "nbformat_minor": 5
}
