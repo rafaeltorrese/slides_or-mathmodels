{
 "cells": [
  {
   "cell_type": "markdown",
   "id": "israeli-adaptation",
   "metadata": {},
   "source": [
    "# Sensitivity Analysis Exam 02-01"
   ]
  },
  {
   "cell_type": "markdown",
   "id": "christian-ownership",
   "metadata": {},
   "source": [
    "## Exercise 01\n",
    "\n",
    "Solve the problem\n",
    "\n",
    "$$ \\min Z = -x_1 + 2x_2 + 3x_3$$\n",
    "\n",
    "  \\begin{align*}\n",
    "    -x_1 + x_2 +x_3\\geq 3,\\\\\n",
    "    x_1 + 2x_2 + x_3 \\leq 10\\\\[3mm]\n",
    "    x_1, x_2, x_3 &\\geq 0\n",
    "  \\end{align*}\n",
    "  \n",
    "Si los coeficientes tecnológicos de $x_1$ cambian de $\n",
    "\\begin{bmatrix}\n",
    "  -1\\\\\n",
    "   1\n",
    "\\end{bmatrix}\n",
    "$ a\n",
    "$\\begin{bmatrix}\n",
    "  2\\\\\n",
    "  1\n",
    "\\end{bmatrix}$, encuentre la nueva solución óptima.\n",
    "  \n"
   ]
  },
  {
   "cell_type": "code",
   "execution_count": 13,
   "id": "otherwise-canadian",
   "metadata": {},
   "outputs": [],
   "source": [
    "import numpy as np\n",
    "import pandas as pd\n",
    "np.set_printoptions(precision=3, suppress=True)"
   ]
  },
  {
   "cell_type": "code",
   "execution_count": 14,
   "id": "unexpected-sense",
   "metadata": {},
   "outputs": [],
   "source": [
    "%run \"../auxfunc/algorithms.ipynb\"\n",
    "%run \"../auxfunc/fullmatrix.ipynb\""
   ]
  },
  {
   "cell_type": "code",
   "execution_count": 15,
   "id": "portable-crazy",
   "metadata": {},
   "outputs": [],
   "source": [
    "cj1 = [-1, 2, 3]\n",
    "\n",
    "A1 = np.array([\n",
    "    [-1, 1, 1],\n",
    "    [1, 2, 1],\n",
    "])\n",
    "\n",
    "b1 = [3, 10]\n",
    "\n",
    "ineq1 = [\">=\", \"<=\"]"
   ]
  },
  {
   "cell_type": "code",
   "execution_count": 16,
   "id": "enabling-finger",
   "metadata": {},
   "outputs": [
    {
     "name": "stdout",
     "output_type": "stream",
     "text": [
      "==================== Simplex Method ====================\n",
      "####################\n",
      "Iteration 1. A1 --> x2\n",
      "--------------------\n",
      "[[-1.  1.  1. -1.  1.  0.]\n",
      " [ 3.  0. -1.  2. -2.  1.]] \n",
      "\n",
      "    Basis\n",
      "x2    2.0\n",
      "s2    0.0\n",
      "Solution [0. 3. 0. 0. 0. 4.] \tZ: 6.00 \n",
      "\n",
      "####################\n",
      "Optimal solution found in 1 iterations\n",
      "    Solution\n",
      "x1       0.0\n",
      "x2       3.0\n",
      "x3       0.0\n",
      "s1       0.0\n",
      "A1       0.0\n",
      "s2       4.0\n",
      "\n",
      "Optimal Table:\n",
      "     Cb   x1   x2   x3   s1   A1   s2    b\n",
      "x2  2.0 -1.0  1.0  1.0 -1.0  1.0  0.0  3.0\n",
      "s2  0.0  3.0  0.0 -1.0  2.0 -2.0  1.0  4.0\n",
      "\n",
      "Row Base:\n",
      "          x1   x2   x3   s1     A1   s2\n",
      "zj      -2.0  2.0  2.0 -2.0    2.0  0.0\n",
      "cj - zj  1.0  0.0  1.0  2.0  998.0  0.0\n"
     ]
    }
   ],
   "source": [
    "sol1, z1, lastrow11, optitable11 = simplex(matrix=A1,\n",
    "                                        rhs=b1, \n",
    "                                        z=cj1, \n",
    "                                        inequalities=ineq1,\n",
    "                                           direction=-1,\n",
    "                                        vlabel=\"x\")"
   ]
  },
  {
   "cell_type": "markdown",
   "id": "super-occurrence",
   "metadata": {},
   "source": [
    "## Exercise 02\n",
    "\n",
    "Una fábrica de muebles fabrica $x_1$ sillas, $x_2$ mesas y $x_3$ aparadores. Se ha formulado el siguiente modelo de producción:\n",
    "\n",
    "$$ \\max Z = 20x_1 + 15x_2 + 15x_3$$\n",
    "\n",
    "  \\begin{align*}\n",
    "    8x_1 + 2x_2 + 8x_3 &\\leq 100\\\\\n",
    "    4x_1 + 4x_2 + 4x_3 &\\leq 60\\\\[3mm]\n",
    "    x_1, x_2, x_3 & \\geq 0\n",
    "  \\end{align*}\n",
    "  \n",
    "1. Escribir el problema en su forma dual,\n",
    "2. Resolver el problema dual.\n",
    "3. Determinar los rangos de los lados derecho.\n",
    "4. Determinar los rangos de las contribuciones de $x_1, x_2, x_3$ para que la solución sigua siendo óptima."
   ]
  },
  {
   "cell_type": "markdown",
   "id": "massive-reducing",
   "metadata": {},
   "source": [
    "## Dual Problem Formulation\n",
    "\n",
    "$$\\min 100y_1 + 60y_2$$\n",
    "\n",
    "\\begin{align*}\n",
    "    8y_1 + 4y_2 &\\geq 20\\\\\n",
    "    2y_1 + 4y_2 &\\geq 15\\\\\n",
    "    8y_1 + 4y_2 & \\geq 15\\\\[3mm]\n",
    "    y_1, y_2 & \\geq 0\n",
    "  \\end{align*}"
   ]
  },
  {
   "cell_type": "code",
   "execution_count": 17,
   "id": "exempt-wildlife",
   "metadata": {},
   "outputs": [],
   "source": [
    "cj2 = [100, 60]\n",
    "\n",
    "A2 = np.array([\n",
    "    [8, 4],\n",
    "    [2, 4],\n",
    "    [8, 4],\n",
    "])\n",
    "\n",
    "b2 = [20, 15, 15]\n",
    "\n",
    "ineq2 = [\">=\"] * 3 "
   ]
  },
  {
   "cell_type": "code",
   "execution_count": 18,
   "id": "personal-cyprus",
   "metadata": {},
   "outputs": [
    {
     "name": "stdout",
     "output_type": "stream",
     "text": [
      "==================== Simplex Method ====================\n",
      "####################\n",
      "Iteration 1. A3 --> y1\n",
      "--------------------\n",
      "[[ 0.     0.    -1.     1.     0.     0.     1.    -1.   ]\n",
      " [ 0.     3.     0.     0.    -1.     1.     0.25  -0.25 ]\n",
      " [ 1.     0.5    0.     0.     0.     0.    -0.125  0.125]] \n",
      "\n",
      "     Basis\n",
      "A1  1000.0\n",
      "A2  1000.0\n",
      "y1   100.0\n",
      "Solution [ 1.875  0.     0.     5.     0.    11.25   0.     0.   ] \tZ: 16437.50 \n",
      "\n",
      "####################\n",
      "Iteration 2. A2 --> y2\n",
      "--------------------\n",
      "[[ 0.     0.    -1.     1.     0.     0.     1.    -1.   ]\n",
      " [ 0.     1.     0.     0.    -0.333  0.333  0.083 -0.083]\n",
      " [ 1.     0.     0.     0.     0.167 -0.167 -0.167  0.167]] \n",
      "\n",
      "     Basis\n",
      "A1  1000.0\n",
      "y2    60.0\n",
      "y1   100.0\n",
      "Solution [0.   3.75 0.   5.   0.   0.   0.   0.  ] \tZ: 5225.00 \n",
      "\n",
      "####################\n",
      "Iteration 3. A1 --> s3\n",
      "--------------------\n",
      "[[ 0.     0.    -1.     1.     0.     0.     1.    -1.   ]\n",
      " [ 0.     1.     0.083 -0.083 -0.333  0.333  0.     0.   ]\n",
      " [ 1.     0.    -0.167  0.167  0.167 -0.167  0.     0.   ]] \n",
      "\n",
      "    Basis\n",
      "s3    0.0\n",
      "y2   60.0\n",
      "y1  100.0\n",
      "Solution [0.833 3.333 0.    0.    0.    0.    5.    0.   ] \tZ: 283.33 \n",
      "\n",
      "####################\n",
      "Optimal solution found in 3 iterations\n",
      "    Solution\n",
      "y1  0.833333\n",
      "y2  3.333333\n",
      "s1  0.000000\n",
      "A1  0.000000\n",
      "s2  0.000000\n",
      "A2  0.000000\n",
      "s3  5.000000\n",
      "A3  0.000000\n",
      "\n",
      "Optimal Table:\n",
      "       Cb   y1   y2        s1        A1        s2        A2   s3   A3  \\\n",
      "s3    0.0  0.0  0.0 -1.000000  1.000000  0.000000  0.000000  1.0 -1.0   \n",
      "y2   60.0  0.0  1.0  0.083333 -0.083333 -0.333333  0.333333  0.0  0.0   \n",
      "y1  100.0  1.0  0.0 -0.166667  0.166667  0.166667 -0.166667  0.0  0.0   \n",
      "\n",
      "           b  \n",
      "s3  5.000000  \n",
      "y2  3.333333  \n",
      "y1  0.833333  \n",
      "\n",
      "Row Base:\n",
      "            y1    y2         s1          A1        s2          A2   s3      A3\n",
      "zj       100.0  60.0 -11.666667   11.666667 -3.333333    3.333333  0.0     0.0\n",
      "cj - zj    0.0   0.0  11.666667  988.333333  3.333333  996.666667  0.0  1000.0\n"
     ]
    }
   ],
   "source": [
    "sol1, z1, lastrow11, optitable11 = simplex(matrix=A2,\n",
    "                                        rhs=b2, \n",
    "                                        z=cj2, \n",
    "                                        inequalities=ineq2,\n",
    "                                           direction=-1,\n",
    "                                        vlabel=\"y\")"
   ]
  },
  {
   "cell_type": "markdown",
   "id": "noble-superior",
   "metadata": {},
   "source": [
    "### Solving The Primal"
   ]
  },
  {
   "cell_type": "code",
   "execution_count": 19,
   "id": "extended-answer",
   "metadata": {},
   "outputs": [],
   "source": [
    "cj3 = [20, 15, 15]\n",
    "\n",
    "A3 = np.array([\n",
    "    [8, 2, 8],\n",
    "    [4, 4, 4],\n",
    "])\n",
    "\n",
    "b3 = [100, 60]\n",
    "\n",
    "ineq3 = [\"<=\"] * 2 "
   ]
  },
  {
   "cell_type": "code",
   "execution_count": 20,
   "id": "skilled-nutrition",
   "metadata": {},
   "outputs": [
    {
     "name": "stdout",
     "output_type": "stream",
     "text": [
      "==================== Simplex Method ====================\n",
      "####################\n",
      "Iteration 1. s1 --> x1\n",
      "--------------------\n",
      "[[ 1.     0.25   1.     0.125  0.   ]\n",
      " [ 0.     3.     0.    -0.5    1.   ]] \n",
      "\n",
      "    Basis\n",
      "x1   20.0\n",
      "s2    0.0\n",
      "Solution [12.5  0.   0.   0.  10. ] \tZ: 250.00 \n",
      "\n",
      "####################\n",
      "Iteration 2. s2 --> x2\n",
      "--------------------\n",
      "[[ 1.     0.     1.     0.167 -0.083]\n",
      " [ 0.     1.     0.    -0.167  0.333]] \n",
      "\n",
      "    Basis\n",
      "x1   20.0\n",
      "x2   15.0\n",
      "Solution [11.667  3.333  0.     0.     0.   ] \tZ: 283.33 \n",
      "\n",
      "####################\n",
      "Optimal solution found in 2 iterations\n",
      "     Solution\n",
      "x1  11.666667\n",
      "x2   3.333333\n",
      "x3   0.000000\n",
      "s1   0.000000\n",
      "s2   0.000000\n",
      "\n",
      "Optimal Table:\n",
      "      Cb   x1   x2   x3        s1        s2          b\n",
      "x1  20.0  1.0  0.0  1.0  0.166667 -0.083333  11.666667\n",
      "x2  15.0  0.0  1.0  0.0 -0.166667  0.333333   3.333333\n",
      "\n",
      "Row Base:\n",
      "           x1    x2    x3        s1        s2\n",
      "zj       20.0  15.0  20.0  0.833333  3.333333\n",
      "cj - zj   0.0   0.0  -5.0 -0.833333 -3.333333\n"
     ]
    }
   ],
   "source": [
    "sol1, z1, lastrow11, optitable11 = simplex(matrix=A3,\n",
    "                                        rhs=b3, \n",
    "                                        z=cj3, \n",
    "                                        inequalities=ineq3,\n",
    "                                        direction=1,\n",
    "                                        vlabel=\"x\")"
   ]
  }
 ],
 "metadata": {
  "kernelspec": {
   "display_name": "Python 3",
   "language": "python",
   "name": "python3"
  },
  "language_info": {
   "codemirror_mode": {
    "name": "ipython",
    "version": 3
   },
   "file_extension": ".py",
   "mimetype": "text/x-python",
   "name": "python",
   "nbconvert_exporter": "python",
   "pygments_lexer": "ipython3",
   "version": "3.7.3"
  }
 },
 "nbformat": 4,
 "nbformat_minor": 5
}
