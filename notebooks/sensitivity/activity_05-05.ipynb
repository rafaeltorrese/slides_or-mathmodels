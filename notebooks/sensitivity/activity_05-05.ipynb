{
 "cells": [
  {
   "cell_type": "markdown",
   "id": "israeli-adaptation",
   "metadata": {},
   "source": [
    "# Activity 5.5"
   ]
  },
  {
   "cell_type": "markdown",
   "id": "christian-ownership",
   "metadata": {},
   "source": [
    "## Exercise 02\n",
    "\n",
    "A firm produces three items A, B, and C and requires two types of resources --man hours and raw matrial. The following L.P. problem has been formulated to determine the optimum production schedule that maximizes the total profit:\n",
    "\n",
    "$$ \\max Z = 3y_1 + y_2 + 5y_3$$\n",
    "\n",
    "  \\begin{align*}\n",
    "    6y_1 + 3y_2 + 5y_3 & \\leq 45\\\\[3mm]\n",
    "3y_1 + 4y_2 + 5y_3 &\\leq 30\\\\[3mm]\n",
    "    y_1, y_2, y_3 \\geq 0\n",
    "  \\end{align*}\n",
    "  \n",
    "where $y_1, y_2, y_3$ are the number of items A, B, and C. Find the optimal solution.\n",
    "\n",
    " <ol>\n",
    " <li> Find the range on the unit profit of product A. If $c_1 = 4$, what is the optimal solution? </li>\n",
    "  <li> If additional 10 units of raw material can be obtained at a cost of \\$ 12, is it profitable to do so? </li>\n",
    "  <li> If the available raw material is increased to 50 units, what is the optimal solution?</li>\n",
    "  <li> Due to ``technological breakthrough'' the raw material required by part B is reduced to 2 units. Will affect the optimal solution?</li>\n",
    "  <li> If a supervision constraint, $2y_1 + y_2 + 3y_3 \\leq 20$ is added to the original problem, how is the optimal solution affected?</li>\n",
    "  </ol>\n",
    "  \n"
   ]
  },
  {
   "cell_type": "code",
   "execution_count": 1,
   "id": "otherwise-canadian",
   "metadata": {},
   "outputs": [],
   "source": [
    "import numpy as np\n",
    "import pandas as pd\n",
    "np.set_printoptions(precision=3, suppress=True)"
   ]
  },
  {
   "cell_type": "code",
   "execution_count": 2,
   "id": "unexpected-sense",
   "metadata": {},
   "outputs": [],
   "source": [
    "%run \"../auxfunc/algorithms.ipynb\"\n",
    "%run \"../auxfunc/fullmatrix.ipynb\""
   ]
  },
  {
   "cell_type": "code",
   "execution_count": 12,
   "id": "portable-crazy",
   "metadata": {},
   "outputs": [],
   "source": [
    "cj1 = [3, 1, 5]\n",
    "\n",
    "A1 = np.array([\n",
    "    [6, 3, 5],\n",
    "    [3, 4, 5],\n",
    "])\n",
    "\n",
    "b1 = [45, 40]\n",
    "\n",
    "ineq1 = [\"<=\", \"<=\"]"
   ]
  },
  {
   "cell_type": "code",
   "execution_count": 13,
   "id": "enabling-finger",
   "metadata": {},
   "outputs": [
    {
     "name": "stdout",
     "output_type": "stream",
     "text": [
      "==================== Simplex Method ====================\n",
      "####################\n",
      "Iteration 1. s2 --> y3\n",
      "--------------------\n",
      "[[ 3.  -1.   0.   1.  -1. ]\n",
      " [ 0.6  0.8  1.   0.   0.2]] \n",
      "\n",
      "    Basis\n",
      "s1    0.0\n",
      "y3    5.0\n",
      "Solution [0. 0. 8. 5. 0.] \tZ: 40.00 \n",
      "\n",
      "####################\n",
      "Optimal solution found in 1 iterations\n",
      "    Solution\n",
      "y1       0.0\n",
      "y2       0.0\n",
      "y3       8.0\n",
      "s1       5.0\n",
      "s2       0.0\n",
      "\n",
      "Optimal Table:\n",
      "     Cb   y1   y2   y3   s1   s2    b\n",
      "s1  0.0  3.0 -1.0  0.0  1.0 -1.0  5.0\n",
      "y3  5.0  0.6  0.8  1.0  0.0  0.2  8.0\n",
      "\n",
      "Row Base:\n",
      "          y1   y2   y3   s1   s2\n",
      "zj       3.0  4.0  5.0  0.0  1.0\n",
      "cj - zj  0.0 -3.0  0.0  0.0 -1.0\n"
     ]
    }
   ],
   "source": [
    "sol1, z1, lastrow11, optitable11 = simplex(matrix=A1,\n",
    "                                        rhs=b1, \n",
    "                                        z=cj1, \n",
    "                                        inequalities=ineq1,\n",
    "                                        vlabel=\"y\")"
   ]
  }
 ],
 "metadata": {
  "kernelspec": {
   "display_name": "Python 3",
   "language": "python",
   "name": "python3"
  },
  "language_info": {
   "codemirror_mode": {
    "name": "ipython",
    "version": 3
   },
   "file_extension": ".py",
   "mimetype": "text/x-python",
   "name": "python",
   "nbconvert_exporter": "python",
   "pygments_lexer": "ipython3",
   "version": "3.7.3"
  }
 },
 "nbformat": 4,
 "nbformat_minor": 5
}
