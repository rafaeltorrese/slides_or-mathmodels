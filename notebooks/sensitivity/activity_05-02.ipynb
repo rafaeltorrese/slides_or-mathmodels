{
 "cells": [
  {
   "cell_type": "markdown",
   "id": "christian-ownership",
   "metadata": {},
   "source": [
    "# Activity 5.2\n",
    "\n",
    "$$\\max Z = 3x_1 + 3x_2 + 4x_3 + 7x_4 $$\n",
    "  \\begin{align*}\n",
    "  x_1 + x_2 + x_3 + x_4  & \\leq 9\\\\\n",
    "5x_1 + 3x_2 + 2x_3 + x_4  &\\leq 60\\\\\n",
    "x_1 + 3x_2 + 5x_3 + 8x_4  &\\leq 50\\\\\n",
    "    x_1, x_2 &\\geq 0\\\\\n",
    "  \\end{align*}"
   ]
  },
  {
   "cell_type": "code",
   "execution_count": 2,
   "id": "otherwise-canadian",
   "metadata": {},
   "outputs": [],
   "source": [
    "import numpy as np\n",
    "import pandas as pd\n",
    "np.set_printoptions(precision=3, suppress=True)"
   ]
  },
  {
   "cell_type": "code",
   "execution_count": 3,
   "id": "unexpected-sense",
   "metadata": {},
   "outputs": [],
   "source": [
    "%run \"../auxfunc/algorithms.ipynb\"\n",
    "%run \"../auxfunc/fullmatrix.ipynb\""
   ]
  },
  {
   "cell_type": "code",
   "execution_count": 4,
   "id": "portable-crazy",
   "metadata": {},
   "outputs": [],
   "source": [
    "cj1 = [3, 3, 4, 7]\n",
    "\n",
    "A1 = np.array([\n",
    "    [1, 1, 1, 1],\n",
    "    [5, 3, 2, 1],\n",
    "    [1, 3, 5, 8],\n",
    "])\n",
    "\n",
    "b1 = [9, 60, 50]\n",
    "\n",
    "ineq1 = [\"<=\", \"<=\", \"<=\"]"
   ]
  },
  {
   "cell_type": "code",
   "execution_count": 7,
   "id": "enabling-finger",
   "metadata": {},
   "outputs": [
    {
     "name": "stdout",
     "output_type": "stream",
     "text": [
      "==================== Simplex Method ====================\n",
      "####################\n",
      "Iteration 1. s3 --> x4\n",
      "--------------------\n",
      "[[ 0.875  0.625  0.375  0.     1.     0.    -0.125]\n",
      " [ 4.875  2.625  1.375  0.     0.     1.    -0.125]\n",
      " [ 0.125  0.375  0.625  1.     0.     0.     0.125]] \n",
      "\n",
      "    Basis\n",
      "s1    0.0\n",
      "s2    0.0\n",
      "x4    7.0\n",
      "Solution [ 0.    0.    0.    6.25  2.75 53.75  0.  ] \tZ: 43.75 \n",
      "\n",
      "####################\n",
      "Iteration 2. s1 --> x1\n",
      "--------------------\n",
      "[[ 1.     0.714  0.429  0.     1.143  0.    -0.143]\n",
      " [ 0.    -0.857 -0.714  0.    -5.571  1.     0.571]\n",
      " [ 0.     0.286  0.571  1.    -0.143  0.     0.143]] \n",
      "\n",
      "    Basis\n",
      "x1    3.0\n",
      "s2    0.0\n",
      "x4    7.0\n",
      "Solution [ 3.143  0.     0.     5.857  0.    38.429  0.   ] \tZ: 50.43 \n",
      "\n",
      "####################\n",
      "Optimal solution found in 2 iterations\n",
      "     Solution\n",
      "x1   3.142857\n",
      "x2   0.000000\n",
      "x3   0.000000\n",
      "x4   5.857143\n",
      "s1   0.000000\n",
      "s2  38.428571\n",
      "s3   0.000000\n",
      "\n",
      "Optimal Table:\n",
      "     Cb   x1        x2        x3   x4        s1   s2        s3          b\n",
      "x1  3.0  1.0  0.714286  0.428571  0.0  1.142857  0.0 -0.142857   3.142857\n",
      "s2  0.0  0.0 -0.857143 -0.714286  0.0 -5.571429  1.0  0.571429  38.428571\n",
      "x4  7.0  0.0  0.285714  0.571429  1.0 -0.142857  0.0  0.142857   5.857143\n",
      "\n",
      "Row Base:\n",
      "          x1        x2        x3   x4        s1   s2        s3\n",
      "zj       3.0  4.142857  5.285714  7.0  2.428571  0.0  0.571429\n",
      "cj - zj  0.0 -1.142857 -1.285714  0.0 -2.428571  0.0 -0.571429\n"
     ]
    }
   ],
   "source": [
    "sol1, z1, lastrow11, optitable11 = simplex(matrix=A1,\n",
    "                                        rhs=b1, \n",
    "                                        z=cj1, \n",
    "                                        inequalities=ineq1)"
   ]
  }
 ],
 "metadata": {
  "kernelspec": {
   "display_name": "Python 3",
   "language": "python",
   "name": "python3"
  },
  "language_info": {
   "codemirror_mode": {
    "name": "ipython",
    "version": 3
   },
   "file_extension": ".py",
   "mimetype": "text/x-python",
   "name": "python",
   "nbconvert_exporter": "python",
   "pygments_lexer": "ipython3",
   "version": "3.7.3"
  }
 },
 "nbformat": 4,
 "nbformat_minor": 5
}
