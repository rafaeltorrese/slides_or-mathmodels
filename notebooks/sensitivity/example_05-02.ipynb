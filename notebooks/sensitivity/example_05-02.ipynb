{
 "cells": [
  {
   "cell_type": "markdown",
   "id": "christian-ownership",
   "metadata": {},
   "source": [
    "# Example 02\n",
    "\n",
    "$$\\max Z = -x_1 + 2x_2 - x_3 $$\n",
    "\n",
    "\\begin{align*}\n",
    "3x_1 + x_2 - x_3 &\\leq 10\\\\\n",
    "-x_1 + 4x_2 + x_3 &\\geq 6\\\\\n",
    "  x_2 + x_3 &\\leq 4\\\\[5mm]  \n",
    "x_1 , x_2, x_3 &\\geq 0\n",
    "\\end{align*}"
   ]
  },
  {
   "cell_type": "code",
   "execution_count": 1,
   "id": "rough-queensland",
   "metadata": {},
   "outputs": [],
   "source": [
    "import numpy as np\n",
    "import pandas as pd\n",
    "np.set_printoptions(precision=3, suppress=True)"
   ]
  },
  {
   "cell_type": "code",
   "execution_count": 2,
   "id": "unexpected-sense",
   "metadata": {},
   "outputs": [],
   "source": [
    "%run \"../auxfunc/algorithms.ipynb\"\n",
    "%run \"../auxfunc/fullmatrix.ipynb\""
   ]
  },
  {
   "cell_type": "code",
   "execution_count": 3,
   "id": "portable-crazy",
   "metadata": {},
   "outputs": [],
   "source": [
    "cj1 = [-1, 2, -1]\n",
    "\n",
    "A1 = np.array([\n",
    "    [3,1,-1],\n",
    "    [-1,4,1],\n",
    "    [0,1,1]\n",
    "])\n",
    "\n",
    "b1 = [10,6,4]\n",
    "\n",
    "ineq1 = [\"<=\", \">=\", \"<=\"]"
   ]
  },
  {
   "cell_type": "code",
   "execution_count": 16,
   "id": "enabling-finger",
   "metadata": {},
   "outputs": [
    {
     "name": "stdout",
     "output_type": "stream",
     "text": [
      "==================== Simplex Method ====================\n",
      "####################\n",
      "Iteration 1. A2 --> x2\n",
      "--------------------\n",
      "[[ 3.25  0.   -1.25  1.    0.25 -0.25  0.  ]\n",
      " [-0.25  1.    0.25  0.   -0.25  0.25  0.  ]\n",
      " [ 0.25  0.    0.75  0.    0.25 -0.25  1.  ]] \n",
      "\n",
      "    Basis\n",
      "s1    0.0\n",
      "x2    2.0\n",
      "s3    0.0\n",
      "Solution [0.  1.5 0.  8.5 0.  0.  2.5] \tZ: 3.00 \n",
      "\n",
      "####################\n",
      "Iteration 2. s3 --> s2\n",
      "--------------------\n",
      "[[ 3.  0. -2.  1.  0.  0. -1.]\n",
      " [ 0.  1.  1.  0.  0.  0.  1.]\n",
      " [ 1.  0.  3.  0.  1. -1.  4.]] \n",
      "\n",
      "    Basis\n",
      "s1    0.0\n",
      "x2    2.0\n",
      "s2    0.0\n",
      "Solution [ 0.  4.  0.  6. 10.  0.  0.] \tZ: 8.00 \n",
      "\n",
      "####################\n",
      "Optimal solution found in 2 iterations\n",
      "    Solution\n",
      "x1       0.0\n",
      "x2       4.0\n",
      "x3       0.0\n",
      "s1       6.0\n",
      "s2      10.0\n",
      "A2       0.0\n",
      "s3       0.0\n",
      "\n",
      "Optimal Table:\n",
      "     Cb   x1   x2   x3   s1   s2   A2   s3     b\n",
      "s1  0.0  3.0  0.0 -2.0  1.0  0.0  0.0 -1.0   6.0\n",
      "x2  2.0  0.0  1.0  1.0  0.0  0.0  0.0  1.0   4.0\n",
      "s2  0.0  1.0  0.0  3.0  0.0  1.0 -1.0  4.0  10.0\n",
      "\n",
      "Row Base:\n",
      "          x1   x2   x3   s1   s2      A2   s3\n",
      "zj       0.0  2.0  2.0  0.0  0.0     0.0  2.0\n",
      "cj - zj -1.0  0.0 -3.0  0.0  0.0 -1000.0 -2.0\n"
     ]
    }
   ],
   "source": [
    "sol1, z1, lastrow1, optitable = simplex(matrix=A1,\n",
    "                                        rhs=b1, \n",
    "                                        z=cj1, \n",
    "                                        inequalities=ineq1)"
   ]
  },
  {
   "cell_type": "markdown",
   "id": "referenced-textbook",
   "metadata": {},
   "source": [
    "### $c_j - Z_j$"
   ]
  },
  {
   "cell_type": "code",
   "execution_count": 5,
   "id": "graduate-scheme",
   "metadata": {},
   "outputs": [
    {
     "name": "stdout",
     "output_type": "stream",
     "text": [
      "[[    0.     2.     2.     0.     0.     0.     2.]\n",
      " [   -1.     0.    -3.     0.     0. -1000.    -2.]]\n"
     ]
    }
   ],
   "source": [
    "print(lastrow1)"
   ]
  },
  {
   "cell_type": "code",
   "execution_count": 202,
   "id": "cathedral-wages",
   "metadata": {},
   "outputs": [
    {
     "name": "stdout",
     "output_type": "stream",
     "text": [
      "[[ 1  2]\n",
      " [ 2 -1]]\n",
      "[[ 0.2  0.4]\n",
      " [ 0.4 -0.2]]\n"
     ]
    }
   ],
   "source": [
    "B = A[:2, :2]\n",
    "Binv = np.linalg.inv(B)\n",
    "print(B)\n",
    "print(Binv)"
   ]
  },
  {
   "cell_type": "code",
   "execution_count": 203,
   "id": "external-white",
   "metadata": {},
   "outputs": [],
   "source": [
    "b2 = np.array([7, 2])\n",
    "b3 = np.array([3, 9])"
   ]
  },
  {
   "cell_type": "code",
   "execution_count": 204,
   "id": "german-naples",
   "metadata": {},
   "outputs": [
    {
     "name": "stdout",
     "output_type": "stream",
     "text": [
      "[2.2 2.4]\n",
      "[ 4.2 -0.6]\n"
     ]
    }
   ],
   "source": [
    "print(Binv.dot(b2))\n",
    "print(Binv.dot(b3))"
   ]
  },
  {
   "cell_type": "code",
   "execution_count": 10,
   "id": "early-output",
   "metadata": {},
   "outputs": [],
   "source": [
    "cjdual = b1\n",
    "\n",
    "Adual = A1.T\n",
    "\n",
    "bdual = cj1\n",
    "\n",
    "ineqdual = [\">=\", \"<=\", \">=\"]"
   ]
  },
  {
   "cell_type": "code",
   "execution_count": 11,
   "id": "removable-threshold",
   "metadata": {},
   "outputs": [
    {
     "name": "stdout",
     "output_type": "stream",
     "text": [
      "==================== Simplex Method ====================\n",
      "####################\n",
      "Iteration 1. A1 --> y1\n",
      "--------------------\n",
      "[[ 1.    -0.333  0.    -0.333  0.333  0.     0.     0.   ]\n",
      " [ 0.     4.333  1.     0.333 -0.333  1.     0.     0.   ]\n",
      " [ 0.     0.667  1.    -0.333  0.333  0.    -1.     1.   ]] \n",
      "\n",
      "     Basis\n",
      "y1    10.0\n",
      "s2     0.0\n",
      "A3  1000.0\n",
      "Solution [-0.333  0.     0.     0.     0.     2.333  0.    -1.333] \tZ: -1336.67 \n",
      "\n",
      "####################\n",
      "Iteration 2. A3 --> y3\n",
      "--------------------\n",
      "[[ 1.    -0.333  0.    -0.333  0.333  0.     0.     0.   ]\n",
      " [ 0.     3.667  0.     0.667 -0.667  1.     1.    -1.   ]\n",
      " [ 0.     0.667  1.    -0.333  0.333  0.    -1.     1.   ]] \n",
      "\n",
      "    Basis\n",
      "y1   10.0\n",
      "s2    0.0\n",
      "y3    4.0\n",
      "Solution [-0.333  0.    -1.333  0.     0.     3.667  0.     0.   ] \tZ: -8.67 \n",
      "\n",
      "####################\n",
      "Optimal solution found in 2 iterations\n",
      "    Solution\n",
      "y1 -0.333333\n",
      "y2  0.000000\n",
      "y3 -1.333333\n",
      "s1  0.000000\n",
      "A1  0.000000\n",
      "s2  3.666667\n",
      "s3  0.000000\n",
      "A3  0.000000\n",
      "\n",
      "Optimal Table:\n",
      "      Cb   y1        y2   y3        s1        A1   s2   s3   A3         b\n",
      "y1  10.0  1.0 -0.333333  0.0 -0.333333  0.333333  0.0  0.0  0.0 -0.333333\n",
      "s2   0.0  0.0  3.666667  0.0  0.666667 -0.666667  1.0  1.0 -1.0  3.666667\n",
      "y3   4.0  0.0  0.666667  1.0 -0.333333  0.333333  0.0 -1.0  1.0 -1.333333\n",
      "\n",
      "Row Base:\n",
      "           y1        y2   y3        s1          A1   s2   s3     A3\n",
      "zj       10.0 -0.666667  4.0 -4.666667    4.666667  0.0 -4.0    4.0\n",
      "cj - zj  -0.0 -6.666667 -0.0 -4.666667 -995.333333 -0.0 -4.0 -996.0\n"
     ]
    }
   ],
   "source": [
    "soldual, wvalues, lastdualrow, tabledual = simplex(matrix=Adual, \n",
    "                                                   rhs=bdual, \n",
    "                                                   z=cjdual, \n",
    "                                                   inequalities=ineqdual, \n",
    "                                                   direction=-1, vlabel=\"y\")"
   ]
  },
  {
   "cell_type": "code",
   "execution_count": 12,
   "id": "stock-spell",
   "metadata": {},
   "outputs": [
    {
     "name": "stdout",
     "output_type": "stream",
     "text": [
      "[[  10.      -0.667    4.      -4.667    4.667    0.      -4.       4.   ]\n",
      " [  -0.      -6.667   -0.      -4.667 -995.333   -0.      -4.    -996.   ]]\n"
     ]
    }
   ],
   "source": [
    "print(lastdualrow)\n"
   ]
  },
  {
   "cell_type": "code",
   "execution_count": null,
   "id": "selected-incident",
   "metadata": {},
   "outputs": [],
   "source": [
    "B = np.array([[1,1,0], [0,4,-1], []])"
   ]
  }
 ],
 "metadata": {
  "kernelspec": {
   "display_name": "Python 3",
   "language": "python",
   "name": "python3"
  },
  "language_info": {
   "codemirror_mode": {
    "name": "ipython",
    "version": 3
   },
   "file_extension": ".py",
   "mimetype": "text/x-python",
   "name": "python",
   "nbconvert_exporter": "python",
   "pygments_lexer": "ipython3",
   "version": "3.7.3"
  }
 },
 "nbformat": 4,
 "nbformat_minor": 5
}
