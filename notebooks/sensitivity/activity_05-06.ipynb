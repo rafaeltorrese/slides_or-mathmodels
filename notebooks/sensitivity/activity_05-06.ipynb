{
 "cells": [
  {
   "cell_type": "markdown",
   "id": "israeli-adaptation",
   "metadata": {},
   "source": [
    "# Activity 5.6"
   ]
  },
  {
   "cell_type": "markdown",
   "id": "christian-ownership",
   "metadata": {},
   "source": [
    "## Exercise 01\n",
    "\n",
    "Solve the problem\n",
    "\n",
    "$$ \\max Z = 3x_1 + 4x_2 + x_3 + 7x_4 $$\n",
    "\n",
    "  \\begin{align*}\n",
    "    8x_1 + 3x_2 + 4x_3 + x_4 &\\leq 7\\\\\n",
    "    2x_1 + 6x_2 + x_3 + 5x_4 &\\leq 3\\\\\n",
    "    x_1 + 4x_2 + 5x_3 + 2x_4 &\\leq 8\\\\[3mm]\n",
    "    x_1, x_2, x_3, x_4 &\\geq 0\n",
    "  \\end{align*}\n",
    "  \n",
    "Discuss the effect of deleting variable $x_4$ on the optimal solution.\n",
    "  \n"
   ]
  },
  {
   "cell_type": "code",
   "execution_count": 1,
   "id": "otherwise-canadian",
   "metadata": {},
   "outputs": [],
   "source": [
    "import numpy as np\n",
    "import pandas as pd\n",
    "np.set_printoptions(precision=3, suppress=True)"
   ]
  },
  {
   "cell_type": "code",
   "execution_count": 2,
   "id": "unexpected-sense",
   "metadata": {},
   "outputs": [],
   "source": [
    "%run \"../auxfunc/algorithms.ipynb\"\n",
    "%run \"../auxfunc/fullmatrix.ipynb\""
   ]
  },
  {
   "cell_type": "code",
   "execution_count": 7,
   "id": "portable-crazy",
   "metadata": {},
   "outputs": [],
   "source": [
    "cj1 = [3, 4, 1, 7]\n",
    "\n",
    "A1 = np.array([\n",
    "    [8, 3, 4, 1],\n",
    "    [2, 6, 1, 5],\n",
    "    [1, 4, 5, 2],\n",
    "])\n",
    "\n",
    "b1 = [7, 3, 8]\n",
    "\n",
    "ineq1 = [\"<=\", \"<=\", \"<=\" ]"
   ]
  },
  {
   "cell_type": "code",
   "execution_count": 9,
   "id": "enabling-finger",
   "metadata": {},
   "outputs": [
    {
     "name": "stdout",
     "output_type": "stream",
     "text": [
      "==================== Simplex Method ====================\n",
      "####################\n",
      "Iteration 1. s2 --> x4\n",
      "--------------------\n",
      "[[ 7.6  1.8  3.8  0.   1.  -0.2  0. ]\n",
      " [ 0.4  1.2  0.2  1.   0.   0.2  0. ]\n",
      " [ 0.2  1.6  4.6  0.   0.  -0.4  1. ]] \n",
      "\n",
      "    Basis\n",
      "s1    0.0\n",
      "x4    7.0\n",
      "s3    0.0\n",
      "Solution [0.  0.  0.  0.6 6.4 0.  6.8] \tZ: 4.20 \n",
      "\n",
      "####################\n",
      "Iteration 2. s1 --> x1\n",
      "--------------------\n",
      "[[ 1.     0.237  0.5    0.     0.132 -0.026  0.   ]\n",
      " [ 0.     1.105  0.     1.    -0.053  0.211  0.   ]\n",
      " [ 0.     1.553  4.5    0.    -0.026 -0.395  1.   ]] \n",
      "\n",
      "    Basis\n",
      "x1    3.0\n",
      "x4    7.0\n",
      "s3    0.0\n",
      "Solution [0.842 0.    0.    0.263 0.    0.    6.632] \tZ: 4.37 \n",
      "\n",
      "####################\n",
      "Optimal solution found in 2 iterations\n",
      "    Solution\n",
      "x1  0.842105\n",
      "x2  0.000000\n",
      "x3  0.000000\n",
      "x4  0.263158\n",
      "s1  0.000000\n",
      "s2  0.000000\n",
      "s3  6.631579\n",
      "\n",
      "Optimal Table:\n",
      "     Cb   x1        x2   x3   x4        s1        s2   s3         b\n",
      "x1  3.0  1.0  0.236842  0.5  0.0  0.131579 -0.026316  0.0  0.842105\n",
      "x4  7.0  0.0  1.105263  0.0  1.0 -0.052632  0.210526  0.0  0.263158\n",
      "s3  0.0  0.0  1.552632  4.5  0.0 -0.026316 -0.394737  1.0  6.631579\n",
      "\n",
      "Row Base:\n",
      "          x1        x2   x3   x4        s1        s2   s3\n",
      "zj       3.0  8.447368  1.5  7.0  0.026316  1.394737  0.0\n",
      "cj - zj  0.0 -4.447368 -0.5  0.0 -0.026316 -1.394737  0.0\n"
     ]
    }
   ],
   "source": [
    "sol1, z1, lastrow11, optitable11 = simplex(matrix=A1,\n",
    "                                        rhs=b1, \n",
    "                                        z=cj1, \n",
    "                                        inequalities=ineq1,\n",
    "                                        vlabel=\"x\")"
   ]
  },
  {
   "cell_type": "code",
   "execution_count": null,
   "id": "established-manhattan",
   "metadata": {},
   "outputs": [],
   "source": []
  }
 ],
 "metadata": {
  "kernelspec": {
   "display_name": "Python 3",
   "language": "python",
   "name": "python3"
  },
  "language_info": {
   "codemirror_mode": {
    "name": "ipython",
    "version": 3
   },
   "file_extension": ".py",
   "mimetype": "text/x-python",
   "name": "python",
   "nbconvert_exporter": "python",
   "pygments_lexer": "ipython3",
   "version": "3.7.3"
  }
 },
 "nbformat": 4,
 "nbformat_minor": 5
}
