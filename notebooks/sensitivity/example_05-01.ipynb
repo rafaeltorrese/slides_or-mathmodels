{
 "cells": [
  {
   "cell_type": "markdown",
   "id": "christian-ownership",
   "metadata": {},
   "source": [
    "# Example 01\n",
    "\n",
    "$$\\max Z = 5x_1 + 12x_2 + 4x_3 $$\n",
    "\n",
    "\\begin{align*}\n",
    "x_1 + 2x_2 + x_3 &\\leq 5\\\\\n",
    "2x_1 - x_2 +3x_3 &= 2\\\\[5mm]  \n",
    "x_1 , x_2, x_3 &\\geq 0\n",
    "\\end{align*}"
   ]
  },
  {
   "cell_type": "code",
   "execution_count": 244,
   "id": "rough-queensland",
   "metadata": {},
   "outputs": [],
   "source": [
    "import numpy as np\n",
    "np.set_printoptions(precision=3, suppress=True)"
   ]
  },
  {
   "cell_type": "code",
   "execution_count": 261,
   "id": "unexpected-sense",
   "metadata": {},
   "outputs": [],
   "source": [
    "%run \"../auxfunc/algorithms.ipynb\"\n",
    "%run \"../auxfunc/fullmatrix.ipynb\""
   ]
  },
  {
   "cell_type": "code",
   "execution_count": 249,
   "id": "relative-munich",
   "metadata": {},
   "outputs": [],
   "source": [
    "cj = [5, 12, 4]\n",
    "\n",
    "A = np.array([\n",
    "    [1, 2, 1],\n",
    "    [2, -1, 3],\n",
    "    [-2, 1, -3],\n",
    "])\n",
    "\n",
    "b = [5, 2, -2]\n",
    "\n",
    "ineq = [\"<=\", \"<=\", \"<=\"]"
   ]
  },
  {
   "cell_type": "code",
   "execution_count": 262,
   "id": "utility-bookmark",
   "metadata": {},
   "outputs": [
    {
     "name": "stdout",
     "output_type": "stream",
     "text": [
      "[[ 1.  2.  1.  1.  0.  0.]\n",
      " [ 2. -1.  3.  0.  1.  0.]\n",
      " [-2.  1. -3.  0.  0.  1.]]\n",
      "[3 4 5]\n",
      "[0. 0. 0.]\n",
      "Iteration 1. s3 --> x2\n",
      "[[ 5.  0.  7.  1.  0. -2.]\n",
      " [ 0.  0.  0.  0.  1.  1.]\n",
      " [-2.  1. -3.  0.  0.  1.]] \n",
      "\n",
      "Solution [ 0. -2.  0.  9.  0.  0.] \tZ: -24.00 \n",
      "\n",
      "Iteration 2. s1 --> x3\n",
      "[[ 0.714  0.     1.     0.143  0.    -0.286]\n",
      " [ 0.     0.     0.     0.     1.     1.   ]\n",
      " [ 0.143  1.     0.     0.429  0.     0.143]] \n",
      "\n",
      "Solution [0.    1.857 1.286 0.    0.    0.   ] \tZ: 27.43 \n",
      "\n",
      "Iteration 3. x3 --> x1\n",
      "[[ 1.   0.   1.4  0.2  0.  -0.4]\n",
      " [ 0.   0.   0.   0.   1.   1. ]\n",
      " [ 0.   1.  -0.2  0.4  0.   0.2]] \n",
      "\n",
      "Solution [1.8 1.6 0.  0.  0.  0. ] \tZ: 28.20 \n",
      "\n",
      "Optimal solution found in 3 iterations\n",
      "('x1', 1.8) ('x2', 1.6) ('x3', 0.0) ('s1', 0.0) ('s2', 0.0) ('s3', 0.0)\n"
     ]
    }
   ],
   "source": [
    "solprimal, zvalues, lastprimalrow, tableprimal = simplex(matrix=A, rhs=b, z=cj, inequalities=ineq)"
   ]
  },
  {
   "cell_type": "code",
   "execution_count": null,
   "id": "interpreted-tomorrow",
   "metadata": {},
   "outputs": [],
   "source": [
    "print(lastprimalrow)"
   ]
  },
  {
   "cell_type": "code",
   "execution_count": null,
   "id": "national-sister",
   "metadata": {},
   "outputs": [],
   "source": [
    "print(tableprimal)"
   ]
  },
  {
   "cell_type": "code",
   "execution_count": null,
   "id": "cathedral-wages",
   "metadata": {},
   "outputs": [],
   "source": [
    "B = A[:2, :2]\n",
    "Binv = np.linalg.inv(B)\n",
    "print(B)\n",
    "print(Binv)"
   ]
  },
  {
   "cell_type": "code",
   "execution_count": null,
   "id": "external-white",
   "metadata": {},
   "outputs": [],
   "source": [
    "b2 = np.array([7, 2])\n",
    "b3 = np.array([3, 9])"
   ]
  },
  {
   "cell_type": "code",
   "execution_count": null,
   "id": "german-naples",
   "metadata": {},
   "outputs": [],
   "source": [
    "print(Binv.dot(b2))\n",
    "print(Binv.dot(b3))"
   ]
  },
  {
   "cell_type": "code",
   "execution_count": 263,
   "id": "early-output",
   "metadata": {},
   "outputs": [],
   "source": [
    "cjdual = b\n",
    "\n",
    "Adual = A.T\n",
    "\n",
    "bdual = cj\n",
    "\n",
    "ineqdual = [\">=\", \">=\", \">=\"]"
   ]
  },
  {
   "cell_type": "code",
   "execution_count": 264,
   "id": "removable-threshold",
   "metadata": {},
   "outputs": [
    {
     "name": "stdout",
     "output_type": "stream",
     "text": [
      "[[ 1.  2. -2. -1.  1.  0.  0.  0.  0.]\n",
      " [ 2. -1.  1.  0.  0. -1.  1.  0.  0.]\n",
      " [ 1.  3. -3.  0.  0.  0.  0. -1.  1.]]\n",
      "[4 6 8]\n",
      "[1000. 1000. 1000.]\n",
      "Iteration 1. A3 --> y2\n",
      "[[ 0.333  0.     0.    -1.     1.     0.     0.     0.667 -0.667]\n",
      " [ 2.333  0.     0.     0.     0.    -1.     1.    -0.333  0.333]\n",
      " [ 0.333  1.    -1.     0.     0.     0.     0.    -0.333  0.333]] \n",
      "\n",
      "Solution [ 0.     1.333  0.     0.     2.333  0.    13.333  0.     0.   ] \tZ: 15669.33 \n",
      "\n",
      "Iteration 2. y2 --> y1\n",
      "[[ 0. -1.  1. -1.  1.  0.  0.  1. -1.]\n",
      " [ 0. -7.  7.  0.  0. -1.  1.  2. -2.]\n",
      " [ 1.  3. -3.  0.  0.  0.  0. -1.  1.]] \n",
      "\n",
      "Solution [4. 0. 0. 0. 1. 0. 4. 0. 0.] \tZ: 5020.00 \n",
      "\n",
      "Iteration 3. A2 --> y3\n",
      "[[ 0.     0.     0.    -1.     1.     0.143 -0.143  0.714 -0.714]\n",
      " [ 0.    -1.     1.     0.     0.    -0.143  0.143  0.286 -0.286]\n",
      " [ 1.     0.     0.     0.     0.    -0.429  0.429 -0.143  0.143]] \n",
      "\n",
      "Solution [5.714 0.    0.571 0.    0.429 0.    0.    0.    0.   ] \tZ: 456.00 \n",
      "\n",
      "Iteration 4. A1 --> s3\n",
      "[[ 0.   0.   0.  -1.4  1.4  0.2 -0.2  1.  -1. ]\n",
      " [ 0.  -1.   1.   0.4 -0.4 -0.2  0.2  0.   0. ]\n",
      " [ 1.   0.   0.  -0.2  0.2 -0.4  0.4  0.   0. ]] \n",
      "\n",
      "Solution [5.8 0.  0.4 0.  0.  0.  0.  0.6 0. ] \tZ: 28.20 \n",
      "\n",
      "Optimal solution found in 4 iterations\n",
      "('y1', 5.8) ('y2', 0.0) ('y3', 0.4) ('s1', 0.0) ('A1', 0.0) ('s2', 0.0) ('A2', 0.0) ('s3', 0.6) ('A3', 0.0)\n"
     ]
    }
   ],
   "source": [
    "soldual, wvalues, lastdualrow, tabledual = simplex(matrix=Adual, rhs=bdual, z=cjdual, inequalities=ineqdual, direction=-1, vlabel=\"y\")"
   ]
  },
  {
   "cell_type": "code",
   "execution_count": 258,
   "id": "stock-spell",
   "metadata": {},
   "outputs": [
    {
     "name": "stdout",
     "output_type": "stream",
     "text": [
      "[[    5.      2.     -2.     -1.8     1.8    -1.6     1.6     0.      0. ]\n",
      " [   -0.     -0.     -0.     -1.8  -998.2    -1.6  -998.4    -0.  -1000. ]]\n"
     ]
    }
   ],
   "source": [
    "print(lastdualrow)"
   ]
  }
 ],
 "metadata": {
  "kernelspec": {
   "display_name": "Python 3",
   "language": "python",
   "name": "python3"
  },
  "language_info": {
   "codemirror_mode": {
    "name": "ipython",
    "version": 3
   },
   "file_extension": ".py",
   "mimetype": "text/x-python",
   "name": "python",
   "nbconvert_exporter": "python",
   "pygments_lexer": "ipython3",
   "version": "3.7.3"
  }
 },
 "nbformat": 4,
 "nbformat_minor": 5
}
