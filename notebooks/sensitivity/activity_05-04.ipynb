{
 "cells": [
  {
   "cell_type": "markdown",
   "id": "israeli-adaptation",
   "metadata": {},
   "source": [
    "# Activity 5.4"
   ]
  },
  {
   "cell_type": "markdown",
   "id": "christian-ownership",
   "metadata": {},
   "source": [
    "## Exercise 01\n",
    "\n",
    "$$ \\max Z = 3x_1 + 2x_2  + 5x_3$$\n",
    "\n",
    "  \\begin{align*}\n",
    "    x_1 + 2x_2  + x_3 &\\leq 430\\\\[3mm]\n",
    "3x_1 + 2x_3  &\\leq 460\\\\[3mm]\n",
    "    x_1 + 4x_2   &\\leq 420\\\\[3mm]\n",
    "    x_1, x_2, x_3 &\\geq 0\n",
    "  \\end{align*}"
   ]
  },
  {
   "cell_type": "code",
   "execution_count": 2,
   "id": "otherwise-canadian",
   "metadata": {},
   "outputs": [],
   "source": [
    "import numpy as np\n",
    "import pandas as pd\n",
    "np.set_printoptions(precision=3, suppress=True)"
   ]
  },
  {
   "cell_type": "code",
   "execution_count": 3,
   "id": "unexpected-sense",
   "metadata": {},
   "outputs": [],
   "source": [
    "%run \"../auxfunc/algorithms.ipynb\"\n",
    "%run \"../auxfunc/fullmatrix.ipynb\""
   ]
  },
  {
   "cell_type": "code",
   "execution_count": 6,
   "id": "portable-crazy",
   "metadata": {},
   "outputs": [],
   "source": [
    "cj1 = [3, 2, 5]\n",
    "\n",
    "A1 = np.array([\n",
    "    [1, 2, 1],\n",
    "    [3, 0, 2],\n",
    "    [1, 4, 0],\n",
    "])\n",
    "\n",
    "b1 = [430, 460, 420]\n",
    "\n",
    "ineq1 = [\"<=\", \"<=\", \"<=\"]"
   ]
  },
  {
   "cell_type": "code",
   "execution_count": 7,
   "id": "enabling-finger",
   "metadata": {},
   "outputs": [
    {
     "name": "stdout",
     "output_type": "stream",
     "text": [
      "==================== Simplex Method ====================\n",
      "####################\n",
      "Iteration 1. s2 --> x3\n",
      "--------------------\n",
      "[[-0.5  2.   0.   1.  -0.5  0. ]\n",
      " [ 1.5  0.   1.   0.   0.5  0. ]\n",
      " [ 1.   4.   0.   0.   0.   1. ]] \n",
      "\n",
      "    Basis\n",
      "s1    0.0\n",
      "x3    5.0\n",
      "s3    0.0\n",
      "Solution [  0.   0. 230. 200.   0. 420.] \tZ: 1150.00 \n",
      "\n",
      "####################\n",
      "Iteration 2. s1 --> x2\n",
      "--------------------\n",
      "[[-0.25  1.    0.    0.5  -0.25  0.  ]\n",
      " [ 1.5   0.    1.    0.    0.5   0.  ]\n",
      " [ 2.    0.    0.   -2.    1.    1.  ]] \n",
      "\n",
      "    Basis\n",
      "x2    2.0\n",
      "x3    5.0\n",
      "s3    0.0\n",
      "Solution [  0. 100. 230.   0.   0.  20.] \tZ: 1350.00 \n",
      "\n",
      "####################\n",
      "Optimal solution found in 2 iterations\n",
      "    Solution\n",
      "x1       0.0\n",
      "x2     100.0\n",
      "x3     230.0\n",
      "s1       0.0\n",
      "s2       0.0\n",
      "s3      20.0\n",
      "\n",
      "Optimal Table:\n",
      "     Cb    x1   x2   x3   s1    s2   s3      b\n",
      "x2  2.0 -0.25  1.0  0.0  0.5 -0.25  0.0  100.0\n",
      "x3  5.0  1.50  0.0  1.0  0.0  0.50  0.0  230.0\n",
      "s3  0.0  2.00  0.0  0.0 -2.0  1.00  1.0   20.0\n",
      "\n",
      "Row Base:\n",
      "          x1   x2   x3   s1   s2   s3\n",
      "zj       7.0  2.0  5.0  1.0  2.0  0.0\n",
      "cj - zj -4.0  0.0  0.0 -1.0 -2.0  0.0\n"
     ]
    }
   ],
   "source": [
    "sol1, z1, lastrow11, optitable11 = simplex(matrix=A1,\n",
    "                                        rhs=b1, \n",
    "                                        z=cj1, \n",
    "                                        inequalities=ineq1)"
   ]
  },
  {
   "cell_type": "markdown",
   "id": "chinese-color",
   "metadata": {},
   "source": [
    "## Exercise 02\n",
    "\n",
    "$$ \\max Z = 20x_1 + 10x_2 $$\n",
    "\n",
    "  \\begin{align*}\n",
    "    x_1 + 2x_2   &\\leq 40\\\\[3mm]\n",
    "3x_1 + 2x_2  &\\leq 60\\\\[3mm]\n",
    "    x_1, x_2 &\\geq 0\n",
    "  \\end{align*}\n",
    "  \n",
    "  Find the optimal solution. Also determine the optimal solution if $x_2$-column changes from\n",
    "$\n",
    "\\begin{bmatrix}\n",
    "  2\\\\\n",
    "  2\\\\\n",
    "\\end{bmatrix}\n",
    "$\n",
    "to \n",
    "$\n",
    "\\begin{bmatrix}\n",
    "  2\\\\\n",
    "  1\\\\\n",
    "\\end{bmatrix}\n",
    "$"
   ]
  },
  {
   "cell_type": "code",
   "execution_count": 14,
   "id": "arranged-ratio",
   "metadata": {},
   "outputs": [],
   "source": [
    "cj2 = [20, 10]\n",
    "\n",
    "A2 = np.array([\n",
    "    [1, 2],\n",
    "    [3, 1],\n",
    "])\n",
    "\n",
    "b2 = [40, 60]\n",
    "\n",
    "ineq2 = [\"<=\", \"<=\"]"
   ]
  },
  {
   "cell_type": "code",
   "execution_count": 15,
   "id": "fallen-parliament",
   "metadata": {},
   "outputs": [
    {
     "name": "stdout",
     "output_type": "stream",
     "text": [
      "==================== Simplex Method ====================\n",
      "####################\n",
      "Iteration 1. s2 --> x1\n",
      "--------------------\n",
      "[[ 0.     1.667  1.    -0.333]\n",
      " [ 1.     0.333  0.     0.333]] \n",
      "\n",
      "    Basis\n",
      "s1    0.0\n",
      "x1   20.0\n",
      "Solution [20.  0. 20.  0.] \tZ: 400.00 \n",
      "\n",
      "####################\n",
      "Iteration 2. s1 --> x2\n",
      "--------------------\n",
      "[[ 0.   1.   0.6 -0.2]\n",
      " [ 1.   0.  -0.2  0.4]] \n",
      "\n",
      "    Basis\n",
      "x2   10.0\n",
      "x1   20.0\n",
      "Solution [16. 12.  0.  0.] \tZ: 440.00 \n",
      "\n",
      "####################\n",
      "Optimal solution found in 2 iterations\n",
      "    Solution\n",
      "x1      16.0\n",
      "x2      12.0\n",
      "s1       0.0\n",
      "s2       0.0\n",
      "\n",
      "Optimal Table:\n",
      "      Cb   x1   x2   s1   s2     b\n",
      "x2  10.0  0.0  1.0  0.6 -0.2  12.0\n",
      "x1  20.0  1.0  0.0 -0.2  0.4  16.0\n",
      "\n",
      "Row Base:\n",
      "           x1    x2   s1   s2\n",
      "zj       20.0  10.0  2.0  6.0\n",
      "cj - zj   0.0   0.0 -2.0 -6.0\n"
     ]
    }
   ],
   "source": [
    "sol2, z2, lastrow12, optitable12 = simplex(matrix=A2,\n",
    "                                        rhs=b2, \n",
    "                                        z=cj2, \n",
    "                                        inequalities=ineq2)"
   ]
  }
 ],
 "metadata": {
  "kernelspec": {
   "display_name": "Python 3",
   "language": "python",
   "name": "python3"
  },
  "language_info": {
   "codemirror_mode": {
    "name": "ipython",
    "version": 3
   },
   "file_extension": ".py",
   "mimetype": "text/x-python",
   "name": "python",
   "nbconvert_exporter": "python",
   "pygments_lexer": "ipython3",
   "version": "3.7.3"
  }
 },
 "nbformat": 4,
 "nbformat_minor": 5
}
