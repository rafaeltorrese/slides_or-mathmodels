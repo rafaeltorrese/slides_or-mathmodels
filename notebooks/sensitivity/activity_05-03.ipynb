{
 "cells": [
  {
   "cell_type": "markdown",
   "id": "christian-ownership",
   "metadata": {},
   "source": [
    "# Activity 5.3\n",
    "\n",
    "  $$ \\max Z = 20x_1 + 15x_2 $$\n",
    "\n",
    "  \\begin{align*}\n",
    "    \\frac{x_1}{500} + \\frac{x_2}{700}   &\\leq 1\\\\[3mm]\n",
    "\\frac{x_1}{650} + \\frac{x_2}{330}  &\\leq 1\\\\[3mm]\n",
    "    \\frac{x_1}{450} + \\frac{x_2}{700}   &\\leq 1\\\\[3mm]\n",
    "    x_1, x_2 &\\geq 0\n",
    "  \\end{align*}"
   ]
  },
  {
   "cell_type": "code",
   "execution_count": 1,
   "id": "otherwise-canadian",
   "metadata": {},
   "outputs": [],
   "source": [
    "import numpy as np\n",
    "import pandas as pd\n",
    "np.set_printoptions(precision=3, suppress=True)"
   ]
  },
  {
   "cell_type": "code",
   "execution_count": 2,
   "id": "unexpected-sense",
   "metadata": {},
   "outputs": [],
   "source": [
    "%run \"../auxfunc/algorithms.ipynb\"\n",
    "%run \"../auxfunc/fullmatrix.ipynb\""
   ]
  },
  {
   "cell_type": "code",
   "execution_count": 7,
   "id": "portable-crazy",
   "metadata": {},
   "outputs": [],
   "source": [
    "cj1 = [20, 15]\n",
    "\n",
    "A1 = np.array([\n",
    "    [1/500, 1/700],\n",
    "    [1/650, 1/330],\n",
    "    [1/450, 1/700],\n",
    "])\n",
    "\n",
    "b1 = [1, 1, 1]\n",
    "\n",
    "ineq1 = [\"<=\", \"<=\", \"<=\"]"
   ]
  },
  {
   "cell_type": "code",
   "execution_count": 8,
   "id": "polyphonic-parade",
   "metadata": {},
   "outputs": [],
   "source": [
    "cj2 = [20, 15, 16]\n",
    "\n",
    "A2 = np.array([\n",
    "    [1/500, 1/700, 1/200],\n",
    "    [1/650, 1/330, 1/180],\n",
    "    [1/450, 1/700, 1/120],\n",
    "])\n",
    "\n",
    "b2 = [1, 1, 1]\n",
    "\n",
    "ineq2 = [\"<=\", \"<=\", \"<=\"]"
   ]
  },
  {
   "cell_type": "code",
   "execution_count": 10,
   "id": "enabling-finger",
   "metadata": {},
   "outputs": [
    {
     "name": "stdout",
     "output_type": "stream",
     "text": [
      "==================== Simplex Method ====================\n",
      "####################\n",
      "Iteration 1. s3 --> x1\n",
      "--------------------\n",
      "[[  0.      0.      1.      0.     -0.9  ]\n",
      " [  0.      0.002   0.      1.     -0.692]\n",
      " [  1.      0.643   0.      0.    450.   ]] \n",
      "\n",
      "    Basis\n",
      "s1    0.0\n",
      "s2    0.0\n",
      "x1   20.0\n",
      "Solution [450.      0.      0.1     0.308   0.   ] \tZ: 9000.00 \n",
      "\n",
      "####################\n",
      "Iteration 2. s2 --> x2\n",
      "--------------------\n",
      "[[   0.       0.       1.      -0.07    -0.852]\n",
      " [   0.       1.       0.     489.886 -339.152]\n",
      " [   1.       0.       0.    -314.927  668.026]] \n",
      "\n",
      "    Basis\n",
      "s1    0.0\n",
      "x2   15.0\n",
      "x1   20.0\n",
      "Solution [353.1   150.734   0.078   0.      0.   ] \tZ: 9323.00 \n",
      "\n",
      "####################\n",
      "Optimal solution found in 2 iterations\n",
      "      Solution\n",
      "x1  353.099511\n",
      "x2  150.734095\n",
      "s1    0.078467\n",
      "s2    0.000000\n",
      "s3    0.000000\n",
      "\n",
      "Optimal Table:\n",
      "      Cb   x1   x2   s1          s2          s3           b\n",
      "s1   0.0  0.0  0.0  1.0   -0.069984   -0.851550    0.078467\n",
      "x2  15.0  0.0  1.0  0.0  489.885808 -339.151713  150.734095\n",
      "x1  20.0  1.0  0.0  0.0 -314.926591  668.026101  353.099511\n",
      "\n",
      "Row Base:\n",
      "           x1    x2   s1           s2          s3\n",
      "zj       20.0  15.0  0.0  1049.755302  8273.24633\n",
      "cj - zj   0.0   0.0  0.0 -1049.755302 -8273.24633\n"
     ]
    }
   ],
   "source": [
    "sol1, z1, lastrow11, optitable11 = simplex(matrix=A1,\n",
    "                                        rhs=b1, \n",
    "                                        z=cj1, \n",
    "                                        inequalities=ineq1)"
   ]
  },
  {
   "cell_type": "code",
   "execution_count": 9,
   "id": "fallen-parliament",
   "metadata": {},
   "outputs": [
    {
     "name": "stdout",
     "output_type": "stream",
     "text": [
      "==================== Simplex Method ====================\n",
      "####################\n",
      "Iteration 1. s3 --> x1\n",
      "--------------------\n",
      "[[  0.      0.     -0.002   1.      0.     -0.9  ]\n",
      " [  0.      0.002  -0.      0.      1.     -0.692]\n",
      " [  1.      0.643   3.75    0.      0.    450.   ]] \n",
      "\n",
      "    Basis\n",
      "s1    0.0\n",
      "s2    0.0\n",
      "x1   20.0\n",
      "Solution [450.      0.      0.      0.1     0.308   0.   ] \tZ: 9000.00 \n",
      "\n",
      "####################\n",
      "Iteration 2. s2 --> x2\n",
      "--------------------\n",
      "[[   0.       0.      -0.002    1.      -0.07    -0.852]\n",
      " [   0.       1.      -0.105    0.     489.886 -339.152]\n",
      " [   1.       0.       3.817    0.    -314.927  668.026]] \n",
      "\n",
      "    Basis\n",
      "s1    0.0\n",
      "x2   15.0\n",
      "x1   20.0\n",
      "Solution [353.1   150.734   0.      0.078   0.      0.   ] \tZ: 9323.00 \n",
      "\n",
      "####################\n",
      "Optimal solution found in 2 iterations\n",
      "      Solution\n",
      "x1  353.099511\n",
      "x2  150.734095\n",
      "x3    0.000000\n",
      "s1    0.078467\n",
      "s2    0.000000\n",
      "s3    0.000000\n",
      "\n",
      "Optimal Table:\n",
      "      Cb   x1   x2        x3   s1          s2          s3           b\n",
      "s1   0.0  0.0  0.0 -0.002485  1.0   -0.069984   -0.851550    0.078467\n",
      "x2  15.0  0.0  1.0 -0.104676  0.0  489.885808 -339.151713  150.734095\n",
      "x1  20.0  1.0  0.0  3.817292  0.0 -314.926591  668.026101  353.099511\n",
      "\n",
      "Row Base:\n",
      "           x1    x2         x3   s1           s2          s3\n",
      "zj       20.0  15.0  74.775693  0.0  1049.755302  8273.24633\n",
      "cj - zj   0.0   0.0 -58.775693  0.0 -1049.755302 -8273.24633\n"
     ]
    }
   ],
   "source": [
    "sol2, z2, lastrow12, optitable12 = simplex(matrix=A2,\n",
    "                                        rhs=b2, \n",
    "                                        z=cj2, \n",
    "                                        inequalities=ineq2)"
   ]
  }
 ],
 "metadata": {
  "kernelspec": {
   "display_name": "Python 3",
   "language": "python",
   "name": "python3"
  },
  "language_info": {
   "codemirror_mode": {
    "name": "ipython",
    "version": 3
   },
   "file_extension": ".py",
   "mimetype": "text/x-python",
   "name": "python",
   "nbconvert_exporter": "python",
   "pygments_lexer": "ipython3",
   "version": "3.7.3"
  }
 },
 "nbformat": 4,
 "nbformat_minor": 5
}
