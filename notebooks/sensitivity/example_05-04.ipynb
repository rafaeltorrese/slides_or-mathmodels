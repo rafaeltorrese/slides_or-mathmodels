{
 "cells": [
  {
   "cell_type": "markdown",
   "id": "christian-ownership",
   "metadata": {},
   "source": [
    "# Example 04\n",
    "\n",
    "$$\\max Z = -x_1 + 2x_2 - x_3 $$\n",
    "\n",
    "\\begin{align*}\n",
    "3x_1 + x_2 - x_3 &\\leq 10\\\\\n",
    "-x_1 + 4x_2 + x_3 &\\geq 6\\\\\n",
    "x_2 + x_3& \\leq 4\\\\[5mm]  \n",
    "x_1 , x_2, x_3 &\\geq 0\n",
    "\\end{align*}"
   ]
  },
  {
   "cell_type": "code",
   "execution_count": 1,
   "id": "otherwise-canadian",
   "metadata": {},
   "outputs": [],
   "source": [
    "import numpy as np\n",
    "import pandas as pd\n",
    "np.set_printoptions(precision=3, suppress=True)"
   ]
  },
  {
   "cell_type": "code",
   "execution_count": 2,
   "id": "unexpected-sense",
   "metadata": {},
   "outputs": [],
   "source": [
    "%run \"../auxfunc/algorithms.ipynb\"\n",
    "%run \"../auxfunc/fullmatrix.ipynb\""
   ]
  },
  {
   "cell_type": "code",
   "execution_count": 3,
   "id": "portable-crazy",
   "metadata": {},
   "outputs": [],
   "source": [
    "cj1 = [-1, 2, -1]\n",
    "\n",
    "A1 = np.array([\n",
    "    [3, 1, -1],\n",
    "    [-1, 4, 1],\n",
    "    [0, 1, 1],\n",
    "])\n",
    "\n",
    "b1 = [10, 6, 4]\n",
    "\n",
    "ineq1 = [\"<=\", \">=\", \"<=\"]"
   ]
  },
  {
   "cell_type": "code",
   "execution_count": 4,
   "id": "enabling-finger",
   "metadata": {},
   "outputs": [
    {
     "name": "stdout",
     "output_type": "stream",
     "text": [
      "==================== Simplex Method ====================\n",
      "####################\n",
      "Iteration 1. A2 --> x2\n",
      "--------------------\n",
      "[[ 3.25  0.   -1.25  1.    0.25 -0.25  0.  ]\n",
      " [-0.25  1.    0.25  0.   -0.25  0.25  0.  ]\n",
      " [ 0.25  0.    0.75  0.    0.25 -0.25  1.  ]] \n",
      "\n",
      "    Basis\n",
      "s1    0.0\n",
      "x2    2.0\n",
      "s3    0.0\n",
      "Solution [0.  1.5 0.  8.5 0.  0.  2.5] \tZ: 3.00 \n",
      "\n",
      "####################\n",
      "Iteration 2. s3 --> s2\n",
      "--------------------\n",
      "[[ 3.  0. -2.  1.  0.  0. -1.]\n",
      " [ 0.  1.  1.  0.  0.  0.  1.]\n",
      " [ 1.  0.  3.  0.  1. -1.  4.]] \n",
      "\n",
      "    Basis\n",
      "s1    0.0\n",
      "x2    2.0\n",
      "s2    0.0\n",
      "Solution [ 0.  4.  0.  6. 10.  0.  0.] \tZ: 8.00 \n",
      "\n",
      "####################\n",
      "Optimal solution found in 2 iterations\n",
      "    Solution\n",
      "x1       0.0\n",
      "x2       4.0\n",
      "x3       0.0\n",
      "s1       6.0\n",
      "s2      10.0\n",
      "A2       0.0\n",
      "s3       0.0\n",
      "\n",
      "Optimal Table:\n",
      "     Cb   x1   x2   x3   s1   s2   A2   s3     b\n",
      "s1  0.0  3.0  0.0 -2.0  1.0  0.0  0.0 -1.0   6.0\n",
      "x2  2.0  0.0  1.0  1.0  0.0  0.0  0.0  1.0   4.0\n",
      "s2  0.0  1.0  0.0  3.0  0.0  1.0 -1.0  4.0  10.0\n",
      "\n",
      "Row Base:\n",
      "          x1   x2   x3   s1   s2      A2   s3\n",
      "zj       0.0  2.0  2.0  0.0  0.0     0.0  2.0\n",
      "cj - zj -1.0  0.0 -3.0  0.0  0.0 -1000.0 -2.0\n"
     ]
    }
   ],
   "source": [
    "sol1, z1, lastrow11, optitable11 = simplex(matrix=A1,\n",
    "                                        rhs=b1, \n",
    "                                        z=cj1, \n",
    "                                        inequalities=ineq1)"
   ]
  },
  {
   "cell_type": "code",
   "execution_count": null,
   "id": "trained-assignment",
   "metadata": {},
   "outputs": [],
   "source": []
  }
 ],
 "metadata": {
  "kernelspec": {
   "display_name": "Python 3",
   "language": "python",
   "name": "python3"
  },
  "language_info": {
   "codemirror_mode": {
    "name": "ipython",
    "version": 3
   },
   "file_extension": ".py",
   "mimetype": "text/x-python",
   "name": "python",
   "nbconvert_exporter": "python",
   "pygments_lexer": "ipython3",
   "version": "3.7.3"
  }
 },
 "nbformat": 4,
 "nbformat_minor": 5
}
