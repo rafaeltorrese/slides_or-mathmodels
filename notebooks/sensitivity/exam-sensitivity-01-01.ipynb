{
 "cells": [
  {
   "cell_type": "markdown",
   "id": "israeli-adaptation",
   "metadata": {},
   "source": [
    "# Sensitivity Analysis Exam 01-01"
   ]
  },
  {
   "cell_type": "markdown",
   "id": "christian-ownership",
   "metadata": {},
   "source": [
    "## Exercise 01\n",
    "\n",
    "Solve the problem\n",
    "\n",
    "$$ \\max Z = x_1 + 1.5x_2$$\n",
    "\n",
    "  \\begin{align*}\n",
    "    2x_1 + 2x_2 &\\leq 160\\\\\n",
    "    x_1 + 2x_2 &\\leq 120\\\\\n",
    "    4x_1 + 2x_2 &\\leq 280\\\\[3mm]\n",
    "    x_1, x_2 &\\geq 0\n",
    "  \\end{align*}\n",
    "  \n",
    "1. Cuáles son los valores de la ganancia de $x_2$ que mantendrán óptima a la solución.\n",
    "2. Determinar el rango óptimo par $c_1$\n",
    "  \n"
   ]
  },
  {
   "cell_type": "code",
   "execution_count": 2,
   "id": "otherwise-canadian",
   "metadata": {},
   "outputs": [],
   "source": [
    "import numpy as np\n",
    "import pandas as pd\n",
    "np.set_printoptions(precision=3, suppress=True)"
   ]
  },
  {
   "cell_type": "code",
   "execution_count": 3,
   "id": "unexpected-sense",
   "metadata": {},
   "outputs": [],
   "source": [
    "%run \"../auxfunc/algorithms.ipynb\"\n",
    "%run \"../auxfunc/fullmatrix.ipynb\""
   ]
  },
  {
   "cell_type": "code",
   "execution_count": 10,
   "id": "portable-crazy",
   "metadata": {},
   "outputs": [],
   "source": [
    "cj1 = [1, 1.5]\n",
    "\n",
    "A1 = np.array([\n",
    "    [2, 2],\n",
    "    [1, 2],\n",
    "    [4, 2],\n",
    "])\n",
    "\n",
    "b1 = [160, 120, 280]\n",
    "\n",
    "ineq1 = [\"<=\", \"<=\", \"<=\" ]"
   ]
  },
  {
   "cell_type": "code",
   "execution_count": 11,
   "id": "enabling-finger",
   "metadata": {},
   "outputs": [
    {
     "name": "stdout",
     "output_type": "stream",
     "text": [
      "==================== Simplex Method ====================\n",
      "####################\n",
      "Iteration 1. s2 --> x2\n",
      "--------------------\n",
      "[[ 1.   0.   1.  -1.   0. ]\n",
      " [ 0.5  1.   0.   0.5  0. ]\n",
      " [ 3.   0.   0.  -1.   1. ]] \n",
      "\n",
      "    Basis\n",
      "s1    0.0\n",
      "x2    1.5\n",
      "s3    0.0\n",
      "Solution [  0.  60.  40.   0. 160.] \tZ: 90.00 \n",
      "\n",
      "####################\n",
      "Iteration 2. s1 --> x1\n",
      "--------------------\n",
      "[[ 1.   0.   1.  -1.   0. ]\n",
      " [ 0.   1.  -0.5  1.   0. ]\n",
      " [ 0.   0.  -3.   2.   1. ]] \n",
      "\n",
      "    Basis\n",
      "x1    1.0\n",
      "x2    1.5\n",
      "s3    0.0\n",
      "Solution [40. 40.  0.  0. 40.] \tZ: 100.00 \n",
      "\n",
      "####################\n",
      "Optimal solution found in 2 iterations\n",
      "    Solution\n",
      "x1      40.0\n",
      "x2      40.0\n",
      "s1       0.0\n",
      "s2       0.0\n",
      "s3      40.0\n",
      "\n",
      "Optimal Table:\n",
      "     Cb   x1   x2   s1   s2   s3     b\n",
      "x1  1.0  1.0  0.0  1.0 -1.0  0.0  40.0\n",
      "x2  1.5  0.0  1.0 -0.5  1.0  0.0  40.0\n",
      "s3  0.0  0.0  0.0 -3.0  2.0  1.0  40.0\n",
      "\n",
      "Row Base:\n",
      "          x1   x2    s1   s2   s3\n",
      "zj       1.0  1.5  0.25  0.5  0.0\n",
      "cj - zj  0.0  0.0 -0.25 -0.5  0.0\n"
     ]
    }
   ],
   "source": [
    "sol1, z1, lastrow11, optitable11 = simplex(matrix=A1,\n",
    "                                        rhs=b1, \n",
    "                                        z=cj1, \n",
    "                                        inequalities=ineq1,\n",
    "                                        vlabel=\"x\")"
   ]
  },
  {
   "cell_type": "markdown",
   "id": "super-occurrence",
   "metadata": {},
   "source": [
    "## Exercise 02\n",
    "\n",
    "Resolver el siguiente problema de programación lineal y contestar lo que se pide\n",
    "\n",
    "$$ \\max Z = 3x_1 + x_2$$\n",
    "\n",
    "  \\begin{align*}\n",
    "    x_1 + x_2 & \\leq 6\\\\\n",
    "    2x_1 + 3x_2 & \\leq 8\\\\[4mm]\n",
    "  \\end{align*}\n",
    "  \n",
    "Si los coeficientes de la restricciones para $x_2$ cambian de $\n",
    "  \\begin{bmatrix}\n",
    "    1\\\\\n",
    "    3\n",
    "  \\end{bmatrix}\n",
    "$ a $\n",
    "  \\begin{bmatrix}\n",
    "    2\\\\\n",
    "    0\n",
    "  \\end{bmatrix}\n",
    "$, encontrar la nueva solución óptima.\n",
    "  \n"
   ]
  },
  {
   "cell_type": "code",
   "execution_count": 8,
   "id": "exempt-wildlife",
   "metadata": {},
   "outputs": [],
   "source": [
    "cj2 = [3, 1]\n",
    "\n",
    "A2 = np.array([\n",
    "    [1, 1],\n",
    "    [2, 3],\n",
    "])\n",
    "\n",
    "b2 = [6, 8]\n",
    "\n",
    "ineq2 = [\"<=\", \"<=\"]"
   ]
  },
  {
   "cell_type": "code",
   "execution_count": 9,
   "id": "personal-cyprus",
   "metadata": {},
   "outputs": [
    {
     "name": "stdout",
     "output_type": "stream",
     "text": [
      "==================== Simplex Method ====================\n",
      "####################\n",
      "Iteration 1. s2 --> x1\n",
      "--------------------\n",
      "[[ 0.  -0.5  1.  -0.5]\n",
      " [ 1.   1.5  0.   0.5]] \n",
      "\n",
      "    Basis\n",
      "s1    0.0\n",
      "x1    3.0\n",
      "Solution [4. 0. 2. 0.] \tZ: 12.00 \n",
      "\n",
      "####################\n",
      "Optimal solution found in 1 iterations\n",
      "    Solution\n",
      "x1       4.0\n",
      "x2       0.0\n",
      "s1       2.0\n",
      "s2       0.0\n",
      "\n",
      "Optimal Table:\n",
      "     Cb   x1   x2   s1   s2    b\n",
      "s1  0.0  0.0 -0.5  1.0 -0.5  2.0\n",
      "x1  3.0  1.0  1.5  0.0  0.5  4.0\n",
      "\n",
      "Row Base:\n",
      "          x1   x2   s1   s2\n",
      "zj       3.0  4.5  0.0  1.5\n",
      "cj - zj  0.0 -3.5  0.0 -1.5\n"
     ]
    }
   ],
   "source": [
    "sol1, z1, lastrow11, optitable11 = simplex(matrix=A2,\n",
    "                                        rhs=b2, \n",
    "                                        z=cj2, \n",
    "                                        inequalities=ineq2,\n",
    "                                        vlabel=\"x\")"
   ]
  }
 ],
 "metadata": {
  "kernelspec": {
   "display_name": "Python 3",
   "language": "python",
   "name": "python3"
  },
  "language_info": {
   "codemirror_mode": {
    "name": "ipython",
    "version": 3
   },
   "file_extension": ".py",
   "mimetype": "text/x-python",
   "name": "python",
   "nbconvert_exporter": "python",
   "pygments_lexer": "ipython3",
   "version": "3.7.3"
  }
 },
 "nbformat": 4,
 "nbformat_minor": 5
}
