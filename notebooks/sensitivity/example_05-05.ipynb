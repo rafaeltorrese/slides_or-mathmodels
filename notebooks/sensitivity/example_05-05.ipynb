{
 "cells": [
  {
   "cell_type": "markdown",
   "id": "christian-ownership",
   "metadata": {},
   "source": [
    "# Example 05\n",
    "\n",
    "$$\\max Z = 3x_1 + 5x_2 + 4x_3 $$\n",
    "\n",
    "\\begin{align*}\n",
    "2x_1 + 3x_2 &\\leq 8\\\\\n",
    " 2x_2 + 5x_3 &\\leq 10\\\\\n",
    "3x_1 + 2x_2 + 4x_3& \\leq 15\\\\[5mm]  \n",
    "x_1 , x_2, x_3 &\\geq 0\n",
    "\\end{align*}"
   ]
  },
  {
   "cell_type": "code",
   "execution_count": 1,
   "id": "otherwise-canadian",
   "metadata": {},
   "outputs": [],
   "source": [
    "import numpy as np\n",
    "import pandas as pd\n",
    "np.set_printoptions(precision=3, suppress=True)"
   ]
  },
  {
   "cell_type": "code",
   "execution_count": 2,
   "id": "unexpected-sense",
   "metadata": {},
   "outputs": [],
   "source": [
    "%run \"../auxfunc/algorithms.ipynb\"\n",
    "%run \"../auxfunc/fullmatrix.ipynb\""
   ]
  },
  {
   "cell_type": "code",
   "execution_count": 3,
   "id": "portable-crazy",
   "metadata": {},
   "outputs": [],
   "source": [
    "cj1 = [3, 5, 4]\n",
    "\n",
    "A1 = np.array([\n",
    "    [2, 3, 0],\n",
    "    [0, 2, 5],\n",
    "    [3, 2, 4],\n",
    "])\n",
    "\n",
    "b1 = [8, 10, 15]\n",
    "\n",
    "ineq1 = [\"<=\", \"<=\", \"<=\"]"
   ]
  },
  {
   "cell_type": "code",
   "execution_count": 4,
   "id": "enabling-finger",
   "metadata": {},
   "outputs": [
    {
     "name": "stdout",
     "output_type": "stream",
     "text": [
      "==================== Simplex Method ====================\n",
      "####################\n",
      "Iteration 1. s1 --> x2\n",
      "--------------------\n",
      "[[ 0.667  1.     0.     0.333  0.     0.   ]\n",
      " [-1.333  0.     5.    -0.667  1.     0.   ]\n",
      " [ 1.667  0.     4.    -0.667  0.     1.   ]] \n",
      "\n",
      "    Basis\n",
      "x2    5.0\n",
      "s2    0.0\n",
      "s3    0.0\n",
      "Solution [0.    2.667 0.    0.    4.667 9.667] \tZ: 13.33 \n",
      "\n",
      "####################\n",
      "Iteration 2. s2 --> x3\n",
      "--------------------\n",
      "[[ 0.667  1.     0.     0.333  0.     0.   ]\n",
      " [-0.267  0.     1.    -0.133  0.2    0.   ]\n",
      " [ 2.733  0.     0.    -0.133 -0.8    1.   ]] \n",
      "\n",
      "    Basis\n",
      "x2    5.0\n",
      "x3    4.0\n",
      "s3    0.0\n",
      "Solution [0.    2.667 0.933 0.    0.    5.933] \tZ: 17.07 \n",
      "\n",
      "####################\n",
      "Iteration 3. s3 --> x1\n",
      "--------------------\n",
      "[[ 0.     1.     0.     0.366  0.195 -0.244]\n",
      " [ 0.     0.     1.    -0.146  0.122  0.098]\n",
      " [ 1.     0.     0.    -0.049 -0.293  0.366]] \n",
      "\n",
      "    Basis\n",
      "x2    5.0\n",
      "x3    4.0\n",
      "x1    3.0\n",
      "Solution [2.171 1.22  1.512 0.    0.    0.   ] \tZ: 18.66 \n",
      "\n",
      "####################\n",
      "Optimal solution found in 3 iterations\n",
      "    Solution\n",
      "x1  2.170732\n",
      "x2  1.219512\n",
      "x3  1.512195\n",
      "s1  0.000000\n",
      "s2  0.000000\n",
      "s3  0.000000\n",
      "\n",
      "Optimal Table:\n",
      "     Cb   x1   x2   x3        s1        s2        s3         b\n",
      "x2  5.0  0.0  1.0  0.0  0.365854  0.195122 -0.243902  1.219512\n",
      "x3  4.0  0.0  0.0  1.0 -0.146341  0.121951  0.097561  1.512195\n",
      "x1  3.0  1.0  0.0  0.0 -0.048780 -0.292683  0.365854  2.170732\n",
      "\n",
      "Row Base:\n",
      "          x1   x2   x3        s1        s2        s3\n",
      "zj       3.0  5.0  4.0  1.097561  0.585366  0.268293\n",
      "cj - zj  0.0  0.0  0.0 -1.097561 -0.585366 -0.268293\n"
     ]
    }
   ],
   "source": [
    "sol1, z1, lastrow11, optitable11 = simplex(matrix=A1,\n",
    "                                        rhs=b1, \n",
    "                                        z=cj1, \n",
    "                                        inequalities=ineq1)"
   ]
  }
 ],
 "metadata": {
  "kernelspec": {
   "display_name": "Python 3",
   "language": "python",
   "name": "python3"
  },
  "language_info": {
   "codemirror_mode": {
    "name": "ipython",
    "version": 3
   },
   "file_extension": ".py",
   "mimetype": "text/x-python",
   "name": "python",
   "nbconvert_exporter": "python",
   "pygments_lexer": "ipython3",
   "version": "3.7.3"
  }
 },
 "nbformat": 4,
 "nbformat_minor": 5
}
