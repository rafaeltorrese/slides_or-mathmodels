{
 "cells": [
  {
   "cell_type": "markdown",
   "id": "christian-ownership",
   "metadata": {},
   "source": [
    "# Example 07\n",
    "\n",
    "$$\\max Z = 45x_1 + 100x_2 + 30x_3 + 50x_4 $$\n",
    "\n",
    "\\begin{align*}\n",
    "7x_1 + 10x_2 + 4x_3 + 9x_4 &\\leq 1200\\\\\n",
    "3x_1 + 40x_2 + x_3 + x_4 &\\leq 800\\\\\\\\[5mm]  \n",
    "x_1 , x_2, x_3, x_4 &\\geq 0\n",
    "\\end{align*}"
   ]
  },
  {
   "cell_type": "code",
   "execution_count": 1,
   "id": "otherwise-canadian",
   "metadata": {},
   "outputs": [],
   "source": [
    "import numpy as np\n",
    "import pandas as pd\n",
    "np.set_printoptions(precision=3, suppress=True)"
   ]
  },
  {
   "cell_type": "code",
   "execution_count": 2,
   "id": "unexpected-sense",
   "metadata": {},
   "outputs": [],
   "source": [
    "%run \"../auxfunc/algorithms.ipynb\"\n",
    "%run \"../auxfunc/fullmatrix.ipynb\""
   ]
  },
  {
   "cell_type": "code",
   "execution_count": 3,
   "id": "portable-crazy",
   "metadata": {},
   "outputs": [],
   "source": [
    "cj1 = [45, 100, 30, 50]\n",
    "\n",
    "A1 = np.array([\n",
    "    [7, 10, 4, 9],\n",
    "    [3, 40, 1, 1],\n",
    "])\n",
    "\n",
    "b1 = [1200, 800]\n",
    "\n",
    "ineq1 = [\"<=\", \"<=\"]"
   ]
  },
  {
   "cell_type": "code",
   "execution_count": 4,
   "id": "enabling-finger",
   "metadata": {},
   "outputs": [
    {
     "name": "stdout",
     "output_type": "stream",
     "text": [
      "==================== Simplex Method ====================\n",
      "####################\n",
      "Iteration 1. s2 --> x2\n",
      "--------------------\n",
      "[[ 6.25   0.     3.75   8.75   1.    -0.25 ]\n",
      " [ 0.075  1.     0.025  0.025  0.     0.025]] \n",
      "\n",
      "    Basis\n",
      "s1    0.0\n",
      "x2  100.0\n",
      "Solution [   0.   20.    0.    0. 1000.    0.] \tZ: 2000.00 \n",
      "\n",
      "####################\n",
      "Iteration 2. s1 --> x4\n",
      "--------------------\n",
      "[[ 0.714  0.     0.429  1.     0.114 -0.029]\n",
      " [ 0.057  1.     0.014  0.    -0.003  0.026]] \n",
      "\n",
      "    Basis\n",
      "x4   50.0\n",
      "x2  100.0\n",
      "Solution [  0.     17.143   0.    114.286   0.      0.   ] \tZ: 7428.57 \n",
      "\n",
      "####################\n",
      "Iteration 3. x4 --> x3\n",
      "--------------------\n",
      "[[ 1.667  0.     1.     2.333  0.267 -0.067]\n",
      " [ 0.033  1.     0.    -0.033 -0.007  0.027]] \n",
      "\n",
      "    Basis\n",
      "x3   30.0\n",
      "x2  100.0\n",
      "Solution [  0.     13.333 266.667   0.      0.      0.   ] \tZ: 9333.33 \n",
      "\n",
      "####################\n",
      "Optimal solution found in 3 iterations\n",
      "      Solution\n",
      "x1    0.000000\n",
      "x2   13.333333\n",
      "x3  266.666667\n",
      "x4    0.000000\n",
      "s1    0.000000\n",
      "s2    0.000000\n",
      "\n",
      "Optimal Table:\n",
      "       Cb        x1   x2   x3        x4        s1        s2           b\n",
      "x3   30.0  1.666667  0.0  1.0  2.333333  0.266667 -0.066667  266.666667\n",
      "x2  100.0  0.033333  1.0  0.0 -0.033333 -0.006667  0.026667   13.333333\n",
      "\n",
      "Row Base:\n",
      "                x1     x2    x3         x4        s1        s2\n",
      "zj       53.333333  100.0  30.0  66.666667  7.333333  0.666667\n",
      "cj - zj  -8.333333    0.0   0.0 -16.666667 -7.333333 -0.666667\n"
     ]
    }
   ],
   "source": [
    "sol1, z1, lastrow11, optitable11 = simplex(matrix=A1,\n",
    "                                        rhs=b1, \n",
    "                                        z=cj1, \n",
    "                                        inequalities=ineq1)"
   ]
  }
 ],
 "metadata": {
  "kernelspec": {
   "display_name": "Python 3",
   "language": "python",
   "name": "python3"
  },
  "language_info": {
   "codemirror_mode": {
    "name": "ipython",
    "version": 3
   },
   "file_extension": ".py",
   "mimetype": "text/x-python",
   "name": "python",
   "nbconvert_exporter": "python",
   "pygments_lexer": "ipython3",
   "version": "3.7.3"
  }
 },
 "nbformat": 4,
 "nbformat_minor": 5
}
