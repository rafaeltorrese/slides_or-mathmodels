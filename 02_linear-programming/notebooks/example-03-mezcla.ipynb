{
 "cells": [
  {
   "cell_type": "markdown",
   "id": "39d76b10",
   "metadata": {},
   "source": [
    "# Ejemplo 03\n",
    "Una empresa produce una aleación que tiene las siguientes especificaciones:\n",
    "\n",
    "1. gravedad específica $\\leq$ 0.98,\n",
    "1. cromo $\\geq$ 8%,\n",
    "1. punto de fusión $\\geq$ 450 °C.\n",
    "\n",
    "Las materias primas A, B y C que tienen las propiedades que se muestran en la tabla pueden usarse para hacer la aleación.\n",
    "\n",
    "| Property         | $A$                               | $B$  | $C$  |\n",
    "| -----| -----| -----| -----|\n",
    "| Specific gravity | 0.92                              | 0.97 | 1.04 |\n",
    "| Chromium \\%      | 7                                 | 13   | 16   |\n",
    "| Melting point °C | 440                               | 490  | 480  |\n",
    "\n",
    "Los costos de las diversas materias primas por tonelada son: \\\\$90 para A, \\\\$ 280 para B y \\\\$ 40 para C. Formule el modelo L.P. para encontrar las proporciones en las que se utilizarán A, B y C para obtener una aleación de las propiedades deseadas, mientras que el costo de las materias primas es mínimo."
   ]
  },
  {
   "cell_type": "markdown",
   "id": "da26acac",
   "metadata": {},
   "source": [
    "## Modelo"
   ]
  }
 ],
 "metadata": {
  "kernelspec": {
   "display_name": "optimization",
   "language": "python",
   "name": "optimization"
  },
  "language_info": {
   "codemirror_mode": {
    "name": "ipython",
    "version": 3
   },
   "file_extension": ".py",
   "mimetype": "text/x-python",
   "name": "python",
   "nbconvert_exporter": "python",
   "pygments_lexer": "ipython3",
   "version": "3.8.5"
  }
 },
 "nbformat": 4,
 "nbformat_minor": 5
}
