{
 "cells": [
  {
   "cell_type": "markdown",
   "id": "62f7cb55",
   "metadata": {},
   "source": [
    "# Ejemplo 2.1-1 (La compañía Reddy Mikks)\n",
    "\n",
    "Reddy Mikks produce pinturas para interiores y exteriores con dos materias primas, $M_1$ y $M_2$. La tabla siguiente proporciona los datos básicos del problema\n",
    "\n",
    "\n",
    "Una encuesta de mercado indica que la demanda diaria de pintura para interiores no puede exceder la de pintura para exteriores en más de una tonelada. Asimismo, que la demanda diaria máxima de pintura para interiores es de dos toneladas.\n",
    "\n",
    "Reddy Mikks se propone determinar la (mejor) combinación óptima de pinturas para interiores y exteriores que maximice la utilidad diaria total.\n",
    "\n",
    "Todos los modelos de IO, incluido el de PL, constan de tres componentes básicos.\n",
    "\n",
    "1. Las variables de decisión que pretendemos determinar.\n",
    "2. El objetivo (la meta) que necesitamos optimizar (maximizar o minimizar).\n",
    "3. Las restricciones que la solución debe satisfacer."
   ]
  },
  {
   "cell_type": "markdown",
   "id": "95c33789",
   "metadata": {},
   "source": [
    "1. Para el modelo de Reddy Mikks, defina las siguientes restricciones y expréselas con un lado izquierdo lineal y un lado derecho constante:\n",
    "\n",
    "- (a) La demanda diaria de pintura para interiores supera la de pintura para exteriores por al menos una tonelada.\n",
    "- (b) El consumo diario de materia prima M2 en toneladas es cuando mucho de 6 y por lo menos de 3.\n",
    "- (c) La demanda de pintura para interiores no puede ser menor que la demanda de pintura para exteriores.\n",
    "- (d) La cantidad mínima de pintura que debe producirse tanto para interiores como para exteriores es de 3 toneladas.\n",
    "- (e) La proporción de pintura para interiores respecto de la producción total de pintura para interiores y exteriores no debe exceder de 5."
   ]
  },
  {
   "cell_type": "code",
   "execution_count": null,
   "id": "b9edf43c",
   "metadata": {},
   "outputs": [],
   "source": []
  },
  {
   "cell_type": "markdown",
   "id": "51bf8317",
   "metadata": {},
   "source": [
    "2. Determine la mejor solución factible entre las siguientes soluciones (factibles y no factibles) del modelo de Reddy Mikks:\n",
    "* (a) $x_1 = 1, x_2 = 4$\n",
    "* (b) $x_1 = 2, x_2 = 2$\n",
    "* (c) $x_1 = 3, x_2 = 1.5$\n",
    "* (d) $x_1 = 2, x_2 = 1$\n",
    "* (e) $x_1 = 2, x_2 = -1$"
   ]
  },
  {
   "cell_type": "code",
   "execution_count": null,
   "id": "da885b58",
   "metadata": {},
   "outputs": [],
   "source": []
  },
  {
   "cell_type": "markdown",
   "id": "72af8cd2",
   "metadata": {},
   "source": [
    "3. Para la solución factible $x_1 = 2$, $x_2 = 2$ del modelo de Reddy Mikks, determine las cantidades no usadas de las materias primas $M_1$ y $M_2$."
   ]
  },
  {
   "cell_type": "code",
   "execution_count": null,
   "id": "07850845",
   "metadata": {},
   "outputs": [],
   "source": []
  },
  {
   "cell_type": "markdown",
   "id": "0a46eec9",
   "metadata": {},
   "source": [
    "4. Suponga que Reddy Mikks vende su pintura para exteriores a un solo mayorista con un descuento. La utilidad por tonelada es de $5000 si el contratista compra no más de 2 toneladas diarias, y de $4500 en los demás casos. Exprese matemáticamente la función objetivo. ¿Es lineal la función resultante?"
   ]
  },
  {
   "cell_type": "code",
   "execution_count": null,
   "id": "3a857683",
   "metadata": {},
   "outputs": [],
   "source": []
  }
 ],
 "metadata": {
  "kernelspec": {
   "display_name": "Python 3 (ipykernel)",
   "language": "python",
   "name": "python3"
  },
  "language_info": {
   "codemirror_mode": {
    "name": "ipython",
    "version": 3
   },
   "file_extension": ".py",
   "mimetype": "text/x-python",
   "name": "python",
   "nbconvert_exporter": "python",
   "pygments_lexer": "ipython3",
   "version": "3.10.9"
  }
 },
 "nbformat": 4,
 "nbformat_minor": 5
}
