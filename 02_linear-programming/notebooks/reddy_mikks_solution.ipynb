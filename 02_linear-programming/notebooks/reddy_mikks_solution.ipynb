{
  "cells": [
    {
      "cell_type": "markdown",
      "id": "62f7cb55",
      "metadata": {
        "id": "62f7cb55"
      },
      "source": [
        "# Ejemplo 2.1-1 (La compañía Reddy Mikks)\n",
        "\n",
        "Reddy Mikks produce pinturas para interiores y exteriores con dos materias primas, $M_1$ y $M_2$. La tabla siguiente proporciona los datos básicos del problema\n",
        "\n",
        "\n",
        "Una encuesta de mercado indica que la demanda diaria de pintura para interiores no puede exceder la de pintura para exteriores en más de una tonelada. Asimismo, que la demanda diaria máxima de pintura para interiores es de dos toneladas.\n",
        "\n",
        "Reddy Mikks se propone determinar la (mejor) combinación óptima de pinturas para interiores y exteriores que maximice la utilidad diaria total.\n",
        "\n",
        "Todos los modelos de IO, incluido el de PL, constan de tres componentes básicos.\n",
        "\n",
        "1. Las variables de decisión que pretendemos determinar.\n",
        "2. El objetivo (la meta) que necesitamos optimizar (maximizar o minimizar).\n",
        "3. Las restricciones que la solución debe satisfacer.\n",
        "\n",
        "$$\\max Z = 5x_1 + 4x_2$$\n",
        "<br>\n",
        "\\begin{align*}\n",
        "6x_1 + 4x_2 & \\leq 24\\\\\n",
        "x_1 + 2x_2 & \\leq 6\\\\\n",
        "-x_1 + x_2 & \\leq 1\\\\\n",
        "x_2 & \\leq 2\\\\[5mm]\n",
        "x_1, x_2 & \\geq 0\n",
        "\\end{align*}"
      ]
    },
    {
      "cell_type": "markdown",
      "id": "95c33789",
      "metadata": {
        "id": "95c33789"
      },
      "source": [
        "1. Para el modelo de Reddy Mikks, defina las siguientes restricciones y expréselas con un lado izquierdo lineal y un lado derecho constante:\n",
        "\n",
        "- (a) La demanda diaria de pintura para interiores supera la de pintura para exteriores por al menos una tonelada.\n",
        "\n",
        "$$x_2 - x_1 \\geq 1$$\n",
        "\n",
        "- (b) El consumo diario de materia prima M2 en toneladas es cuando mucho de 6 y por lo menos de 3.\n",
        "\n",
        "\\begin{align*}\n",
        "x_1 + 2x_2 & \\leq 6 \\\\\n",
        "x_1 + 2x_2 & \\geq 3 \\\\\n",
        "\\end{align*}\n",
        "\n",
        "- (c) La demanda de pintura para interiores no puede ser menor que la demanda de pintura para exteriores.\n",
        "\n",
        "$$x_2 - x_1 \\geq 0$$\n",
        "\n",
        "- (d) La cantidad mínima de pintura que debe producirse tanto para interiores como para exteriores es de 3 toneladas.\n",
        "\n",
        "\\begin{align*}\n",
        "x_1  & \\geq 3 \\\\\n",
        "x_2 & \\geq 3 \\\\\n",
        "\\end{align*}\n",
        "\n",
        "- (e) La proporción de pintura para interiores respecto de la producción total de pintura para interiores y exteriores no debe exceder de 5.\n",
        "\n",
        "$$\\frac{x_2}{x_1 + x_2}   \\leq 5$$\n",
        "\n",
        "Despejando para que la expresión sea lineal:\n",
        "\n",
        "\\begin{align*}\n",
        "x_2  & \\leq 5(x_1 + x_2) \\\\[3mm]\n",
        "x_2  & \\leq 5x_1 + 5x_2 \\\\\n",
        "0  & \\leq 5x_1 + 5x_2 - x_2 \\\\[3mm]\n",
        "0  & \\leq 5x_1 + 4x_2 \\\\\n",
        "\\end{align*}\n",
        "\n",
        "La expresión lineal es $$5x_1 + 4x_2  \\geq 0$$"
      ]
    },
    {
      "cell_type": "code",
      "source": [
        "for letter in 'a b c d d'.split() : print(f'solution_{letter} = np.array([])')"
      ],
      "metadata": {
        "colab": {
          "base_uri": "https://localhost:8080/"
        },
        "id": "jSVOEevBTWNH",
        "outputId": "9a8ab033-8e97-4af5-8256-8329f59cbcbf"
      },
      "id": "jSVOEevBTWNH",
      "execution_count": 5,
      "outputs": [
        {
          "output_type": "stream",
          "name": "stdout",
          "text": [
            "solution_a = np.array([])\n",
            "solution_b = np.array([])\n",
            "solution_c = np.array([])\n",
            "solution_d = np.array([])\n",
            "solution_d = np.array([])\n"
          ]
        }
      ]
    },
    {
      "cell_type": "markdown",
      "id": "51bf8317",
      "metadata": {
        "id": "51bf8317"
      },
      "source": [
        "2. Determine la mejor solución factible entre las siguientes soluciones (factibles y no factibles) del modelo de Reddy Mikks:\n",
        "* (a) $x_1 = 1, x_2 = 4$\n",
        "* (b) $x_1 = 2, x_2 = 2$\n",
        "* (c) $x_1 = 3, x_2 = 1.5$\n",
        "* (d) $x_1 = 2, x_2 = 1$\n",
        "* (e) $x_1 = 2, x_2 = -1$"
      ]
    },
    {
      "cell_type": "code",
      "source": [
        "import numpy as np"
      ],
      "metadata": {
        "id": "16dKcoFdT0T8"
      },
      "id": "16dKcoFdT0T8",
      "execution_count": null,
      "outputs": []
    },
    {
      "cell_type": "code",
      "execution_count": 28,
      "id": "da885b58",
      "metadata": {
        "id": "da885b58"
      },
      "outputs": [],
      "source": [
        "solutions = {\n",
        "    'a': np.array([1, 4]),\n",
        "    'b': np.array([2, 2]),\n",
        "    'c': np.array([3, 1.5]),\n",
        "    'd': np.array([2, 1]),\n",
        "    # 'e': np.array([2, -1]),  # infeasible soluition\n",
        "}"
      ]
    },
    {
      "cell_type": "code",
      "source": [
        "objective_coefficients = np.array([5, 4])\n",
        "\n",
        "coefficients_constraints = np.array([\n",
        "    [6, 4],\n",
        "    [1, 2],\n",
        "    [-1, 1],\n",
        "    [0, 1],\n",
        "])\n",
        "\n",
        "right_hand_values = np.array([24, 6, 1, 2])"
      ],
      "metadata": {
        "id": "aW5vz0HMUBfA"
      },
      "id": "aW5vz0HMUBfA",
      "execution_count": 39,
      "outputs": []
    },
    {
      "cell_type": "code",
      "source": [
        "def constraints_evaluation(solution, matrix):\n",
        "    return np.array([solution.dot(constraint) for constraint in matrix])"
      ],
      "metadata": {
        "id": "tYlEqe8OVJyZ"
      },
      "id": "tYlEqe8OVJyZ",
      "execution_count": 40,
      "outputs": []
    },
    {
      "cell_type": "code",
      "source": [
        "left_hand_values = {\n",
        "    'a': constraints_evaluation(solutions['a'], coefficients_constraints),\n",
        "    'b': constraints_evaluation(solutions['b'], coefficients_constraints),\n",
        "    'c': constraints_evaluation(solutions['c'], coefficients_constraints),\n",
        "    'd': constraints_evaluation(solutions['d'], coefficients_constraints),\n",
        "}"
      ],
      "metadata": {
        "id": "Aij32QIuVBFU"
      },
      "id": "Aij32QIuVBFU",
      "execution_count": 41,
      "outputs": []
    },
    {
      "cell_type": "code",
      "source": [
        "left_hand_values['a']"
      ],
      "metadata": {
        "colab": {
          "base_uri": "https://localhost:8080/"
        },
        "id": "Bplle319bh-F",
        "outputId": "5ceb48fe-50d7-4697-dda0-70466c96bece"
      },
      "id": "Bplle319bh-F",
      "execution_count": 42,
      "outputs": [
        {
          "output_type": "execute_result",
          "data": {
            "text/plain": [
              "array([22,  9,  3,  4])"
            ]
          },
          "metadata": {},
          "execution_count": 42
        }
      ]
    },
    {
      "cell_type": "code",
      "source": [
        "\n",
        "feasibles = {\n",
        "    'a': (left_hand_values['a'] <= right_hand_values).all(),\n",
        "    'b': (left_hand_values['b'] <= right_hand_values).all(),\n",
        "    'c': (left_hand_values['c'] <= right_hand_values).all(),\n",
        "    'd': (left_hand_values['d'] <= right_hand_values).all(),\n",
        "}\n",
        "\n",
        "zvalues = {letter: solutions[letter].dot(objective_coefficients) for letter, feasible in feasibles.items() if  feasible}"
      ],
      "metadata": {
        "id": "chR-bekPbZ0-"
      },
      "id": "chR-bekPbZ0-",
      "execution_count": 44,
      "outputs": []
    },
    {
      "cell_type": "code",
      "source": [
        "print(zvalues)"
      ],
      "metadata": {
        "colab": {
          "base_uri": "https://localhost:8080/"
        },
        "id": "6JUYnCTMejpQ",
        "outputId": "b552150a-fef0-43b7-e9e0-f34328963aed"
      },
      "id": "6JUYnCTMejpQ",
      "execution_count": 49,
      "outputs": [
        {
          "output_type": "stream",
          "name": "stdout",
          "text": [
            "{'b': 18, 'c': 21.0, 'd': 14}\n"
          ]
        }
      ]
    },
    {
      "cell_type": "code",
      "source": [
        "best_result = sorted(zvalues.items(), key=lambda t:t[1], reverse=True)[0]\n",
        "best_name, best_value = best_result\n",
        "outdoor_production, indoor_production = solutions[best_name]\n",
        "print(f'The decision is to manufacture {outdoor_production} tons of outdoor painting, and {indoor_production} tons of indoor painting with a profit of: {best_value * 1000:,.2f} dollars')"
      ],
      "metadata": {
        "colab": {
          "base_uri": "https://localhost:8080/"
        },
        "id": "W4QKIe2VZNEO",
        "outputId": "688e07a3-558f-4dfe-e8a6-5a0315f1670c"
      },
      "id": "W4QKIe2VZNEO",
      "execution_count": 64,
      "outputs": [
        {
          "output_type": "stream",
          "name": "stdout",
          "text": [
            "The decision is to manufacture 3.0 tons of outdoor painting, and 1.5 tons of indoor painting with a profit of: 21,000.00 dollars\n"
          ]
        }
      ]
    },
    {
      "cell_type": "markdown",
      "id": "72af8cd2",
      "metadata": {
        "id": "72af8cd2"
      },
      "source": [
        "3. Para la solución factible $x_1 = 2$, $x_2 = 2$ del modelo de Reddy Mikks, determine las cantidades no usadas de las materias primas $M_1$ y $M_2$."
      ]
    },
    {
      "cell_type": "code",
      "execution_count": 72,
      "id": "07850845",
      "metadata": {
        "id": "07850845",
        "colab": {
          "base_uri": "https://localhost:8080/"
        },
        "outputId": "d862336c-2f4f-47a2-f14a-3632cb155e9b"
      },
      "outputs": [
        {
          "output_type": "stream",
          "name": "stdout",
          "text": [
            "Non-used materials: 4 tons for M1 and 0 tons for M2\n"
          ]
        }
      ],
      "source": [
        "raw_materials_comsumption = constraints_evaluation(np.array([2, 2]), coefficients_constraints[:2])\n",
        "raw_materials_availability = right_hand_values[:2]\n",
        "non_used_M1, non_used_M2 = raw_materials_availability - raw_materials_comsumption\n",
        "print(f'Non-used materials: {non_used_M1} tons for M1 and {non_used_M2} tons for M2')"
      ]
    },
    {
      "cell_type": "markdown",
      "id": "0a46eec9",
      "metadata": {
        "id": "0a46eec9"
      },
      "source": [
        "4. Suponga que Reddy Mikks vende su pintura para exteriores a un solo mayorista con un descuento. La utilidad por tonelada es de \\\\$5000 si el contratista compra no más de 2 toneladas diarias, y de \\\\$4500 en los demás casos. Exprese matemáticamente la función objetivo. ¿Es lineal la función resultante?\n",
        "\n",
        "La función resultante es:\n",
        "\n",
        "$$Z =\n",
        "\\begin{cases}\n",
        "5x_1 + 4x_2 & x_1 \\leq 2\\\\[3mm]\n",
        "4.5x_1 + 4x_2 & x_1 > 2\\\\[3mm]\n",
        "\\end{cases}\n",
        "$$\n",
        "\n",
        "La función no es lineal"
      ]
    },
    {
      "cell_type": "code",
      "execution_count": null,
      "id": "3a857683",
      "metadata": {
        "id": "3a857683"
      },
      "outputs": [],
      "source": []
    }
  ],
  "metadata": {
    "kernelspec": {
      "display_name": "Python 3 (ipykernel)",
      "language": "python",
      "name": "python3"
    },
    "language_info": {
      "codemirror_mode": {
        "name": "ipython",
        "version": 3
      },
      "file_extension": ".py",
      "mimetype": "text/x-python",
      "name": "python",
      "nbconvert_exporter": "python",
      "pygments_lexer": "ipython3",
      "version": "3.10.9"
    },
    "colab": {
      "provenance": []
    }
  },
  "nbformat": 4,
  "nbformat_minor": 5
}