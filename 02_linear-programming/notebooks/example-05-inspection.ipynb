{
 "cells": [
  {
   "cell_type": "markdown",
   "id": "39d76b10",
   "metadata": {},
   "source": [
    "# 05. Inspección\n",
    "\n",
    "Una empresa tiene dos grados de inspectores, I y II para llevar a cabo la inspección de control de calidad. Se deben inspeccionar al menos 1,500 piezas en un día de 8 horas. El inspector de grado I puede verificar 20 piezas en una hora con una precisión del 96 %. El inspector grado II verifica 14 piezas por hora con un precisión del 92 %. Los salarios del inspector de grado I son \\\\$ 5 por hora, mientras que los del inspector grado II son \\\\$ 4 por hora. Cualquier error cometido por un inspector cuesta \\\\$ 3 a la empresa. Si hay, en total, 10 inspectores grado I y 15 inspectores de grado II en la empresa, encuentre la asignación óptima de inspectores que minimiza el costo diario de inspección"
   ]
  },
  {
   "cell_type": "markdown",
   "id": "da26acac",
   "metadata": {},
   "source": [
    "## Modelo"
   ]
  }
 ],
 "metadata": {
  "kernelspec": {
   "display_name": "optimization",
   "language": "python",
   "name": "optimization"
  },
  "language_info": {
   "codemirror_mode": {
    "name": "ipython",
    "version": 3
   },
   "file_extension": ".py",
   "mimetype": "text/x-python",
   "name": "python",
   "nbconvert_exporter": "python",
   "pygments_lexer": "ipython3",
   "version": "3.8.5"
  }
 },
 "nbformat": 4,
 "nbformat_minor": 5
}
