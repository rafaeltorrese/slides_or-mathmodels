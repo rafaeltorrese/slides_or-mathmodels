{
 "cells": [
  {
   "cell_type": "markdown",
   "id": "39d76b10",
   "metadata": {},
   "source": [
    "# 04. Selección de Medios\n",
    "\n",
    "Una empresa de publicidad desea planificar su estrategia publicitaria en tres medios diferentes de televisión, radio y revistas. El objetivo de la publicidad es llegar al mayor\n",
    "número posible de clientes posibles. Se han obtenido los siguientes datos de una encuesta de mercado:\n",
    "\n",
    "| |Television| Radio | Magazine I| Magazine II|\n",
    "|---|---|---|---|---|\n",
    "|Cost of and advertising unit| 30000| 20000| 15000| 10000|\n",
    "|No. of potential customers| | | | |\n",
    "|reached per unit| 200000| 600000| 150000| 100000|\n",
    "|No. of female customers| | | | |\n",
    "|reached per unit| 150000| 400000| 70000| 50000|\n",
    "\n",
    "La compañía quiere gastar no más de $ 450,000 en publicidad. Los siguientes son los requisitos adicionales que deben cumplirse: \n",
    "\n",
    "1. se producen al menos 1 millón de exposiciones entre clientes femeninas, \n",
    "1. la publicidad en revistas se limitará a \\\\$ 150,000 \n",
    "1. se deben comprar al menos 3 unidades publicitarias en la revista I y 2 unidades en la revista II \n",
    "1. el número de unidades publicitarias en televisión y radio debe ser entre 5 y 10 cada uno"
   ]
  },
  {
   "cell_type": "markdown",
   "id": "da26acac",
   "metadata": {},
   "source": [
    "## Modelo"
   ]
  }
 ],
 "metadata": {
  "kernelspec": {
   "display_name": "optimization",
   "language": "python",
   "name": "optimization"
  },
  "language_info": {
   "codemirror_mode": {
    "name": "ipython",
    "version": 3
   },
   "file_extension": ".py",
   "mimetype": "text/x-python",
   "name": "python",
   "nbconvert_exporter": "python",
   "pygments_lexer": "ipython3",
   "version": "3.8.5"
  }
 },
 "nbformat": 4,
 "nbformat_minor": 5
}
